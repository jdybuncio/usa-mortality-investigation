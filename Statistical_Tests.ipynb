{
 "cells": [
  {
   "cell_type": "code",
   "execution_count": 1,
   "metadata": {},
   "outputs": [],
   "source": [
    "import numpy as np\n",
    "import matplotlib.pyplot as plt\n",
    "import pandas as pd\n",
    "import matplotlib\n",
    "import scipy.stats as stats"
   ]
  },
  {
   "cell_type": "code",
   "execution_count": 2,
   "metadata": {},
   "outputs": [],
   "source": [
    "%matplotlib inline\n",
    "# Always make it pretty.\n",
    "plt.style.use('ggplot')\n",
    "font = {'weight': 'bold',\n",
    "        'size':   16}\n",
    "plt.rc('font', **font)"
   ]
  },
  {
   "cell_type": "code",
   "execution_count": 3,
   "metadata": {},
   "outputs": [],
   "source": [
    "df_national_official = pd.read_csv('data/national_cdc_pandas_df.csv', index_col=0)"
   ]
  },
  {
   "cell_type": "code",
   "execution_count": 4,
   "metadata": {},
   "outputs": [],
   "source": [
    "df_states_official = pd.read_csv('data/states_cdc_pandas_df.csv', index_col=0)"
   ]
  },
  {
   "cell_type": "code",
   "execution_count": 5,
   "metadata": {},
   "outputs": [],
   "source": [
    "#Create List of Weeks 1-11\n",
    "week_labels = list(df_national_official['Week'].unique())\n",
    "week_labels.sort()\n",
    "weeks_to_9 = week_labels[:9]\n",
    "weeks_to_10 = week_labels[:10]\n",
    "weeks_to_11 = week_labels[:11]\n",
    "weeks_to_12 = week_labels[:12]"
   ]
  },
  {
   "cell_type": "code",
   "execution_count": 6,
   "metadata": {},
   "outputs": [],
   "source": [
    "#Create List of Yrs 2014-2020\n",
    "years = list(df_national_official['Calendar_year'].unique())\n",
    "years.sort()\n",
    "years = years[1:]"
   ]
  },
  {
   "cell_type": "markdown",
   "metadata": {},
   "source": [
    "#### Create Lists of both Sample Statistics: Avg Death Rate & Avg PI % of all Deaths. Want to compare 2020 to 2019 and 2020 to 2014-2019"
   ]
  },
  {
   "cell_type": "code",
   "execution_count": 7,
   "metadata": {},
   "outputs": [],
   "source": [
    "dr_2020 = []\n",
    "dr_2019 = []\n",
    "dr_2014_19 = []\n",
    "\n",
    "dr_2020_v2 = []\n",
    "dr_2019_v2 = []\n",
    "dr_2014_19_v2 = []\n",
    "\n",
    "dr_2020_v3 = []\n",
    "dr_2019_v3 = []\n",
    "dr_2014_19_v3 = []\n",
    "\n",
    "pi_2020 = []\n",
    "pi_2019 = []\n",
    "pi_2014_19 = []\n",
    "\n",
    "#Adding in Week 12, despite low percent completeness to get Pneumonia & Influenza data since it is % of Dead\n",
    "pi_2020_v2 = []\n",
    "pi_2019_v2 = []\n",
    "pi_2014_19_v2 = []"
   ]
  },
  {
   "cell_type": "code",
   "execution_count": 8,
   "metadata": {},
   "outputs": [],
   "source": [
    "for week in weeks_to_11:\n",
    "    for year in years:\n",
    "        mask = (df_national_official['Week'] == week) & \\\n",
    "                (df_national_official['Calendar_year'] == year)\n",
    "        df = df_national_official[mask]\n",
    "        \n",
    "        if year == 2020:\n",
    "            dr_2020.append(round(df['Deaths_per_hund_thou'].iloc[0],2))\n",
    "            pi_2020.append(round(df['Percent_p_i'].iloc[0],4))\n",
    "        elif year == 2019:\n",
    "            dr_2019.append(round(df['Deaths_per_hund_thou'].iloc[0],2))\n",
    "            pi_2019.append(round(df['Percent_p_i'].iloc[0],4))\n",
    "            dr_2014_19.append(round(df['Deaths_per_hund_thou'].iloc[0],2))\n",
    "            pi_2014_19.append(round(df['Percent_p_i'].iloc[0],4))\n",
    "        else:\n",
    "            dr_2014_19.append(round(df['Deaths_per_hund_thou'].iloc[0],2))\n",
    "            pi_2014_19.append(round(df['Percent_p_i'].iloc[0],4))"
   ]
  },
  {
   "cell_type": "code",
   "execution_count": 9,
   "metadata": {},
   "outputs": [],
   "source": [
    "for week in weeks_to_12:\n",
    "    for year in years:\n",
    "        mask = (df_national_official['Week'] == week) & \\\n",
    "                (df_national_official['Calendar_year'] == year)\n",
    "        df = df_national_official[mask]\n",
    "        \n",
    "        if year == 2020:\n",
    "            pi_2020_v2.append(round(df['Percent_p_i'].iloc[0],4))\n",
    "        elif year == 2019:\n",
    "            pi_2019_v2.append(round(df['Percent_p_i'].iloc[0],4))\n",
    "            pi_2014_19_v2.append(round(df['Percent_p_i'].iloc[0],4))\n",
    "        else:\n",
    "            pi_2014_19_v2.append(round(df['Percent_p_i'].iloc[0],4))"
   ]
  },
  {
   "cell_type": "code",
   "execution_count": 10,
   "metadata": {},
   "outputs": [],
   "source": [
    "for week in weeks_to_10:\n",
    "    for year in years:\n",
    "        mask = (df_national_official['Week'] == week) & \\\n",
    "                (df_national_official['Calendar_year'] == year)\n",
    "        df = df_national_official[mask]\n",
    "        \n",
    "        if year == 2020:\n",
    "            dr_2020_v2.append(round(df['Deaths_per_hund_thou'].iloc[0],2))\n",
    "            \n",
    "        elif year == 2019:\n",
    "            dr_2019_v2.append(round(df['Deaths_per_hund_thou'].iloc[0],2))\n",
    "            \n",
    "            dr_2014_19_v2.append(round(df['Deaths_per_hund_thou'].iloc[0],2))\n",
    "            \n",
    "        else:\n",
    "            dr_2014_19_v2.append(round(df['Deaths_per_hund_thou'].iloc[0],2))\n",
    "            "
   ]
  },
  {
   "cell_type": "code",
   "execution_count": 11,
   "metadata": {},
   "outputs": [],
   "source": [
    "for week in weeks_to_9:\n",
    "    for year in years:\n",
    "        mask = (df_national_official['Week'] == week) & \\\n",
    "                (df_national_official['Calendar_year'] == year)\n",
    "        df = df_national_official[mask]\n",
    "        \n",
    "        if year == 2020:\n",
    "            dr_2020_v3.append(round(df['Deaths_per_hund_thou'].iloc[0],2))\n",
    "            \n",
    "        elif year == 2019:\n",
    "            dr_2019_v3.append(round(df['Deaths_per_hund_thou'].iloc[0],2))\n",
    "            \n",
    "            dr_2014_19_v3.append(round(df['Deaths_per_hund_thou'].iloc[0],2))\n",
    "            \n",
    "        else:\n",
    "            dr_2014_19_v3.append(round(df['Deaths_per_hund_thou'].iloc[0],2))\n",
    "            "
   ]
  },
  {
   "cell_type": "markdown",
   "metadata": {},
   "source": [
    "### Before applying statistical tests, plot box plots to get early idea of what direction you want to test"
   ]
  },
  {
   "cell_type": "code",
   "execution_count": 12,
   "metadata": {},
   "outputs": [
    {
     "data": {
      "image/png": "[encoded data removed]",
      "text/plain": [
       "<Figure size 576x360 with 1 Axes>"
      ]
     },
     "metadata": {},
     "output_type": "display_data"
    }
   ],
   "source": [
    "fig, ax = plt.subplots(1, figsize=(8, 5))\n",
    "ax.boxplot([dr_2014_19, dr_2019, dr_2020])\n",
    "ax.set_xticks([1,2,3])\n",
    "ax.set_xticklabels(['2014-2019', '2019', '2020'])\n",
    "\n",
    "ax.set_title('Box Plot of Avg Weekly Death Rates by Year',fontsize = 12)\n",
    "ax.set_ylabel(\"Avg Wkly Death Rate (Deaths per 100k)\", fontsize = 12)\n",
    "plt.tight_layout()\n",
    "\n",
    "# ax.set_title(f'State: {state}. Weeks of Data: {len(state_dict[state])}',fontsize = 10)\n",
    "\n",
    "# Look into how to highlight outliers\n",
    "# Look into how to share titles across multiple plots"
   ]
  },
  {
   "cell_type": "code",
   "execution_count": 13,
   "metadata": {},
   "outputs": [
    {
     "data": {
      "image/png": "[encoded data removed]",
      "text/plain": [
       "<Figure size 864x360 with 2 Axes>"
      ]
     },
     "metadata": {},
     "output_type": "display_data"
    }
   ],
   "source": [
    "fig, axs = plt.subplots(1, 2, figsize=(12, 5))\n",
    "\n",
    "for idx, ax in enumerate(axs.flatten()):\n",
    "    if idx == 0:\n",
    "        ax.boxplot([pi_2014_19, pi_2019, pi_2020])\n",
    "        ax.set_xticks([1,2,3])\n",
    "        ax.set_xticklabels(['2014-2019', '2019', '2020'])\n",
    "#         ax.set_title('Box Plot of Avg Weekly % of Deaths caused by Pneumonia & Influenza',fontsize = 12)\n",
    "    elif idx == 1:\n",
    "        ax.boxplot([pi_2014_19_v2, pi_2019_v2, pi_2020_v2])\n",
    "        ax.set_xticks([1,2,3])\n",
    "        ax.set_xticklabels(['2014-2019', '2019', '2020']) \n",
    "#         axs.set_title('Box Plot of Avg Weekly % of Deaths caused by Pneumonia & Influenza Incl Week 12',fontsize = 12)\n"
   ]
  },
  {
   "cell_type": "markdown",
   "metadata": {},
   "source": [
    "### Statistical Tests #1: National Death Rates.  Sample Sizes are 11. Sample Statistic is Mean Weekly Death Rate. Sample size is not larger than 30 and samples are not identically calculated (population changes) nor independent (seasonality). Thus I cannot infer CLT and assum Sample Statistic follows normal Dist.  Therefore, I can do non-parametric tests.  I will still do T-Test as well to just check and potentally bootstrapping"
   ]
  },
  {
   "cell_type": "markdown",
   "metadata": {},
   "source": [
    "> Null Hypothesis 1: 2019's Death Rate is equaliy likely to be higher than 2020's as the other way around. I.e.\n",
    "    $P(\\text{Die in a week in 2019 > Die in a week in 2020}) = 0.50 $\n",
    "\n",
    "> Null Hypothesis 2: 2014's Death Rate is equaliy likely to be higher than 2020's as the other way around. I.e.\n",
    "    $P(\\text{Die in a week in 2014-2019 > Die in a week in 2020}) = 0.50 $\n",
    "\n",
    "> Chosen Alpha: 0.01"
   ]
  },
  {
   "cell_type": "markdown",
   "metadata": {},
   "source": [
    "### Mann-Whitney Signed Rank Test"
   ]
  },
  {
   "cell_type": "code",
   "execution_count": 14,
   "metadata": {},
   "outputs": [
    {
     "data": {
      "text/plain": [
       "MannwhitneyuResult(statistic=99.0, pvalue=0.006243169566795771)"
      ]
     },
     "execution_count": 14,
     "metadata": {},
     "output_type": "execute_result"
    }
   ],
   "source": [
    "stats.mannwhitneyu(dr_2019, dr_2020, alternative=\"greater\")\n"
   ]
  },
  {
   "cell_type": "code",
   "execution_count": 15,
   "metadata": {},
   "outputs": [
    {
     "data": {
      "text/plain": [
       "MannwhitneyuResult(statistic=562.0, pvalue=0.0019271208503696576)"
      ]
     },
     "execution_count": 15,
     "metadata": {},
     "output_type": "execute_result"
    }
   ],
   "source": [
    "stats.mannwhitneyu(dr_2014_19, dr_2020, alternative=\"greater\")\n"
   ]
  },
  {
   "cell_type": "code",
   "execution_count": 16,
   "metadata": {},
   "outputs": [
    {
     "data": {
      "text/plain": [
       "MannwhitneyuResult(statistic=80.0, pvalue=0.012790648078739504)"
      ]
     },
     "execution_count": 16,
     "metadata": {},
     "output_type": "execute_result"
    }
   ],
   "source": [
    "#test excluding Week 11 - outlier\n",
    "stats.mannwhitneyu(dr_2019_v2, dr_2020_v2, alternative=\"greater\")\n"
   ]
  },
  {
   "cell_type": "code",
   "execution_count": 17,
   "metadata": {},
   "outputs": [
    {
     "data": {
      "text/plain": [
       "MannwhitneyuResult(statistic=63.0, pvalue=0.025908235684109524)"
      ]
     },
     "execution_count": 17,
     "metadata": {},
     "output_type": "execute_result"
    }
   ],
   "source": [
    "#test excluding Week 10 and 11\n",
    "stats.mannwhitneyu(dr_2019_v3, dr_2020_v3, alternative=\"greater\")\n"
   ]
  },
  {
   "cell_type": "code",
   "execution_count": 18,
   "metadata": {},
   "outputs": [
    {
     "data": {
      "text/plain": [
       "MannwhitneyuResult(statistic=463.0, pvalue=0.003189596704303478)"
      ]
     },
     "execution_count": 18,
     "metadata": {},
     "output_type": "execute_result"
    }
   ],
   "source": [
    "#test excluding Week 11 - outlier\n",
    "stats.mannwhitneyu(dr_2014_19_v2, dr_2020_v2, alternative=\"greater\")\n"
   ]
  },
  {
   "cell_type": "code",
   "execution_count": 19,
   "metadata": {},
   "outputs": [
    {
     "data": {
      "text/plain": [
       "MannwhitneyuResult(statistic=1458.0, pvalue=0.5012259146992846)"
      ]
     },
     "execution_count": 19,
     "metadata": {},
     "output_type": "execute_result"
    }
   ],
   "source": [
    "#test excluding Week 10 and 11\n",
    "stats.mannwhitneyu(dr_2014_19_v3, dr_2014_19_v3, alternative=\"greater\")\n"
   ]
  },
  {
   "cell_type": "markdown",
   "metadata": {},
   "source": [
    "## Welsh T-Test to just see"
   ]
  },
  {
   "cell_type": "code",
   "execution_count": 20,
   "metadata": {},
   "outputs": [
    {
     "data": {
      "text/plain": [
       "Ttest_indResult(statistic=3.439862586764269, pvalue=0.006220009268575825)"
      ]
     },
     "execution_count": 20,
     "metadata": {},
     "output_type": "execute_result"
    }
   ],
   "source": [
    "stats.ttest_ind(dr_2019,dr_2020, equal_var = False)"
   ]
  },
  {
   "cell_type": "code",
   "execution_count": 21,
   "metadata": {},
   "outputs": [
    {
     "data": {
      "text/plain": [
       "Ttest_indResult(statistic=3.2065012402818165, pvalue=0.007155930036471277)"
      ]
     },
     "execution_count": 21,
     "metadata": {},
     "output_type": "execute_result"
    }
   ],
   "source": [
    "stats.ttest_ind(dr_2014_19,dr_2020, equal_var = False)"
   ]
  },
  {
   "cell_type": "code",
   "execution_count": 22,
   "metadata": {},
   "outputs": [
    {
     "data": {
      "text/plain": [
       "Ttest_indResult(statistic=3.6334696212141404, pvalue=0.0052423817047300425)"
      ]
     },
     "execution_count": 22,
     "metadata": {},
     "output_type": "execute_result"
    }
   ],
   "source": [
    "#test excluding Week 11 - outlier\n",
    "stats.ttest_ind(dr_2019_v2,dr_2020_v2, equal_var = False)"
   ]
  },
  {
   "cell_type": "code",
   "execution_count": 23,
   "metadata": {},
   "outputs": [
    {
     "data": {
      "text/plain": [
       "Ttest_indResult(statistic=3.435956023077149, pvalue=0.004109491206912265)"
      ]
     },
     "execution_count": 23,
     "metadata": {},
     "output_type": "execute_result"
    }
   ],
   "source": [
    "#test excluding Week 11 - outlier\n",
    "stats.ttest_ind(dr_2014_19_v2,dr_2020_v2, equal_var = False)"
   ]
  },
  {
   "cell_type": "markdown",
   "metadata": {},
   "source": [
    "### Statistical Tests #2: % of Death due to Influenza & Pneumonia.  Sample Sizes are 11. Sample Statistic is Avg % of Deaths due to Influenza & Pneumonia. Sample size is not larger than 30. One could potentially argue samplesis   identically distributed, but not independent (seasonality). Thus I cannot infer CLT and assum Sample Statistic follows normal Dist.  Therefore, I can do non-parametric tests.  I will still do T-Test as well to just check and potentally bootstrapping"
   ]
  },
  {
   "cell_type": "markdown",
   "metadata": {},
   "source": [
    "> Null Hypothesis 1: 2020's I&P % of Deaths is equaliy likely to be higher than 2019's as the other way around. I.e.\n",
    "    $P(\\text{Pct Deaths due to Influenza+Pneum in 2020 > Pct Deaths due to Influenza+Pneum in 2019}) = 0.50 $\n",
    "\n",
    "> Null Hypothesis 1: 2020's I&P % of Deaths is equaliy likely to be higher than 2014-19's as the other way around. I.e.\n",
    "    $P(\\text{Pct Deaths due to Influenza+Pneum in 2020 > Pct Deaths due to Influenza+Pneum in 2014-19}) = 0.50 $\n",
    "\n",
    "\n",
    "> Chosen Alpha: 0.01"
   ]
  },
  {
   "cell_type": "markdown",
   "metadata": {},
   "source": [
    "### Mann-Whitney Signed Rank Test"
   ]
  },
  {
   "cell_type": "code",
   "execution_count": 24,
   "metadata": {},
   "outputs": [
    {
     "data": {
      "text/plain": [
       "MannwhitneyuResult(statistic=63.5, pvalue=0.8677016699851804)"
      ]
     },
     "execution_count": 24,
     "metadata": {},
     "output_type": "execute_result"
    }
   ],
   "source": [
    "stats.mannwhitneyu(pi_2020, pi_2019, alternative=\"two-sided\")"
   ]
  },
  {
   "cell_type": "code",
   "execution_count": 25,
   "metadata": {},
   "outputs": [
    {
     "data": {
      "text/plain": [
       "MannwhitneyuResult(statistic=91.5, pvalue=7.782386690809188e-05)"
      ]
     },
     "execution_count": 25,
     "metadata": {},
     "output_type": "execute_result"
    }
   ],
   "source": [
    "stats.mannwhitneyu(pi_2020, pi_2014_19, alternative=\"two-sided\")"
   ]
  },
  {
   "cell_type": "code",
   "execution_count": 26,
   "metadata": {},
   "outputs": [
    {
     "data": {
      "text/plain": [
       "MannwhitneyuResult(statistic=79.0, pvalue=0.7033658936618321)"
      ]
     },
     "execution_count": 26,
     "metadata": {},
     "output_type": "execute_result"
    }
   ],
   "source": [
    "#Including Week 12\n",
    "stats.mannwhitneyu(pi_2020_v2, pi_2019_v2, alternative=\"two-sided\")"
   ]
  },
  {
   "cell_type": "code",
   "execution_count": 27,
   "metadata": {},
   "outputs": [
    {
     "data": {
      "text/plain": [
       "MannwhitneyuResult(statistic=145.0, pvalue=0.00024372604605772902)"
      ]
     },
     "execution_count": 27,
     "metadata": {},
     "output_type": "execute_result"
    }
   ],
   "source": [
    "#Including Week 12\n",
    "stats.mannwhitneyu(pi_2020_v2, pi_2014_19_v2, alternative=\"two-sided\")"
   ]
  },
  {
   "cell_type": "markdown",
   "metadata": {},
   "source": [
    "## Welsh T-Test to just see\n"
   ]
  },
  {
   "cell_type": "code",
   "execution_count": 28,
   "metadata": {},
   "outputs": [
    {
     "data": {
      "text/plain": [
       "Ttest_indResult(statistic=0.10758287072797784, pvalue=0.9154076400969492)"
      ]
     },
     "execution_count": 28,
     "metadata": {},
     "output_type": "execute_result"
    }
   ],
   "source": [
    "stats.ttest_ind(pi_2020,pi_2019, equal_var = False)"
   ]
  },
  {
   "cell_type": "code",
   "execution_count": 29,
   "metadata": {},
   "outputs": [
    {
     "data": {
      "text/plain": [
       "Ttest_indResult(statistic=-7.709665439198676, pvalue=4.550662709961921e-11)"
      ]
     },
     "execution_count": 29,
     "metadata": {},
     "output_type": "execute_result"
    }
   ],
   "source": [
    "stats.ttest_ind(pi_2020,pi_2014_19, equal_var = False)"
   ]
  },
  {
   "cell_type": "code",
   "execution_count": 30,
   "metadata": {},
   "outputs": [
    {
     "data": {
      "text/plain": [
       "Ttest_indResult(statistic=0.6584052983883292, pvalue=0.5179603434165234)"
      ]
     },
     "execution_count": 30,
     "metadata": {},
     "output_type": "execute_result"
    }
   ],
   "source": [
    "stats.ttest_ind(pi_2020_v2,pi_2019_v2, equal_var = False)"
   ]
  },
  {
   "cell_type": "code",
   "execution_count": 31,
   "metadata": {},
   "outputs": [
    {
     "data": {
      "text/plain": [
       "Ttest_indResult(statistic=-6.403700020419153, pvalue=2.3757015484990545e-08)"
      ]
     },
     "execution_count": 31,
     "metadata": {},
     "output_type": "execute_result"
    }
   ],
   "source": [
    "stats.ttest_ind(pi_2020_v2,pi_2014_19_v2, equal_var = False)"
   ]
  }
 ],
 "metadata": {
  "kernelspec": {
   "display_name": "Python 3",
   "language": "python",
   "name": "python3"
  },
  "language_info": {
   "codemirror_mode": {
    "name": "ipython",
    "version": 3
   },
   "file_extension": ".py",
   "mimetype": "text/x-python",
   "name": "python",
   "nbconvert_exporter": "python",
   "pygments_lexer": "ipython3",
   "version": "3.7.4"
  }
 },
 "nbformat": 4,
 "nbformat_minor": 2
}
