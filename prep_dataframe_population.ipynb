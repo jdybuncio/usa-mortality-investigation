{
 "cells": [
  {
   "cell_type": "code",
   "execution_count": 90,
   "metadata": {},
   "outputs": [],
   "source": [
    "import pandas as pd\n",
    "import numpy as np"
   ]
  },
  {
   "cell_type": "code",
   "execution_count": 91,
   "metadata": {},
   "outputs": [],
   "source": [
    "df_pop = pd.read_csv(\"data/nst-est2019-alldata.csv\")"
   ]
  },
  {
   "cell_type": "code",
   "execution_count": 92,
   "metadata": {},
   "outputs": [],
   "source": [
    "# Set an ending Year\n",
    "ending_year = 2020"
   ]
  },
  {
   "cell_type": "code",
   "execution_count": 93,
   "metadata": {},
   "outputs": [],
   "source": [
    "# Extract only Name, Population and Net Change columns\n",
    "pop_years = ['POPESTIMATE' + str(year) for year in list(range(2013,ending_year))]\n",
    "pop_change = ['NPOPCHG_' + str(year) for year in list(range(2013,ending_year)) ]\n",
    "name_col = ['NAME']\n",
    "\n",
    "columns = name_col + pop_years + pop_change\n",
    "df_pop = df_pop[columns]\n"
   ]
  },
  {
   "cell_type": "code",
   "execution_count": 94,
   "metadata": {},
   "outputs": [],
   "source": [
    "# Calculate and Add 2020 Population Estimate\n",
    "df_pop['pop_chg_avg'] = df_pop[['NPOPCHG_2018', 'NPOPCHG_2019']].mean(axis=1)\n",
    "df_pop['POPESTIMATE2020'] = (df_pop['POPESTIMATE2019'] + df_pop['pop_chg_avg']).astype('int')"
   ]
  },
  {
   "cell_type": "code",
   "execution_count": 95,
   "metadata": {},
   "outputs": [],
   "source": [
    "# Extract Desired Columns only\n",
    "pop_years.append('POPESTIMATE2020')\n",
    "columns = name_col + pop_years\n",
    "df_pop = df_pop[columns]\n"
   ]
  },
  {
   "cell_type": "code",
   "execution_count": 96,
   "metadata": {},
   "outputs": [],
   "source": [
    "# Rename Year Columns\n",
    "pop_years_clean = [str(year) for year in list(range(2013,ending_year+1))]\n",
    "name_col_clean = ['Name']\n",
    "column_names = name_col_clean + pop_years_clean\n",
    "df_pop.columns = column_names"
   ]
  },
  {
   "cell_type": "code",
   "execution_count": 97,
   "metadata": {},
   "outputs": [],
   "source": [
    "# Melt Data Frame so there is a row for every Year and Population and rename\n",
    "df_pop = pd.melt(df_pop, id_vars=['Name'], value_vars=pop_years_clean)\n",
    "df_pop.rename(columns = {'variable' : 'Calendar_year', 'value' : 'Population'}, inplace = True)"
   ]
  },
  {
   "cell_type": "code",
   "execution_count": 101,
   "metadata": {},
   "outputs": [],
   "source": [
    "# Changed United States Values to National to match with CDC dataframes\n",
    "df_pop = df_pop.replace('United States', 'National')"
   ]
  },
  {
   "cell_type": "code",
   "execution_count": 102,
   "metadata": {},
   "outputs": [],
   "source": [
    "df_pop.to_csv('data/population_df.csv')"
   ]
  },
  {
   "cell_type": "code",
   "execution_count": null,
   "metadata": {},
   "outputs": [],
   "source": []
  }
 ],
 "metadata": {
  "kernelspec": {
   "display_name": "Python 3",
   "language": "python",
   "name": "python3"
  },
  "language_info": {
   "codemirror_mode": {
    "name": "ipython",
    "version": 3
   },
   "file_extension": ".py",
   "mimetype": "text/x-python",
   "name": "python",
   "nbconvert_exporter": "python",
   "pygments_lexer": "ipython3",
   "version": "3.7.4"
  }
 },
 "nbformat": 4,
 "nbformat_minor": 2
}
