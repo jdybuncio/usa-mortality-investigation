{
 "cells": [
  {
   "cell_type": "code",
   "execution_count": 59,
   "metadata": {},
   "outputs": [],
   "source": [
    "import pandas as pd\n",
    "import numpy as np"
   ]
  },
  {
   "cell_type": "markdown",
   "metadata": {},
   "source": [
    "## National CDC Dataframe creation"
   ]
  },
  {
   "cell_type": "code",
   "execution_count": 50,
   "metadata": {},
   "outputs": [],
   "source": [
    "df_national = pd.read_csv(\"data/National_Custom_Data.csv\")"
   ]
  },
  {
   "cell_type": "code",
   "execution_count": 51,
   "metadata": {},
   "outputs": [],
   "source": [
    "#CDC will add 'Insufficient Data' as a value in columns\n",
    "df_national = df_national[df_national['TOTAL DEATHS'] != 'Insufficient Data']"
   ]
  },
  {
   "cell_type": "code",
   "execution_count": 52,
   "metadata": {},
   "outputs": [],
   "source": [
    "#CDC data has commas in numbers\n",
    "df_national = df_national.replace(to_replace =',', value = '', regex = True) \n"
   ]
  },
  {
   "cell_type": "code",
   "execution_count": 53,
   "metadata": {},
   "outputs": [],
   "source": [
    "#rename columns to remove spaces\n",
    "column_list = df_national.columns\n",
    "new_column_names = []\n",
    "for column in column_list:\n",
    "    new_column_name = column.capitalize().replace(' ','_').replace('&','_')\n",
    "    new_column_names.append(new_column_name)\n",
    "\n",
    "df_national.columns  = new_column_names"
   ]
  },
  {
   "cell_type": "code",
   "execution_count": 54,
   "metadata": {},
   "outputs": [],
   "source": [
    "#convert appropriate columns to ints and floats\n",
    "df_national[['Num_influenza_deaths','Num_pneumonia_deaths','Total_deaths']] = \\\n",
    "df_national[['Num_influenza_deaths','Num_pneumonia_deaths','Total_deaths']].astype(int)\n",
    "\n",
    "df_national['Percent_p_i'] = df_national['Percent_p_i']/100\n",
    "df_national['Threshold'] = df_national['Threshold']/100\n",
    "df_national['Baseline'] = df_national['Baseline']/100\n",
    "\n",
    "df_national['Percent_complete'] = df_national['Percent_complete'].str.replace('> 100%', '100%', regex=False)\n",
    "df_national['Percent_complete'] = df_national['Percent_complete'].str.rstrip('%').astype('float') / 100.0"
   ]
  },
  {
   "cell_type": "code",
   "execution_count": 55,
   "metadata": {},
   "outputs": [],
   "source": [
    "#add Calendar_year column\n",
    "conditions = [\n",
    "    df_national['Week']<40,\n",
    "    df_national['Week']>=40    \n",
    "]\n",
    "\n",
    "df_national['First_year'] = df_national['Season'].apply(lambda x: int(x[0:4])) \n",
    "df_national['Second_year'] = df_national['Season'].apply(lambda x: int(x[0:4])+1) \n",
    "choices = [df_national['Second_year'],df_national['First_year']]\n",
    "df_national['Calendar_year'] = np.select(conditions,choices)\n",
    "df_national['Calendar_year'] = df_national['Calendar_year'].astype(int) "
   ]
  },
  {
   "cell_type": "code",
   "execution_count": 56,
   "metadata": {},
   "outputs": [],
   "source": [
    "#drop unused columns\n",
    "df_national = df_national.drop('First_year', axis = 1)\n",
    "df_national = df_national.drop('Second_year', axis = 1)\n",
    "df_national = df_national.drop('Sub_area', axis = 1)\n",
    "df_national = df_national.drop('Age_group', axis = 1)\n",
    "\n",
    "                 "
   ]
  },
  {
   "cell_type": "code",
   "execution_count": 57,
   "metadata": {},
   "outputs": [],
   "source": [
    "#sort values and reset index\n",
    "df_national = df_national.sort_values(['Calendar_year','Week']).reset_index()\n",
    "df_national = df_national.drop('index', axis = 1)\n"
   ]
  },
  {
   "cell_type": "code",
   "execution_count": 58,
   "metadata": {},
   "outputs": [],
   "source": [
    "#save dataframe as csv file to be used in other files\n",
    "df_national.to_csv('data/national_cdc_pandas_df.csv')"
   ]
  }
 ],
 "metadata": {
  "kernelspec": {
   "display_name": "Python 3",
   "language": "python",
   "name": "python3"
  },
  "language_info": {
   "codemirror_mode": {
    "name": "ipython",
    "version": 3
   },
   "file_extension": ".py",
   "mimetype": "text/x-python",
   "name": "python",
   "nbconvert_exporter": "python",
   "pygments_lexer": "ipython3",
   "version": "3.7.4"
  }
 },
 "nbformat": 4,
 "nbformat_minor": 2
}
