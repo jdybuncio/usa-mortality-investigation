{
 "cells": [
  {
   "cell_type": "code",
   "execution_count": 135,
   "metadata": {},
   "outputs": [],
   "source": [
    "import numpy as np\n",
    "import matplotlib.pyplot as plt\n",
    "import pandas as pd\n",
    "import matplotlib"
   ]
  },
  {
   "cell_type": "code",
   "execution_count": 2,
   "metadata": {},
   "outputs": [],
   "source": [
    "%matplotlib inline\n",
    "# Always make it pretty.\n",
    "plt.style.use('ggplot')\n",
    "font = {'weight': 'bold',\n",
    "        'size':   16}\n",
    "plt.rc('font', **font)"
   ]
  },
  {
   "cell_type": "markdown",
   "metadata": {},
   "source": [
    "## National Data Initial EDA"
   ]
  },
  {
   "cell_type": "code",
   "execution_count": 3,
   "metadata": {},
   "outputs": [],
   "source": [
    "df_national = pd.read_csv(\"data/National_Custom_Data.csv\", thousands =',')"
   ]
  },
  {
   "cell_type": "code",
   "execution_count": 4,
   "metadata": {},
   "outputs": [
    {
     "data": {
      "text/html": [
       "<div>\n",
       "<style scoped>\n",
       "    .dataframe tbody tr th:only-of-type {\n",
       "        vertical-align: middle;\n",
       "    }\n",
       "\n",
       "    .dataframe tbody tr th {\n",
       "        vertical-align: top;\n",
       "    }\n",
       "\n",
       "    .dataframe thead th {\n",
       "        text-align: right;\n",
       "    }\n",
       "</style>\n",
       "<table border=\"1\" class=\"dataframe\">\n",
       "  <thead>\n",
       "    <tr style=\"text-align: right;\">\n",
       "      <th></th>\n",
       "      <th>AREA</th>\n",
       "      <th>SUB AREA</th>\n",
       "      <th>AGE GROUP</th>\n",
       "      <th>SEASON</th>\n",
       "      <th>WEEK</th>\n",
       "      <th>THRESHOLD</th>\n",
       "      <th>BASELINE</th>\n",
       "      <th>PERCENT P&amp;I</th>\n",
       "      <th>NUM INFLUENZA DEATHS</th>\n",
       "      <th>NUM PNEUMONIA DEATHS</th>\n",
       "      <th>TOTAL DEATHS</th>\n",
       "      <th>PERCENT COMPLETE</th>\n",
       "    </tr>\n",
       "  </thead>\n",
       "  <tbody>\n",
       "    <tr>\n",
       "      <td>0</td>\n",
       "      <td>National</td>\n",
       "      <td>NaN</td>\n",
       "      <td>All</td>\n",
       "      <td>2019-20</td>\n",
       "      <td>40</td>\n",
       "      <td>5.7</td>\n",
       "      <td>5.3</td>\n",
       "      <td>5.2</td>\n",
       "      <td>16</td>\n",
       "      <td>2703</td>\n",
       "      <td>52452</td>\n",
       "      <td>&gt; 100%</td>\n",
       "    </tr>\n",
       "    <tr>\n",
       "      <td>1</td>\n",
       "      <td>National</td>\n",
       "      <td>NaN</td>\n",
       "      <td>All</td>\n",
       "      <td>2019-20</td>\n",
       "      <td>41</td>\n",
       "      <td>5.7</td>\n",
       "      <td>5.4</td>\n",
       "      <td>5.3</td>\n",
       "      <td>16</td>\n",
       "      <td>2769</td>\n",
       "      <td>52860</td>\n",
       "      <td>&gt; 100%</td>\n",
       "    </tr>\n",
       "    <tr>\n",
       "      <td>2</td>\n",
       "      <td>National</td>\n",
       "      <td>NaN</td>\n",
       "      <td>All</td>\n",
       "      <td>2019-20</td>\n",
       "      <td>42</td>\n",
       "      <td>5.8</td>\n",
       "      <td>5.5</td>\n",
       "      <td>5.5</td>\n",
       "      <td>18</td>\n",
       "      <td>2976</td>\n",
       "      <td>54129</td>\n",
       "      <td>&gt; 100%</td>\n",
       "    </tr>\n",
       "    <tr>\n",
       "      <td>3</td>\n",
       "      <td>National</td>\n",
       "      <td>NaN</td>\n",
       "      <td>All</td>\n",
       "      <td>2019-20</td>\n",
       "      <td>43</td>\n",
       "      <td>5.9</td>\n",
       "      <td>5.6</td>\n",
       "      <td>5.6</td>\n",
       "      <td>30</td>\n",
       "      <td>2985</td>\n",
       "      <td>53914</td>\n",
       "      <td>&gt; 100%</td>\n",
       "    </tr>\n",
       "    <tr>\n",
       "      <td>4</td>\n",
       "      <td>National</td>\n",
       "      <td>NaN</td>\n",
       "      <td>All</td>\n",
       "      <td>2019-20</td>\n",
       "      <td>44</td>\n",
       "      <td>6.0</td>\n",
       "      <td>5.7</td>\n",
       "      <td>5.4</td>\n",
       "      <td>31</td>\n",
       "      <td>2907</td>\n",
       "      <td>53980</td>\n",
       "      <td>&gt; 100%</td>\n",
       "    </tr>\n",
       "  </tbody>\n",
       "</table>\n",
       "</div>"
      ],
      "text/plain": [
       "       AREA  SUB AREA AGE GROUP   SEASON  WEEK  THRESHOLD  BASELINE  \\\n",
       "0  National       NaN       All  2019-20    40        5.7       5.3   \n",
       "1  National       NaN       All  2019-20    41        5.7       5.4   \n",
       "2  National       NaN       All  2019-20    42        5.8       5.5   \n",
       "3  National       NaN       All  2019-20    43        5.9       5.6   \n",
       "4  National       NaN       All  2019-20    44        6.0       5.7   \n",
       "\n",
       "   PERCENT P&I  NUM INFLUENZA DEATHS  NUM PNEUMONIA DEATHS  TOTAL DEATHS  \\\n",
       "0          5.2                    16                  2703         52452   \n",
       "1          5.3                    16                  2769         52860   \n",
       "2          5.5                    18                  2976         54129   \n",
       "3          5.6                    30                  2985         53914   \n",
       "4          5.4                    31                  2907         53980   \n",
       "\n",
       "  PERCENT COMPLETE  \n",
       "0           > 100%  \n",
       "1           > 100%  \n",
       "2           > 100%  \n",
       "3           > 100%  \n",
       "4           > 100%  "
      ]
     },
     "execution_count": 4,
     "metadata": {},
     "output_type": "execute_result"
    }
   ],
   "source": [
    "df_national.head()"
   ]
  },
  {
   "cell_type": "code",
   "execution_count": 5,
   "metadata": {},
   "outputs": [
    {
     "data": {
      "text/plain": [
       "array(['All'], dtype=object)"
      ]
     },
     "execution_count": 5,
     "metadata": {},
     "output_type": "execute_result"
    }
   ],
   "source": [
    "df_national['AGE GROUP'].unique()\n",
    "# looks like no data is provided by age group at this level"
   ]
  },
  {
   "cell_type": "code",
   "execution_count": 6,
   "metadata": {},
   "outputs": [
    {
     "data": {
      "text/plain": [
       "Index(['AREA', 'SUB AREA', 'AGE GROUP', 'SEASON', 'WEEK', 'THRESHOLD',\n",
       "       'BASELINE', 'PERCENT P&I', 'NUM INFLUENZA DEATHS',\n",
       "       'NUM PNEUMONIA DEATHS', 'TOTAL DEATHS', 'PERCENT COMPLETE'],\n",
       "      dtype='object')"
      ]
     },
     "execution_count": 6,
     "metadata": {},
     "output_type": "execute_result"
    }
   ],
   "source": [
    "df_national.columns"
   ]
  },
  {
   "cell_type": "code",
   "execution_count": 7,
   "metadata": {},
   "outputs": [],
   "source": [
    "df_national.columns = ['Area', 'Sub_Area','Age_Group', \n",
    "                      'Season', 'Week', 'Threshold', 'Baseline'\n",
    "                     ,'Percent_P_I', 'Num_Influenza_Deaths',\n",
    "                     'Num_Pneumonia_Deaths','Total_Deaths', 'Percent_Complete']\n",
    "#rename columns to remove spaces"
   ]
  },
  {
   "cell_type": "code",
   "execution_count": 8,
   "metadata": {},
   "outputs": [
    {
     "data": {
      "text/plain": [
       "Index(['Area', 'Sub_Area', 'Age_Group', 'Season', 'Week', 'Threshold',\n",
       "       'Baseline', 'Percent_P_I', 'Num_Influenza_Deaths',\n",
       "       'Num_Pneumonia_Deaths', 'Total_Deaths', 'Percent_Complete'],\n",
       "      dtype='object')"
      ]
     },
     "execution_count": 8,
     "metadata": {},
     "output_type": "execute_result"
    }
   ],
   "source": [
    "df_national.columns"
   ]
  },
  {
   "cell_type": "code",
   "execution_count": 9,
   "metadata": {},
   "outputs": [
    {
     "data": {
      "text/html": [
       "<div>\n",
       "<style scoped>\n",
       "    .dataframe tbody tr th:only-of-type {\n",
       "        vertical-align: middle;\n",
       "    }\n",
       "\n",
       "    .dataframe tbody tr th {\n",
       "        vertical-align: top;\n",
       "    }\n",
       "\n",
       "    .dataframe thead th {\n",
       "        text-align: right;\n",
       "    }\n",
       "</style>\n",
       "<table border=\"1\" class=\"dataframe\">\n",
       "  <thead>\n",
       "    <tr style=\"text-align: right;\">\n",
       "      <th></th>\n",
       "      <th>Area</th>\n",
       "      <th>Sub_Area</th>\n",
       "      <th>Age_Group</th>\n",
       "      <th>Season</th>\n",
       "      <th>Week</th>\n",
       "      <th>Threshold</th>\n",
       "      <th>Baseline</th>\n",
       "      <th>Percent_P_I</th>\n",
       "      <th>Num_Influenza_Deaths</th>\n",
       "      <th>Num_Pneumonia_Deaths</th>\n",
       "      <th>Total_Deaths</th>\n",
       "      <th>Percent_Complete</th>\n",
       "    </tr>\n",
       "  </thead>\n",
       "  <tbody>\n",
       "    <tr>\n",
       "      <td>0</td>\n",
       "      <td>National</td>\n",
       "      <td>NaN</td>\n",
       "      <td>All</td>\n",
       "      <td>2019-20</td>\n",
       "      <td>40</td>\n",
       "      <td>5.7</td>\n",
       "      <td>5.3</td>\n",
       "      <td>5.2</td>\n",
       "      <td>16</td>\n",
       "      <td>2703</td>\n",
       "      <td>52452</td>\n",
       "      <td>&gt; 100%</td>\n",
       "    </tr>\n",
       "    <tr>\n",
       "      <td>1</td>\n",
       "      <td>National</td>\n",
       "      <td>NaN</td>\n",
       "      <td>All</td>\n",
       "      <td>2019-20</td>\n",
       "      <td>41</td>\n",
       "      <td>5.7</td>\n",
       "      <td>5.4</td>\n",
       "      <td>5.3</td>\n",
       "      <td>16</td>\n",
       "      <td>2769</td>\n",
       "      <td>52860</td>\n",
       "      <td>&gt; 100%</td>\n",
       "    </tr>\n",
       "    <tr>\n",
       "      <td>2</td>\n",
       "      <td>National</td>\n",
       "      <td>NaN</td>\n",
       "      <td>All</td>\n",
       "      <td>2019-20</td>\n",
       "      <td>42</td>\n",
       "      <td>5.8</td>\n",
       "      <td>5.5</td>\n",
       "      <td>5.5</td>\n",
       "      <td>18</td>\n",
       "      <td>2976</td>\n",
       "      <td>54129</td>\n",
       "      <td>&gt; 100%</td>\n",
       "    </tr>\n",
       "    <tr>\n",
       "      <td>3</td>\n",
       "      <td>National</td>\n",
       "      <td>NaN</td>\n",
       "      <td>All</td>\n",
       "      <td>2019-20</td>\n",
       "      <td>43</td>\n",
       "      <td>5.9</td>\n",
       "      <td>5.6</td>\n",
       "      <td>5.6</td>\n",
       "      <td>30</td>\n",
       "      <td>2985</td>\n",
       "      <td>53914</td>\n",
       "      <td>&gt; 100%</td>\n",
       "    </tr>\n",
       "    <tr>\n",
       "      <td>4</td>\n",
       "      <td>National</td>\n",
       "      <td>NaN</td>\n",
       "      <td>All</td>\n",
       "      <td>2019-20</td>\n",
       "      <td>44</td>\n",
       "      <td>6.0</td>\n",
       "      <td>5.7</td>\n",
       "      <td>5.4</td>\n",
       "      <td>31</td>\n",
       "      <td>2907</td>\n",
       "      <td>53980</td>\n",
       "      <td>&gt; 100%</td>\n",
       "    </tr>\n",
       "  </tbody>\n",
       "</table>\n",
       "</div>"
      ],
      "text/plain": [
       "       Area  Sub_Area Age_Group   Season  Week  Threshold  Baseline  \\\n",
       "0  National       NaN       All  2019-20    40        5.7       5.3   \n",
       "1  National       NaN       All  2019-20    41        5.7       5.4   \n",
       "2  National       NaN       All  2019-20    42        5.8       5.5   \n",
       "3  National       NaN       All  2019-20    43        5.9       5.6   \n",
       "4  National       NaN       All  2019-20    44        6.0       5.7   \n",
       "\n",
       "   Percent_P_I  Num_Influenza_Deaths  Num_Pneumonia_Deaths  Total_Deaths  \\\n",
       "0          5.2                    16                  2703         52452   \n",
       "1          5.3                    16                  2769         52860   \n",
       "2          5.5                    18                  2976         54129   \n",
       "3          5.6                    30                  2985         53914   \n",
       "4          5.4                    31                  2907         53980   \n",
       "\n",
       "  Percent_Complete  \n",
       "0           > 100%  \n",
       "1           > 100%  \n",
       "2           > 100%  \n",
       "3           > 100%  \n",
       "4           > 100%  "
      ]
     },
     "execution_count": 9,
     "metadata": {},
     "output_type": "execute_result"
    }
   ],
   "source": [
    "df_national.head()"
   ]
  },
  {
   "cell_type": "code",
   "execution_count": 10,
   "metadata": {},
   "outputs": [
    {
     "data": {
      "text/plain": [
       "2020"
      ]
     },
     "execution_count": 10,
     "metadata": {},
     "output_type": "execute_result"
    }
   ],
   "source": [
    "# Logic to add a Calendar Year Column\n",
    "x = '2019-20'\n",
    "int(x[0:4])\n",
    "int(x[0:4])+1\n",
    "#Week >=40 --> int(x[0:4])\n",
    "#Week 1-39 --> int(x[0:4])+1"
   ]
  },
  {
   "cell_type": "code",
   "execution_count": 11,
   "metadata": {},
   "outputs": [],
   "source": [
    "conditions = [\n",
    "    df_national['Week']<40,\n",
    "    df_national['Week']>=40    \n",
    "]"
   ]
  },
  {
   "cell_type": "code",
   "execution_count": 12,
   "metadata": {},
   "outputs": [],
   "source": [
    "df_national['First_Year'] = df_national['Season'].apply(lambda x: int(x[0:4])) "
   ]
  },
  {
   "cell_type": "code",
   "execution_count": 13,
   "metadata": {},
   "outputs": [],
   "source": [
    "df_national['Second_Year'] = df_national['Season'].apply(lambda x: int(x[0:4])+1) "
   ]
  },
  {
   "cell_type": "code",
   "execution_count": 14,
   "metadata": {},
   "outputs": [],
   "source": [
    "choices = [df_national['Second_Year'],df_national['First_Year']]"
   ]
  },
  {
   "cell_type": "code",
   "execution_count": 15,
   "metadata": {},
   "outputs": [],
   "source": [
    "df_national['Calendar_Year'] = np.select(conditions,choices)"
   ]
  },
  {
   "cell_type": "code",
   "execution_count": 16,
   "metadata": {},
   "outputs": [
    {
     "data": {
      "text/html": [
       "<div>\n",
       "<style scoped>\n",
       "    .dataframe tbody tr th:only-of-type {\n",
       "        vertical-align: middle;\n",
       "    }\n",
       "\n",
       "    .dataframe tbody tr th {\n",
       "        vertical-align: top;\n",
       "    }\n",
       "\n",
       "    .dataframe thead th {\n",
       "        text-align: right;\n",
       "    }\n",
       "</style>\n",
       "<table border=\"1\" class=\"dataframe\">\n",
       "  <thead>\n",
       "    <tr style=\"text-align: right;\">\n",
       "      <th></th>\n",
       "      <th>Area</th>\n",
       "      <th>Sub_Area</th>\n",
       "      <th>Age_Group</th>\n",
       "      <th>Season</th>\n",
       "      <th>Week</th>\n",
       "      <th>Threshold</th>\n",
       "      <th>Baseline</th>\n",
       "      <th>Percent_P_I</th>\n",
       "      <th>Num_Influenza_Deaths</th>\n",
       "      <th>Num_Pneumonia_Deaths</th>\n",
       "      <th>Total_Deaths</th>\n",
       "      <th>Percent_Complete</th>\n",
       "      <th>First_Year</th>\n",
       "      <th>Second_Year</th>\n",
       "      <th>Calendar_Year</th>\n",
       "    </tr>\n",
       "  </thead>\n",
       "  <tbody>\n",
       "    <tr>\n",
       "      <td>144</td>\n",
       "      <td>National</td>\n",
       "      <td>NaN</td>\n",
       "      <td>All</td>\n",
       "      <td>2016-17</td>\n",
       "      <td>3</td>\n",
       "      <td>7.8</td>\n",
       "      <td>7.5</td>\n",
       "      <td>8.4</td>\n",
       "      <td>373</td>\n",
       "      <td>4621</td>\n",
       "      <td>59293</td>\n",
       "      <td>&gt; 100%</td>\n",
       "      <td>2016</td>\n",
       "      <td>2017</td>\n",
       "      <td>2017</td>\n",
       "    </tr>\n",
       "    <tr>\n",
       "      <td>263</td>\n",
       "      <td>National</td>\n",
       "      <td>NaN</td>\n",
       "      <td>All</td>\n",
       "      <td>2014-15</td>\n",
       "      <td>17</td>\n",
       "      <td>7.8</td>\n",
       "      <td>7.4</td>\n",
       "      <td>7.2</td>\n",
       "      <td>50</td>\n",
       "      <td>3652</td>\n",
       "      <td>51466</td>\n",
       "      <td>&gt; 100%</td>\n",
       "      <td>2014</td>\n",
       "      <td>2015</td>\n",
       "      <td>2015</td>\n",
       "    </tr>\n",
       "    <tr>\n",
       "      <td>94</td>\n",
       "      <td>National</td>\n",
       "      <td>NaN</td>\n",
       "      <td>All</td>\n",
       "      <td>2017-18</td>\n",
       "      <td>5</td>\n",
       "      <td>7.7</td>\n",
       "      <td>7.3</td>\n",
       "      <td>10.2</td>\n",
       "      <td>1360</td>\n",
       "      <td>4877</td>\n",
       "      <td>60974</td>\n",
       "      <td>&gt; 100%</td>\n",
       "      <td>2017</td>\n",
       "      <td>2018</td>\n",
       "      <td>2018</td>\n",
       "    </tr>\n",
       "    <tr>\n",
       "      <td>179</td>\n",
       "      <td>National</td>\n",
       "      <td>NaN</td>\n",
       "      <td>All</td>\n",
       "      <td>2016-17</td>\n",
       "      <td>38</td>\n",
       "      <td>5.9</td>\n",
       "      <td>5.6</td>\n",
       "      <td>5.8</td>\n",
       "      <td>16</td>\n",
       "      <td>2935</td>\n",
       "      <td>51229</td>\n",
       "      <td>&gt; 100%</td>\n",
       "      <td>2016</td>\n",
       "      <td>2017</td>\n",
       "      <td>2017</td>\n",
       "    </tr>\n",
       "    <tr>\n",
       "      <td>233</td>\n",
       "      <td>National</td>\n",
       "      <td>NaN</td>\n",
       "      <td>All</td>\n",
       "      <td>2014-15</td>\n",
       "      <td>40</td>\n",
       "      <td>6.7</td>\n",
       "      <td>6.2</td>\n",
       "      <td>6.4</td>\n",
       "      <td>6</td>\n",
       "      <td>3075</td>\n",
       "      <td>48359</td>\n",
       "      <td>&gt; 100%</td>\n",
       "      <td>2014</td>\n",
       "      <td>2015</td>\n",
       "      <td>2014</td>\n",
       "    </tr>\n",
       "    <tr>\n",
       "      <td>122</td>\n",
       "      <td>National</td>\n",
       "      <td>NaN</td>\n",
       "      <td>All</td>\n",
       "      <td>2017-18</td>\n",
       "      <td>33</td>\n",
       "      <td>5.6</td>\n",
       "      <td>5.2</td>\n",
       "      <td>5.2</td>\n",
       "      <td>5</td>\n",
       "      <td>2617</td>\n",
       "      <td>50301</td>\n",
       "      <td>&gt; 100%</td>\n",
       "      <td>2017</td>\n",
       "      <td>2018</td>\n",
       "      <td>2018</td>\n",
       "    </tr>\n",
       "    <tr>\n",
       "      <td>235</td>\n",
       "      <td>National</td>\n",
       "      <td>NaN</td>\n",
       "      <td>All</td>\n",
       "      <td>2014-15</td>\n",
       "      <td>42</td>\n",
       "      <td>6.9</td>\n",
       "      <td>6.4</td>\n",
       "      <td>6.3</td>\n",
       "      <td>13</td>\n",
       "      <td>3084</td>\n",
       "      <td>49224</td>\n",
       "      <td>&gt; 100%</td>\n",
       "      <td>2014</td>\n",
       "      <td>2015</td>\n",
       "      <td>2014</td>\n",
       "    </tr>\n",
       "    <tr>\n",
       "      <td>162</td>\n",
       "      <td>National</td>\n",
       "      <td>NaN</td>\n",
       "      <td>All</td>\n",
       "      <td>2016-17</td>\n",
       "      <td>21</td>\n",
       "      <td>6.8</td>\n",
       "      <td>6.4</td>\n",
       "      <td>6.1</td>\n",
       "      <td>24</td>\n",
       "      <td>3091</td>\n",
       "      <td>50972</td>\n",
       "      <td>&gt; 100%</td>\n",
       "      <td>2016</td>\n",
       "      <td>2017</td>\n",
       "      <td>2017</td>\n",
       "    </tr>\n",
       "    <tr>\n",
       "      <td>289</td>\n",
       "      <td>National</td>\n",
       "      <td>NaN</td>\n",
       "      <td>All</td>\n",
       "      <td>2013-14</td>\n",
       "      <td>43</td>\n",
       "      <td>7.1</td>\n",
       "      <td>6.7</td>\n",
       "      <td>6.6</td>\n",
       "      <td>11</td>\n",
       "      <td>3151</td>\n",
       "      <td>47746</td>\n",
       "      <td>&gt; 100%</td>\n",
       "      <td>2013</td>\n",
       "      <td>2014</td>\n",
       "      <td>2013</td>\n",
       "    </tr>\n",
       "    <tr>\n",
       "      <td>134</td>\n",
       "      <td>National</td>\n",
       "      <td>NaN</td>\n",
       "      <td>All</td>\n",
       "      <td>2016-17</td>\n",
       "      <td>45</td>\n",
       "      <td>6.8</td>\n",
       "      <td>6.4</td>\n",
       "      <td>6.1</td>\n",
       "      <td>19</td>\n",
       "      <td>3207</td>\n",
       "      <td>52524</td>\n",
       "      <td>&gt; 100%</td>\n",
       "      <td>2016</td>\n",
       "      <td>2017</td>\n",
       "      <td>2016</td>\n",
       "    </tr>\n",
       "  </tbody>\n",
       "</table>\n",
       "</div>"
      ],
      "text/plain": [
       "         Area  Sub_Area Age_Group   Season  Week  Threshold  Baseline  \\\n",
       "144  National       NaN       All  2016-17     3        7.8       7.5   \n",
       "263  National       NaN       All  2014-15    17        7.8       7.4   \n",
       "94   National       NaN       All  2017-18     5        7.7       7.3   \n",
       "179  National       NaN       All  2016-17    38        5.9       5.6   \n",
       "233  National       NaN       All  2014-15    40        6.7       6.2   \n",
       "122  National       NaN       All  2017-18    33        5.6       5.2   \n",
       "235  National       NaN       All  2014-15    42        6.9       6.4   \n",
       "162  National       NaN       All  2016-17    21        6.8       6.4   \n",
       "289  National       NaN       All  2013-14    43        7.1       6.7   \n",
       "134  National       NaN       All  2016-17    45        6.8       6.4   \n",
       "\n",
       "     Percent_P_I  Num_Influenza_Deaths  Num_Pneumonia_Deaths  Total_Deaths  \\\n",
       "144          8.4                   373                  4621         59293   \n",
       "263          7.2                    50                  3652         51466   \n",
       "94          10.2                  1360                  4877         60974   \n",
       "179          5.8                    16                  2935         51229   \n",
       "233          6.4                     6                  3075         48359   \n",
       "122          5.2                     5                  2617         50301   \n",
       "235          6.3                    13                  3084         49224   \n",
       "162          6.1                    24                  3091         50972   \n",
       "289          6.6                    11                  3151         47746   \n",
       "134          6.1                    19                  3207         52524   \n",
       "\n",
       "    Percent_Complete  First_Year  Second_Year  Calendar_Year  \n",
       "144           > 100%        2016         2017           2017  \n",
       "263           > 100%        2014         2015           2015  \n",
       "94            > 100%        2017         2018           2018  \n",
       "179           > 100%        2016         2017           2017  \n",
       "233           > 100%        2014         2015           2014  \n",
       "122           > 100%        2017         2018           2018  \n",
       "235           > 100%        2014         2015           2014  \n",
       "162           > 100%        2016         2017           2017  \n",
       "289           > 100%        2013         2014           2013  \n",
       "134           > 100%        2016         2017           2016  "
      ]
     },
     "execution_count": 16,
     "metadata": {},
     "output_type": "execute_result"
    }
   ],
   "source": [
    "df_national.sample(10)"
   ]
  },
  {
   "cell_type": "code",
   "execution_count": 17,
   "metadata": {},
   "outputs": [],
   "source": [
    "# df_national.drop('First_Year', axis = 1, inplace = True)\n",
    "# df_national.drop('Second_Year', axis = 1, inplace = True)\n",
    "# df_national.drop('Sub_Area', axis = 1, inplace = True)\n",
    "# df_national.drop('Age_Group', axis = 1, inplace = True)\n",
    "                 "
   ]
  },
  {
   "cell_type": "code",
   "execution_count": 18,
   "metadata": {},
   "outputs": [
    {
     "data": {
      "text/html": [
       "<div>\n",
       "<style scoped>\n",
       "    .dataframe tbody tr th:only-of-type {\n",
       "        vertical-align: middle;\n",
       "    }\n",
       "\n",
       "    .dataframe tbody tr th {\n",
       "        vertical-align: top;\n",
       "    }\n",
       "\n",
       "    .dataframe thead th {\n",
       "        text-align: right;\n",
       "    }\n",
       "</style>\n",
       "<table border=\"1\" class=\"dataframe\">\n",
       "  <thead>\n",
       "    <tr style=\"text-align: right;\">\n",
       "      <th></th>\n",
       "      <th>Area</th>\n",
       "      <th>Season</th>\n",
       "      <th>Week</th>\n",
       "      <th>Threshold</th>\n",
       "      <th>Baseline</th>\n",
       "      <th>Percent_P_I</th>\n",
       "      <th>Num_Influenza_Deaths</th>\n",
       "      <th>Num_Pneumonia_Deaths</th>\n",
       "      <th>Total_Deaths</th>\n",
       "      <th>Percent_Complete</th>\n",
       "      <th>Calendar_Year</th>\n",
       "    </tr>\n",
       "  </thead>\n",
       "  <tbody>\n",
       "    <tr>\n",
       "      <td>0</td>\n",
       "      <td>National</td>\n",
       "      <td>2019-20</td>\n",
       "      <td>40</td>\n",
       "      <td>5.7</td>\n",
       "      <td>5.3</td>\n",
       "      <td>5.2</td>\n",
       "      <td>16</td>\n",
       "      <td>2703</td>\n",
       "      <td>52452</td>\n",
       "      <td>&gt; 100%</td>\n",
       "      <td>2019</td>\n",
       "    </tr>\n",
       "    <tr>\n",
       "      <td>1</td>\n",
       "      <td>National</td>\n",
       "      <td>2019-20</td>\n",
       "      <td>41</td>\n",
       "      <td>5.7</td>\n",
       "      <td>5.4</td>\n",
       "      <td>5.3</td>\n",
       "      <td>16</td>\n",
       "      <td>2769</td>\n",
       "      <td>52860</td>\n",
       "      <td>&gt; 100%</td>\n",
       "      <td>2019</td>\n",
       "    </tr>\n",
       "    <tr>\n",
       "      <td>2</td>\n",
       "      <td>National</td>\n",
       "      <td>2019-20</td>\n",
       "      <td>42</td>\n",
       "      <td>5.8</td>\n",
       "      <td>5.5</td>\n",
       "      <td>5.5</td>\n",
       "      <td>18</td>\n",
       "      <td>2976</td>\n",
       "      <td>54129</td>\n",
       "      <td>&gt; 100%</td>\n",
       "      <td>2019</td>\n",
       "    </tr>\n",
       "    <tr>\n",
       "      <td>3</td>\n",
       "      <td>National</td>\n",
       "      <td>2019-20</td>\n",
       "      <td>43</td>\n",
       "      <td>5.9</td>\n",
       "      <td>5.6</td>\n",
       "      <td>5.6</td>\n",
       "      <td>30</td>\n",
       "      <td>2985</td>\n",
       "      <td>53914</td>\n",
       "      <td>&gt; 100%</td>\n",
       "      <td>2019</td>\n",
       "    </tr>\n",
       "    <tr>\n",
       "      <td>4</td>\n",
       "      <td>National</td>\n",
       "      <td>2019-20</td>\n",
       "      <td>44</td>\n",
       "      <td>6.0</td>\n",
       "      <td>5.7</td>\n",
       "      <td>5.4</td>\n",
       "      <td>31</td>\n",
       "      <td>2907</td>\n",
       "      <td>53980</td>\n",
       "      <td>&gt; 100%</td>\n",
       "      <td>2019</td>\n",
       "    </tr>\n",
       "  </tbody>\n",
       "</table>\n",
       "</div>"
      ],
      "text/plain": [
       "       Area   Season  Week  Threshold  Baseline  Percent_P_I  \\\n",
       "0  National  2019-20    40        5.7       5.3          5.2   \n",
       "1  National  2019-20    41        5.7       5.4          5.3   \n",
       "2  National  2019-20    42        5.8       5.5          5.5   \n",
       "3  National  2019-20    43        5.9       5.6          5.6   \n",
       "4  National  2019-20    44        6.0       5.7          5.4   \n",
       "\n",
       "   Num_Influenza_Deaths  Num_Pneumonia_Deaths  Total_Deaths Percent_Complete  \\\n",
       "0                    16                  2703         52452           > 100%   \n",
       "1                    16                  2769         52860           > 100%   \n",
       "2                    18                  2976         54129           > 100%   \n",
       "3                    30                  2985         53914           > 100%   \n",
       "4                    31                  2907         53980           > 100%   \n",
       "\n",
       "   Calendar_Year  \n",
       "0           2019  \n",
       "1           2019  \n",
       "2           2019  \n",
       "3           2019  \n",
       "4           2019  "
      ]
     },
     "execution_count": 18,
     "metadata": {},
     "output_type": "execute_result"
    }
   ],
   "source": [
    "df_national.head()"
   ]
  },
  {
   "cell_type": "code",
   "execution_count": 19,
   "metadata": {},
   "outputs": [
    {
     "data": {
      "text/plain": [
       "Area                     object\n",
       "Season                   object\n",
       "Week                      int64\n",
       "Threshold               float64\n",
       "Baseline                float64\n",
       "Percent_P_I             float64\n",
       "Num_Influenza_Deaths      int64\n",
       "Num_Pneumonia_Deaths      int64\n",
       "Total_Deaths              int64\n",
       "Percent_Complete         object\n",
       "Calendar_Year             int64\n",
       "dtype: object"
      ]
     },
     "execution_count": 19,
     "metadata": {},
     "output_type": "execute_result"
    }
   ],
   "source": [
    "df_national.dtypes"
   ]
  },
  {
   "cell_type": "code",
   "execution_count": 20,
   "metadata": {},
   "outputs": [
    {
     "name": "stdout",
     "output_type": "stream",
     "text": [
      "<class 'pandas.core.frame.DataFrame'>\n",
      "RangeIndex: 338 entries, 0 to 337\n",
      "Data columns (total 11 columns):\n",
      "Area                    338 non-null object\n",
      "Season                  338 non-null object\n",
      "Week                    338 non-null int64\n",
      "Threshold               338 non-null float64\n",
      "Baseline                338 non-null float64\n",
      "Percent_P_I             338 non-null float64\n",
      "Num_Influenza_Deaths    338 non-null int64\n",
      "Num_Pneumonia_Deaths    338 non-null int64\n",
      "Total_Deaths            338 non-null int64\n",
      "Percent_Complete        338 non-null object\n",
      "Calendar_Year           338 non-null int64\n",
      "dtypes: float64(3), int64(5), object(3)\n",
      "memory usage: 29.2+ KB\n"
     ]
    }
   ],
   "source": [
    "df_national.info()"
   ]
  },
  {
   "cell_type": "code",
   "execution_count": 21,
   "metadata": {},
   "outputs": [
    {
     "data": {
      "text/html": [
       "<div>\n",
       "<style scoped>\n",
       "    .dataframe tbody tr th:only-of-type {\n",
       "        vertical-align: middle;\n",
       "    }\n",
       "\n",
       "    .dataframe tbody tr th {\n",
       "        vertical-align: top;\n",
       "    }\n",
       "\n",
       "    .dataframe thead th {\n",
       "        text-align: right;\n",
       "    }\n",
       "</style>\n",
       "<table border=\"1\" class=\"dataframe\">\n",
       "  <thead>\n",
       "    <tr style=\"text-align: right;\">\n",
       "      <th></th>\n",
       "      <th>Week</th>\n",
       "      <th>Threshold</th>\n",
       "      <th>Baseline</th>\n",
       "      <th>Percent_P_I</th>\n",
       "      <th>Num_Influenza_Deaths</th>\n",
       "      <th>Num_Pneumonia_Deaths</th>\n",
       "      <th>Total_Deaths</th>\n",
       "      <th>Calendar_Year</th>\n",
       "    </tr>\n",
       "  </thead>\n",
       "  <tbody>\n",
       "    <tr>\n",
       "      <td>count</td>\n",
       "      <td>338.000000</td>\n",
       "      <td>338.000000</td>\n",
       "      <td>338.000000</td>\n",
       "      <td>338.000000</td>\n",
       "      <td>338.000000</td>\n",
       "      <td>338.000000</td>\n",
       "      <td>338.000000</td>\n",
       "      <td>338.000000</td>\n",
       "    </tr>\n",
       "    <tr>\n",
       "      <td>mean</td>\n",
       "      <td>26.618343</td>\n",
       "      <td>6.976331</td>\n",
       "      <td>6.600296</td>\n",
       "      <td>6.771893</td>\n",
       "      <td>154.562130</td>\n",
       "      <td>3445.701183</td>\n",
       "      <td>52804.973373</td>\n",
       "      <td>2016.482249</td>\n",
       "    </tr>\n",
       "    <tr>\n",
       "      <td>std</td>\n",
       "      <td>15.507610</td>\n",
       "      <td>0.838981</td>\n",
       "      <td>0.824855</td>\n",
       "      <td>1.175849</td>\n",
       "      <td>259.909498</td>\n",
       "      <td>620.111191</td>\n",
       "      <td>3657.505221</td>\n",
       "      <td>1.904542</td>\n",
       "    </tr>\n",
       "    <tr>\n",
       "      <td>min</td>\n",
       "      <td>1.000000</td>\n",
       "      <td>5.400000</td>\n",
       "      <td>5.100000</td>\n",
       "      <td>4.900000</td>\n",
       "      <td>1.000000</td>\n",
       "      <td>2511.000000</td>\n",
       "      <td>40002.000000</td>\n",
       "      <td>2013.000000</td>\n",
       "    </tr>\n",
       "    <tr>\n",
       "      <td>25%</td>\n",
       "      <td>13.000000</td>\n",
       "      <td>6.300000</td>\n",
       "      <td>5.900000</td>\n",
       "      <td>5.900000</td>\n",
       "      <td>11.000000</td>\n",
       "      <td>2982.000000</td>\n",
       "      <td>50259.000000</td>\n",
       "      <td>2015.000000</td>\n",
       "    </tr>\n",
       "    <tr>\n",
       "      <td>50%</td>\n",
       "      <td>27.000000</td>\n",
       "      <td>7.000000</td>\n",
       "      <td>6.600000</td>\n",
       "      <td>6.500000</td>\n",
       "      <td>30.500000</td>\n",
       "      <td>3234.000000</td>\n",
       "      <td>52106.000000</td>\n",
       "      <td>2016.000000</td>\n",
       "    </tr>\n",
       "    <tr>\n",
       "      <td>75%</td>\n",
       "      <td>40.750000</td>\n",
       "      <td>7.600000</td>\n",
       "      <td>7.200000</td>\n",
       "      <td>7.500000</td>\n",
       "      <td>205.250000</td>\n",
       "      <td>3848.000000</td>\n",
       "      <td>55235.500000</td>\n",
       "      <td>2018.000000</td>\n",
       "    </tr>\n",
       "    <tr>\n",
       "      <td>max</td>\n",
       "      <td>53.000000</td>\n",
       "      <td>8.600000</td>\n",
       "      <td>8.200000</td>\n",
       "      <td>10.900000</td>\n",
       "      <td>1626.000000</td>\n",
       "      <td>5589.000000</td>\n",
       "      <td>67495.000000</td>\n",
       "      <td>2020.000000</td>\n",
       "    </tr>\n",
       "  </tbody>\n",
       "</table>\n",
       "</div>"
      ],
      "text/plain": [
       "             Week   Threshold    Baseline  Percent_P_I  Num_Influenza_Deaths  \\\n",
       "count  338.000000  338.000000  338.000000   338.000000            338.000000   \n",
       "mean    26.618343    6.976331    6.600296     6.771893            154.562130   \n",
       "std     15.507610    0.838981    0.824855     1.175849            259.909498   \n",
       "min      1.000000    5.400000    5.100000     4.900000              1.000000   \n",
       "25%     13.000000    6.300000    5.900000     5.900000             11.000000   \n",
       "50%     27.000000    7.000000    6.600000     6.500000             30.500000   \n",
       "75%     40.750000    7.600000    7.200000     7.500000            205.250000   \n",
       "max     53.000000    8.600000    8.200000    10.900000           1626.000000   \n",
       "\n",
       "       Num_Pneumonia_Deaths  Total_Deaths  Calendar_Year  \n",
       "count            338.000000    338.000000     338.000000  \n",
       "mean            3445.701183  52804.973373    2016.482249  \n",
       "std              620.111191   3657.505221       1.904542  \n",
       "min             2511.000000  40002.000000    2013.000000  \n",
       "25%             2982.000000  50259.000000    2015.000000  \n",
       "50%             3234.000000  52106.000000    2016.000000  \n",
       "75%             3848.000000  55235.500000    2018.000000  \n",
       "max             5589.000000  67495.000000    2020.000000  "
      ]
     },
     "execution_count": 21,
     "metadata": {},
     "output_type": "execute_result"
    }
   ],
   "source": [
    "df_national.describe()"
   ]
  },
  {
   "cell_type": "code",
   "execution_count": 22,
   "metadata": {},
   "outputs": [],
   "source": [
    "years = list(df_national['Calendar_Year'].unique())\n",
    "years.sort()\n"
   ]
  },
  {
   "cell_type": "code",
   "execution_count": 23,
   "metadata": {
    "scrolled": true
   },
   "outputs": [
    {
     "data": {
      "text/plain": [
       "Text(0, 0.5, 'Total US Deaths')"
      ]
     },
     "execution_count": 23,
     "metadata": {},
     "output_type": "execute_result"
    },
    {
     "data": {
      "image/png": "[encoded data removed]",
      "text/plain": [
       "<Figure size 864x288 with 1 Axes>"
      ]
     },
     "metadata": {},
     "output_type": "display_data"
    }
   ],
   "source": [
    "fig, ax = plt.subplots(figsize=(12, 4))\n",
    "\n",
    "\n",
    "for year in years[1:]:\n",
    "    mask = df_national['Calendar_Year'] == year\n",
    "    df = df_national[mask].sort_values('Week')\n",
    "    x = df['Week']\n",
    "    y = df['Total_Deaths']\n",
    "    \n",
    "    ax.plot(x,y, label = year)\n",
    "\n",
    "    \n",
    "plt.legend(bbox_to_anchor=(1, 1),\n",
    "           bbox_transform=plt.gcf().transFigure)\n",
    "# ax.axhline(y=50000, color='grey', linestyle='--')\n",
    "\n",
    "ax.set_title(\"Total U.S. Deaths by Week of the Year\", fontsize = 16)\n",
    "ax.set_xlabel(\"Week of the Year\", fontsize = 14)\n",
    "ax.set_ylabel(\"Total US Deaths\", fontsize = 14)"
   ]
  },
  {
   "cell_type": "code",
   "execution_count": 24,
   "metadata": {},
   "outputs": [
    {
     "data": {
      "text/plain": [
       "Text(0, 0.5, '%Deaths due to Flu&Pneumonia')"
      ]
     },
     "execution_count": 24,
     "metadata": {},
     "output_type": "execute_result"
    },
    {
     "data": {
      "image/png": "[encoded data removed]",
      "text/plain": [
       "<Figure size 864x288 with 1 Axes>"
      ]
     },
     "metadata": {},
     "output_type": "display_data"
    }
   ],
   "source": [
    "fig, ax = plt.subplots(figsize=(12, 4))\n",
    "\n",
    "\n",
    "for year in years[1:]:\n",
    "    mask = df_national['Calendar_Year'] == year\n",
    "    df = df_national[mask].sort_values('Week')\n",
    "    x = df['Week']\n",
    "    y = df['Percent_P_I']\n",
    "\n",
    "    ax.plot(x,y, label = year)\n",
    "\n",
    "plt.legend(bbox_to_anchor=(1, 1),\n",
    "           bbox_transform=plt.gcf().transFigure)\n",
    "\n",
    "ax.set_title(\"% U.S. Deaths caused by Flu&Pneumonia by Week of the Year\", fontsize = 14)\n",
    "ax.set_xlabel(\"Week of the Year\", fontsize = 14)\n",
    "ax.set_ylabel(\"%Deaths due to Flu&Pneumonia\", fontsize = 14)"
   ]
  },
  {
   "cell_type": "code",
   "execution_count": 25,
   "metadata": {},
   "outputs": [],
   "source": [
    "#finding out how many weeks have <100% completeness\n",
    "mask_national_incomplete = df_national['Percent_Complete'] != '> 100%'"
   ]
  },
  {
   "cell_type": "code",
   "execution_count": 26,
   "metadata": {},
   "outputs": [],
   "source": [
    "df_national_incomplete_wks = df_national[mask_national_incomplete]"
   ]
  },
  {
   "cell_type": "code",
   "execution_count": 27,
   "metadata": {},
   "outputs": [
    {
     "data": {
      "text/html": [
       "<div>\n",
       "<style scoped>\n",
       "    .dataframe tbody tr th:only-of-type {\n",
       "        vertical-align: middle;\n",
       "    }\n",
       "\n",
       "    .dataframe tbody tr th {\n",
       "        vertical-align: top;\n",
       "    }\n",
       "\n",
       "    .dataframe thead th {\n",
       "        text-align: right;\n",
       "    }\n",
       "</style>\n",
       "<table border=\"1\" class=\"dataframe\">\n",
       "  <thead>\n",
       "    <tr style=\"text-align: right;\">\n",
       "      <th></th>\n",
       "      <th>Week</th>\n",
       "      <th>Threshold</th>\n",
       "      <th>Baseline</th>\n",
       "      <th>Percent_P_I</th>\n",
       "      <th>Num_Influenza_Deaths</th>\n",
       "      <th>Num_Pneumonia_Deaths</th>\n",
       "      <th>Total_Deaths</th>\n",
       "      <th>Calendar_Year</th>\n",
       "    </tr>\n",
       "  </thead>\n",
       "  <tbody>\n",
       "    <tr>\n",
       "      <td>count</td>\n",
       "      <td>16.000000</td>\n",
       "      <td>16.000000</td>\n",
       "      <td>16.000000</td>\n",
       "      <td>16.000000</td>\n",
       "      <td>16.000000</td>\n",
       "      <td>16.000000</td>\n",
       "      <td>16.000000</td>\n",
       "      <td>16.000000</td>\n",
       "    </tr>\n",
       "    <tr>\n",
       "      <td>mean</td>\n",
       "      <td>31.000000</td>\n",
       "      <td>6.606250</td>\n",
       "      <td>6.212500</td>\n",
       "      <td>6.412500</td>\n",
       "      <td>25.187500</td>\n",
       "      <td>2954.937500</td>\n",
       "      <td>46626.500000</td>\n",
       "      <td>2014.250000</td>\n",
       "    </tr>\n",
       "    <tr>\n",
       "      <td>std</td>\n",
       "      <td>6.947422</td>\n",
       "      <td>0.248914</td>\n",
       "      <td>0.265518</td>\n",
       "      <td>0.509738</td>\n",
       "      <td>81.592662</td>\n",
       "      <td>98.506493</td>\n",
       "      <td>1796.560937</td>\n",
       "      <td>1.570563</td>\n",
       "    </tr>\n",
       "    <tr>\n",
       "      <td>min</td>\n",
       "      <td>12.000000</td>\n",
       "      <td>6.400000</td>\n",
       "      <td>6.000000</td>\n",
       "      <td>6.000000</td>\n",
       "      <td>1.000000</td>\n",
       "      <td>2812.000000</td>\n",
       "      <td>40002.000000</td>\n",
       "      <td>2013.000000</td>\n",
       "    </tr>\n",
       "    <tr>\n",
       "      <td>25%</td>\n",
       "      <td>27.750000</td>\n",
       "      <td>6.400000</td>\n",
       "      <td>6.000000</td>\n",
       "      <td>6.200000</td>\n",
       "      <td>3.000000</td>\n",
       "      <td>2872.250000</td>\n",
       "      <td>46772.000000</td>\n",
       "      <td>2014.000000</td>\n",
       "    </tr>\n",
       "    <tr>\n",
       "      <td>50%</td>\n",
       "      <td>31.500000</td>\n",
       "      <td>6.500000</td>\n",
       "      <td>6.100000</td>\n",
       "      <td>6.300000</td>\n",
       "      <td>5.000000</td>\n",
       "      <td>2949.500000</td>\n",
       "      <td>47110.000000</td>\n",
       "      <td>2014.000000</td>\n",
       "    </tr>\n",
       "    <tr>\n",
       "      <td>75%</td>\n",
       "      <td>35.250000</td>\n",
       "      <td>6.800000</td>\n",
       "      <td>6.400000</td>\n",
       "      <td>6.350000</td>\n",
       "      <td>6.250000</td>\n",
       "      <td>2989.000000</td>\n",
       "      <td>47295.000000</td>\n",
       "      <td>2014.000000</td>\n",
       "    </tr>\n",
       "    <tr>\n",
       "      <td>max</td>\n",
       "      <td>41.000000</td>\n",
       "      <td>7.200000</td>\n",
       "      <td>6.900000</td>\n",
       "      <td>8.200000</td>\n",
       "      <td>331.000000</td>\n",
       "      <td>3140.000000</td>\n",
       "      <td>47540.000000</td>\n",
       "      <td>2020.000000</td>\n",
       "    </tr>\n",
       "  </tbody>\n",
       "</table>\n",
       "</div>"
      ],
      "text/plain": [
       "            Week  Threshold   Baseline  Percent_P_I  Num_Influenza_Deaths  \\\n",
       "count  16.000000  16.000000  16.000000    16.000000             16.000000   \n",
       "mean   31.000000   6.606250   6.212500     6.412500             25.187500   \n",
       "std     6.947422   0.248914   0.265518     0.509738             81.592662   \n",
       "min    12.000000   6.400000   6.000000     6.000000              1.000000   \n",
       "25%    27.750000   6.400000   6.000000     6.200000              3.000000   \n",
       "50%    31.500000   6.500000   6.100000     6.300000              5.000000   \n",
       "75%    35.250000   6.800000   6.400000     6.350000              6.250000   \n",
       "max    41.000000   7.200000   6.900000     8.200000            331.000000   \n",
       "\n",
       "       Num_Pneumonia_Deaths  Total_Deaths  Calendar_Year  \n",
       "count             16.000000     16.000000      16.000000  \n",
       "mean            2954.937500  46626.500000    2014.250000  \n",
       "std               98.506493   1796.560937       1.570563  \n",
       "min             2812.000000  40002.000000    2013.000000  \n",
       "25%             2872.250000  46772.000000    2014.000000  \n",
       "50%             2949.500000  47110.000000    2014.000000  \n",
       "75%             2989.000000  47295.000000    2014.000000  \n",
       "max             3140.000000  47540.000000    2020.000000  "
      ]
     },
     "execution_count": 27,
     "metadata": {},
     "output_type": "execute_result"
    }
   ],
   "source": [
    "df_national_incomplete_wks.describe()"
   ]
  },
  {
   "cell_type": "code",
   "execution_count": 28,
   "metadata": {},
   "outputs": [
    {
     "data": {
      "text/html": [
       "<div>\n",
       "<style scoped>\n",
       "    .dataframe tbody tr th:only-of-type {\n",
       "        vertical-align: middle;\n",
       "    }\n",
       "\n",
       "    .dataframe tbody tr th {\n",
       "        vertical-align: top;\n",
       "    }\n",
       "\n",
       "    .dataframe thead th {\n",
       "        text-align: right;\n",
       "    }\n",
       "</style>\n",
       "<table border=\"1\" class=\"dataframe\">\n",
       "  <thead>\n",
       "    <tr style=\"text-align: right;\">\n",
       "      <th></th>\n",
       "      <th>Area</th>\n",
       "      <th>Season</th>\n",
       "      <th>Week</th>\n",
       "      <th>Threshold</th>\n",
       "      <th>Baseline</th>\n",
       "      <th>Percent_P_I</th>\n",
       "      <th>Num_Influenza_Deaths</th>\n",
       "      <th>Num_Pneumonia_Deaths</th>\n",
       "      <th>Total_Deaths</th>\n",
       "      <th>Percent_Complete</th>\n",
       "      <th>Calendar_Year</th>\n",
       "    </tr>\n",
       "  </thead>\n",
       "  <tbody>\n",
       "    <tr>\n",
       "      <td>24</td>\n",
       "      <td>National</td>\n",
       "      <td>2019-20</td>\n",
       "      <td>12</td>\n",
       "      <td>7.2</td>\n",
       "      <td>6.9</td>\n",
       "      <td>8.2</td>\n",
       "      <td>331</td>\n",
       "      <td>2930</td>\n",
       "      <td>40002</td>\n",
       "      <td>84.1%</td>\n",
       "      <td>2020</td>\n",
       "    </tr>\n",
       "    <tr>\n",
       "      <td>286</td>\n",
       "      <td>National</td>\n",
       "      <td>2013-14</td>\n",
       "      <td>40</td>\n",
       "      <td>6.8</td>\n",
       "      <td>6.4</td>\n",
       "      <td>6.6</td>\n",
       "      <td>3</td>\n",
       "      <td>3140</td>\n",
       "      <td>47492</td>\n",
       "      <td>99.8%</td>\n",
       "      <td>2013</td>\n",
       "    </tr>\n",
       "    <tr>\n",
       "      <td>287</td>\n",
       "      <td>National</td>\n",
       "      <td>2013-14</td>\n",
       "      <td>41</td>\n",
       "      <td>6.9</td>\n",
       "      <td>6.5</td>\n",
       "      <td>6.7</td>\n",
       "      <td>12</td>\n",
       "      <td>3135</td>\n",
       "      <td>47304</td>\n",
       "      <td>99.4%</td>\n",
       "      <td>2013</td>\n",
       "    </tr>\n",
       "    <tr>\n",
       "      <td>323</td>\n",
       "      <td>National</td>\n",
       "      <td>2013-14</td>\n",
       "      <td>25</td>\n",
       "      <td>6.9</td>\n",
       "      <td>6.5</td>\n",
       "      <td>6.5</td>\n",
       "      <td>7</td>\n",
       "      <td>3070</td>\n",
       "      <td>47540</td>\n",
       "      <td>99.9%</td>\n",
       "      <td>2014</td>\n",
       "    </tr>\n",
       "    <tr>\n",
       "      <td>324</td>\n",
       "      <td>National</td>\n",
       "      <td>2013-14</td>\n",
       "      <td>26</td>\n",
       "      <td>6.8</td>\n",
       "      <td>6.4</td>\n",
       "      <td>6.3</td>\n",
       "      <td>3</td>\n",
       "      <td>2989</td>\n",
       "      <td>47341</td>\n",
       "      <td>99.5%</td>\n",
       "      <td>2014</td>\n",
       "    </tr>\n",
       "    <tr>\n",
       "      <td>325</td>\n",
       "      <td>National</td>\n",
       "      <td>2013-14</td>\n",
       "      <td>27</td>\n",
       "      <td>6.7</td>\n",
       "      <td>6.3</td>\n",
       "      <td>6.3</td>\n",
       "      <td>6</td>\n",
       "      <td>2989</td>\n",
       "      <td>47240</td>\n",
       "      <td>99.3%</td>\n",
       "      <td>2014</td>\n",
       "    </tr>\n",
       "    <tr>\n",
       "      <td>326</td>\n",
       "      <td>National</td>\n",
       "      <td>2013-14</td>\n",
       "      <td>28</td>\n",
       "      <td>6.6</td>\n",
       "      <td>6.2</td>\n",
       "      <td>6.3</td>\n",
       "      <td>4</td>\n",
       "      <td>2982</td>\n",
       "      <td>47292</td>\n",
       "      <td>99.4%</td>\n",
       "      <td>2014</td>\n",
       "    </tr>\n",
       "    <tr>\n",
       "      <td>327</td>\n",
       "      <td>National</td>\n",
       "      <td>2013-14</td>\n",
       "      <td>29</td>\n",
       "      <td>6.5</td>\n",
       "      <td>6.1</td>\n",
       "      <td>6.3</td>\n",
       "      <td>7</td>\n",
       "      <td>2939</td>\n",
       "      <td>47098</td>\n",
       "      <td>99%</td>\n",
       "      <td>2014</td>\n",
       "    </tr>\n",
       "    <tr>\n",
       "      <td>328</td>\n",
       "      <td>National</td>\n",
       "      <td>2013-14</td>\n",
       "      <td>30</td>\n",
       "      <td>6.5</td>\n",
       "      <td>6.1</td>\n",
       "      <td>6.3</td>\n",
       "      <td>3</td>\n",
       "      <td>2983</td>\n",
       "      <td>47122</td>\n",
       "      <td>99%</td>\n",
       "      <td>2014</td>\n",
       "    </tr>\n",
       "    <tr>\n",
       "      <td>329</td>\n",
       "      <td>National</td>\n",
       "      <td>2013-14</td>\n",
       "      <td>31</td>\n",
       "      <td>6.4</td>\n",
       "      <td>6.0</td>\n",
       "      <td>6.2</td>\n",
       "      <td>5</td>\n",
       "      <td>2919</td>\n",
       "      <td>46936</td>\n",
       "      <td>98.6%</td>\n",
       "      <td>2014</td>\n",
       "    </tr>\n",
       "    <tr>\n",
       "      <td>330</td>\n",
       "      <td>National</td>\n",
       "      <td>2013-14</td>\n",
       "      <td>32</td>\n",
       "      <td>6.4</td>\n",
       "      <td>6.0</td>\n",
       "      <td>6.0</td>\n",
       "      <td>1</td>\n",
       "      <td>2826</td>\n",
       "      <td>46885</td>\n",
       "      <td>98.5%</td>\n",
       "      <td>2014</td>\n",
       "    </tr>\n",
       "    <tr>\n",
       "      <td>331</td>\n",
       "      <td>National</td>\n",
       "      <td>2013-14</td>\n",
       "      <td>33</td>\n",
       "      <td>6.4</td>\n",
       "      <td>6.0</td>\n",
       "      <td>6.2</td>\n",
       "      <td>5</td>\n",
       "      <td>2864</td>\n",
       "      <td>46646</td>\n",
       "      <td>98%</td>\n",
       "      <td>2014</td>\n",
       "    </tr>\n",
       "    <tr>\n",
       "      <td>332</td>\n",
       "      <td>National</td>\n",
       "      <td>2013-14</td>\n",
       "      <td>34</td>\n",
       "      <td>6.4</td>\n",
       "      <td>6.0</td>\n",
       "      <td>6.2</td>\n",
       "      <td>6</td>\n",
       "      <td>2867</td>\n",
       "      <td>46631</td>\n",
       "      <td>98%</td>\n",
       "      <td>2014</td>\n",
       "    </tr>\n",
       "    <tr>\n",
       "      <td>333</td>\n",
       "      <td>National</td>\n",
       "      <td>2013-14</td>\n",
       "      <td>35</td>\n",
       "      <td>6.4</td>\n",
       "      <td>6.0</td>\n",
       "      <td>6.1</td>\n",
       "      <td>5</td>\n",
       "      <td>2812</td>\n",
       "      <td>46393</td>\n",
       "      <td>97.5%</td>\n",
       "      <td>2014</td>\n",
       "    </tr>\n",
       "    <tr>\n",
       "      <td>334</td>\n",
       "      <td>National</td>\n",
       "      <td>2013-14</td>\n",
       "      <td>36</td>\n",
       "      <td>6.4</td>\n",
       "      <td>6.0</td>\n",
       "      <td>6.3</td>\n",
       "      <td>1</td>\n",
       "      <td>2960</td>\n",
       "      <td>47288</td>\n",
       "      <td>99.4%</td>\n",
       "      <td>2014</td>\n",
       "    </tr>\n",
       "    <tr>\n",
       "      <td>335</td>\n",
       "      <td>National</td>\n",
       "      <td>2013-14</td>\n",
       "      <td>37</td>\n",
       "      <td>6.4</td>\n",
       "      <td>6.0</td>\n",
       "      <td>6.1</td>\n",
       "      <td>4</td>\n",
       "      <td>2874</td>\n",
       "      <td>46814</td>\n",
       "      <td>98.4%</td>\n",
       "      <td>2014</td>\n",
       "    </tr>\n",
       "  </tbody>\n",
       "</table>\n",
       "</div>"
      ],
      "text/plain": [
       "         Area   Season  Week  Threshold  Baseline  Percent_P_I  \\\n",
       "24   National  2019-20    12        7.2       6.9          8.2   \n",
       "286  National  2013-14    40        6.8       6.4          6.6   \n",
       "287  National  2013-14    41        6.9       6.5          6.7   \n",
       "323  National  2013-14    25        6.9       6.5          6.5   \n",
       "324  National  2013-14    26        6.8       6.4          6.3   \n",
       "325  National  2013-14    27        6.7       6.3          6.3   \n",
       "326  National  2013-14    28        6.6       6.2          6.3   \n",
       "327  National  2013-14    29        6.5       6.1          6.3   \n",
       "328  National  2013-14    30        6.5       6.1          6.3   \n",
       "329  National  2013-14    31        6.4       6.0          6.2   \n",
       "330  National  2013-14    32        6.4       6.0          6.0   \n",
       "331  National  2013-14    33        6.4       6.0          6.2   \n",
       "332  National  2013-14    34        6.4       6.0          6.2   \n",
       "333  National  2013-14    35        6.4       6.0          6.1   \n",
       "334  National  2013-14    36        6.4       6.0          6.3   \n",
       "335  National  2013-14    37        6.4       6.0          6.1   \n",
       "\n",
       "     Num_Influenza_Deaths  Num_Pneumonia_Deaths  Total_Deaths  \\\n",
       "24                    331                  2930         40002   \n",
       "286                     3                  3140         47492   \n",
       "287                    12                  3135         47304   \n",
       "323                     7                  3070         47540   \n",
       "324                     3                  2989         47341   \n",
       "325                     6                  2989         47240   \n",
       "326                     4                  2982         47292   \n",
       "327                     7                  2939         47098   \n",
       "328                     3                  2983         47122   \n",
       "329                     5                  2919         46936   \n",
       "330                     1                  2826         46885   \n",
       "331                     5                  2864         46646   \n",
       "332                     6                  2867         46631   \n",
       "333                     5                  2812         46393   \n",
       "334                     1                  2960         47288   \n",
       "335                     4                  2874         46814   \n",
       "\n",
       "    Percent_Complete  Calendar_Year  \n",
       "24             84.1%           2020  \n",
       "286            99.8%           2013  \n",
       "287            99.4%           2013  \n",
       "323            99.9%           2014  \n",
       "324            99.5%           2014  \n",
       "325            99.3%           2014  \n",
       "326            99.4%           2014  \n",
       "327              99%           2014  \n",
       "328              99%           2014  \n",
       "329            98.6%           2014  \n",
       "330            98.5%           2014  \n",
       "331              98%           2014  \n",
       "332              98%           2014  \n",
       "333            97.5%           2014  \n",
       "334            99.4%           2014  \n",
       "335            98.4%           2014  "
      ]
     },
     "execution_count": 28,
     "metadata": {},
     "output_type": "execute_result"
    }
   ],
   "source": [
    "df_national_incomplete_wks.head(16)\n",
    "# looks like I can only go through Week 11 in National Data. 2014 data looks to be missing around 2%"
   ]
  },
  {
   "cell_type": "code",
   "execution_count": 29,
   "metadata": {},
   "outputs": [],
   "source": [
    "df_national['Percent_Complete'] = df_national['Percent_Complete'].str.replace('> 100%', '100%', regex=False)"
   ]
  },
  {
   "cell_type": "code",
   "execution_count": 30,
   "metadata": {},
   "outputs": [],
   "source": [
    "df_national['Percent_Complete'] = df_national['Percent_Complete'].str.rstrip('%').astype('float') / 100.0"
   ]
  },
  {
   "cell_type": "code",
   "execution_count": 31,
   "metadata": {},
   "outputs": [
    {
     "data": {
      "text/html": [
       "<div>\n",
       "<style scoped>\n",
       "    .dataframe tbody tr th:only-of-type {\n",
       "        vertical-align: middle;\n",
       "    }\n",
       "\n",
       "    .dataframe tbody tr th {\n",
       "        vertical-align: top;\n",
       "    }\n",
       "\n",
       "    .dataframe thead th {\n",
       "        text-align: right;\n",
       "    }\n",
       "</style>\n",
       "<table border=\"1\" class=\"dataframe\">\n",
       "  <thead>\n",
       "    <tr style=\"text-align: right;\">\n",
       "      <th></th>\n",
       "      <th>Week</th>\n",
       "      <th>Threshold</th>\n",
       "      <th>Baseline</th>\n",
       "      <th>Percent_P_I</th>\n",
       "      <th>Num_Influenza_Deaths</th>\n",
       "      <th>Num_Pneumonia_Deaths</th>\n",
       "      <th>Total_Deaths</th>\n",
       "      <th>Percent_Complete</th>\n",
       "      <th>Calendar_Year</th>\n",
       "    </tr>\n",
       "  </thead>\n",
       "  <tbody>\n",
       "    <tr>\n",
       "      <td>count</td>\n",
       "      <td>338.000000</td>\n",
       "      <td>338.000000</td>\n",
       "      <td>338.000000</td>\n",
       "      <td>338.000000</td>\n",
       "      <td>338.000000</td>\n",
       "      <td>338.000000</td>\n",
       "      <td>338.000000</td>\n",
       "      <td>338.000000</td>\n",
       "      <td>338.000000</td>\n",
       "    </tr>\n",
       "    <tr>\n",
       "      <td>mean</td>\n",
       "      <td>26.618343</td>\n",
       "      <td>6.976331</td>\n",
       "      <td>6.600296</td>\n",
       "      <td>6.771893</td>\n",
       "      <td>154.562130</td>\n",
       "      <td>3445.701183</td>\n",
       "      <td>52804.973373</td>\n",
       "      <td>0.999047</td>\n",
       "      <td>2016.482249</td>\n",
       "    </tr>\n",
       "    <tr>\n",
       "      <td>std</td>\n",
       "      <td>15.507610</td>\n",
       "      <td>0.838981</td>\n",
       "      <td>0.824855</td>\n",
       "      <td>1.175849</td>\n",
       "      <td>259.909498</td>\n",
       "      <td>620.111191</td>\n",
       "      <td>3657.505221</td>\n",
       "      <td>0.009027</td>\n",
       "      <td>1.904542</td>\n",
       "    </tr>\n",
       "    <tr>\n",
       "      <td>min</td>\n",
       "      <td>1.000000</td>\n",
       "      <td>5.400000</td>\n",
       "      <td>5.100000</td>\n",
       "      <td>4.900000</td>\n",
       "      <td>1.000000</td>\n",
       "      <td>2511.000000</td>\n",
       "      <td>40002.000000</td>\n",
       "      <td>0.841000</td>\n",
       "      <td>2013.000000</td>\n",
       "    </tr>\n",
       "    <tr>\n",
       "      <td>25%</td>\n",
       "      <td>13.000000</td>\n",
       "      <td>6.300000</td>\n",
       "      <td>5.900000</td>\n",
       "      <td>5.900000</td>\n",
       "      <td>11.000000</td>\n",
       "      <td>2982.000000</td>\n",
       "      <td>50259.000000</td>\n",
       "      <td>1.000000</td>\n",
       "      <td>2015.000000</td>\n",
       "    </tr>\n",
       "    <tr>\n",
       "      <td>50%</td>\n",
       "      <td>27.000000</td>\n",
       "      <td>7.000000</td>\n",
       "      <td>6.600000</td>\n",
       "      <td>6.500000</td>\n",
       "      <td>30.500000</td>\n",
       "      <td>3234.000000</td>\n",
       "      <td>52106.000000</td>\n",
       "      <td>1.000000</td>\n",
       "      <td>2016.000000</td>\n",
       "    </tr>\n",
       "    <tr>\n",
       "      <td>75%</td>\n",
       "      <td>40.750000</td>\n",
       "      <td>7.600000</td>\n",
       "      <td>7.200000</td>\n",
       "      <td>7.500000</td>\n",
       "      <td>205.250000</td>\n",
       "      <td>3848.000000</td>\n",
       "      <td>55235.500000</td>\n",
       "      <td>1.000000</td>\n",
       "      <td>2018.000000</td>\n",
       "    </tr>\n",
       "    <tr>\n",
       "      <td>max</td>\n",
       "      <td>53.000000</td>\n",
       "      <td>8.600000</td>\n",
       "      <td>8.200000</td>\n",
       "      <td>10.900000</td>\n",
       "      <td>1626.000000</td>\n",
       "      <td>5589.000000</td>\n",
       "      <td>67495.000000</td>\n",
       "      <td>1.000000</td>\n",
       "      <td>2020.000000</td>\n",
       "    </tr>\n",
       "  </tbody>\n",
       "</table>\n",
       "</div>"
      ],
      "text/plain": [
       "             Week   Threshold    Baseline  Percent_P_I  Num_Influenza_Deaths  \\\n",
       "count  338.000000  338.000000  338.000000   338.000000            338.000000   \n",
       "mean    26.618343    6.976331    6.600296     6.771893            154.562130   \n",
       "std     15.507610    0.838981    0.824855     1.175849            259.909498   \n",
       "min      1.000000    5.400000    5.100000     4.900000              1.000000   \n",
       "25%     13.000000    6.300000    5.900000     5.900000             11.000000   \n",
       "50%     27.000000    7.000000    6.600000     6.500000             30.500000   \n",
       "75%     40.750000    7.600000    7.200000     7.500000            205.250000   \n",
       "max     53.000000    8.600000    8.200000    10.900000           1626.000000   \n",
       "\n",
       "       Num_Pneumonia_Deaths  Total_Deaths  Percent_Complete  Calendar_Year  \n",
       "count            338.000000    338.000000        338.000000     338.000000  \n",
       "mean            3445.701183  52804.973373          0.999047    2016.482249  \n",
       "std              620.111191   3657.505221          0.009027       1.904542  \n",
       "min             2511.000000  40002.000000          0.841000    2013.000000  \n",
       "25%             2982.000000  50259.000000          1.000000    2015.000000  \n",
       "50%             3234.000000  52106.000000          1.000000    2016.000000  \n",
       "75%             3848.000000  55235.500000          1.000000    2018.000000  \n",
       "max             5589.000000  67495.000000          1.000000    2020.000000  "
      ]
     },
     "execution_count": 31,
     "metadata": {},
     "output_type": "execute_result"
    }
   ],
   "source": [
    "df_national.describe()"
   ]
  },
  {
   "cell_type": "code",
   "execution_count": 32,
   "metadata": {},
   "outputs": [],
   "source": [
    "df_national_official = df_national.sort_values(['Calendar_Year','Week']).reset_index()"
   ]
  },
  {
   "cell_type": "code",
   "execution_count": 33,
   "metadata": {},
   "outputs": [
    {
     "data": {
      "text/html": [
       "<div>\n",
       "<style scoped>\n",
       "    .dataframe tbody tr th:only-of-type {\n",
       "        vertical-align: middle;\n",
       "    }\n",
       "\n",
       "    .dataframe tbody tr th {\n",
       "        vertical-align: top;\n",
       "    }\n",
       "\n",
       "    .dataframe thead th {\n",
       "        text-align: right;\n",
       "    }\n",
       "</style>\n",
       "<table border=\"1\" class=\"dataframe\">\n",
       "  <thead>\n",
       "    <tr style=\"text-align: right;\">\n",
       "      <th></th>\n",
       "      <th>index</th>\n",
       "      <th>Area</th>\n",
       "      <th>Season</th>\n",
       "      <th>Week</th>\n",
       "      <th>Threshold</th>\n",
       "      <th>Baseline</th>\n",
       "      <th>Percent_P_I</th>\n",
       "      <th>Num_Influenza_Deaths</th>\n",
       "      <th>Num_Pneumonia_Deaths</th>\n",
       "      <th>Total_Deaths</th>\n",
       "      <th>Percent_Complete</th>\n",
       "      <th>Calendar_Year</th>\n",
       "    </tr>\n",
       "  </thead>\n",
       "  <tbody>\n",
       "    <tr>\n",
       "      <td>0</td>\n",
       "      <td>286</td>\n",
       "      <td>National</td>\n",
       "      <td>2013-14</td>\n",
       "      <td>40</td>\n",
       "      <td>6.8</td>\n",
       "      <td>6.4</td>\n",
       "      <td>6.6</td>\n",
       "      <td>3</td>\n",
       "      <td>3140</td>\n",
       "      <td>47492</td>\n",
       "      <td>0.998</td>\n",
       "      <td>2013</td>\n",
       "    </tr>\n",
       "    <tr>\n",
       "      <td>1</td>\n",
       "      <td>287</td>\n",
       "      <td>National</td>\n",
       "      <td>2013-14</td>\n",
       "      <td>41</td>\n",
       "      <td>6.9</td>\n",
       "      <td>6.5</td>\n",
       "      <td>6.7</td>\n",
       "      <td>12</td>\n",
       "      <td>3135</td>\n",
       "      <td>47304</td>\n",
       "      <td>0.994</td>\n",
       "      <td>2013</td>\n",
       "    </tr>\n",
       "    <tr>\n",
       "      <td>2</td>\n",
       "      <td>288</td>\n",
       "      <td>National</td>\n",
       "      <td>2013-14</td>\n",
       "      <td>42</td>\n",
       "      <td>7.0</td>\n",
       "      <td>6.6</td>\n",
       "      <td>6.8</td>\n",
       "      <td>11</td>\n",
       "      <td>3216</td>\n",
       "      <td>47602</td>\n",
       "      <td>1.000</td>\n",
       "      <td>2013</td>\n",
       "    </tr>\n",
       "    <tr>\n",
       "      <td>3</td>\n",
       "      <td>289</td>\n",
       "      <td>National</td>\n",
       "      <td>2013-14</td>\n",
       "      <td>43</td>\n",
       "      <td>7.1</td>\n",
       "      <td>6.7</td>\n",
       "      <td>6.6</td>\n",
       "      <td>11</td>\n",
       "      <td>3151</td>\n",
       "      <td>47746</td>\n",
       "      <td>1.000</td>\n",
       "      <td>2013</td>\n",
       "    </tr>\n",
       "    <tr>\n",
       "      <td>4</td>\n",
       "      <td>290</td>\n",
       "      <td>National</td>\n",
       "      <td>2013-14</td>\n",
       "      <td>44</td>\n",
       "      <td>7.2</td>\n",
       "      <td>6.8</td>\n",
       "      <td>6.7</td>\n",
       "      <td>12</td>\n",
       "      <td>3271</td>\n",
       "      <td>48777</td>\n",
       "      <td>1.000</td>\n",
       "      <td>2013</td>\n",
       "    </tr>\n",
       "  </tbody>\n",
       "</table>\n",
       "</div>"
      ],
      "text/plain": [
       "   index      Area   Season  Week  Threshold  Baseline  Percent_P_I  \\\n",
       "0    286  National  2013-14    40        6.8       6.4          6.6   \n",
       "1    287  National  2013-14    41        6.9       6.5          6.7   \n",
       "2    288  National  2013-14    42        7.0       6.6          6.8   \n",
       "3    289  National  2013-14    43        7.1       6.7          6.6   \n",
       "4    290  National  2013-14    44        7.2       6.8          6.7   \n",
       "\n",
       "   Num_Influenza_Deaths  Num_Pneumonia_Deaths  Total_Deaths  Percent_Complete  \\\n",
       "0                     3                  3140         47492             0.998   \n",
       "1                    12                  3135         47304             0.994   \n",
       "2                    11                  3216         47602             1.000   \n",
       "3                    11                  3151         47746             1.000   \n",
       "4                    12                  3271         48777             1.000   \n",
       "\n",
       "   Calendar_Year  \n",
       "0           2013  \n",
       "1           2013  \n",
       "2           2013  \n",
       "3           2013  \n",
       "4           2013  "
      ]
     },
     "execution_count": 33,
     "metadata": {},
     "output_type": "execute_result"
    }
   ],
   "source": [
    "df_national_official.head()"
   ]
  },
  {
   "cell_type": "code",
   "execution_count": 34,
   "metadata": {},
   "outputs": [],
   "source": [
    "# df_national_official.drop('index', axis = 1, inplace = True)\n"
   ]
  },
  {
   "cell_type": "code",
   "execution_count": 35,
   "metadata": {},
   "outputs": [
    {
     "data": {
      "text/html": [
       "<div>\n",
       "<style scoped>\n",
       "    .dataframe tbody tr th:only-of-type {\n",
       "        vertical-align: middle;\n",
       "    }\n",
       "\n",
       "    .dataframe tbody tr th {\n",
       "        vertical-align: top;\n",
       "    }\n",
       "\n",
       "    .dataframe thead th {\n",
       "        text-align: right;\n",
       "    }\n",
       "</style>\n",
       "<table border=\"1\" class=\"dataframe\">\n",
       "  <thead>\n",
       "    <tr style=\"text-align: right;\">\n",
       "      <th></th>\n",
       "      <th>Area</th>\n",
       "      <th>Season</th>\n",
       "      <th>Week</th>\n",
       "      <th>Threshold</th>\n",
       "      <th>Baseline</th>\n",
       "      <th>Percent_P_I</th>\n",
       "      <th>Num_Influenza_Deaths</th>\n",
       "      <th>Num_Pneumonia_Deaths</th>\n",
       "      <th>Total_Deaths</th>\n",
       "      <th>Percent_Complete</th>\n",
       "      <th>Calendar_Year</th>\n",
       "    </tr>\n",
       "  </thead>\n",
       "  <tbody>\n",
       "    <tr>\n",
       "      <td>0</td>\n",
       "      <td>National</td>\n",
       "      <td>2013-14</td>\n",
       "      <td>40</td>\n",
       "      <td>6.8</td>\n",
       "      <td>6.4</td>\n",
       "      <td>6.6</td>\n",
       "      <td>3</td>\n",
       "      <td>3140</td>\n",
       "      <td>47492</td>\n",
       "      <td>0.998</td>\n",
       "      <td>2013</td>\n",
       "    </tr>\n",
       "    <tr>\n",
       "      <td>1</td>\n",
       "      <td>National</td>\n",
       "      <td>2013-14</td>\n",
       "      <td>41</td>\n",
       "      <td>6.9</td>\n",
       "      <td>6.5</td>\n",
       "      <td>6.7</td>\n",
       "      <td>12</td>\n",
       "      <td>3135</td>\n",
       "      <td>47304</td>\n",
       "      <td>0.994</td>\n",
       "      <td>2013</td>\n",
       "    </tr>\n",
       "    <tr>\n",
       "      <td>2</td>\n",
       "      <td>National</td>\n",
       "      <td>2013-14</td>\n",
       "      <td>42</td>\n",
       "      <td>7.0</td>\n",
       "      <td>6.6</td>\n",
       "      <td>6.8</td>\n",
       "      <td>11</td>\n",
       "      <td>3216</td>\n",
       "      <td>47602</td>\n",
       "      <td>1.000</td>\n",
       "      <td>2013</td>\n",
       "    </tr>\n",
       "    <tr>\n",
       "      <td>3</td>\n",
       "      <td>National</td>\n",
       "      <td>2013-14</td>\n",
       "      <td>43</td>\n",
       "      <td>7.1</td>\n",
       "      <td>6.7</td>\n",
       "      <td>6.6</td>\n",
       "      <td>11</td>\n",
       "      <td>3151</td>\n",
       "      <td>47746</td>\n",
       "      <td>1.000</td>\n",
       "      <td>2013</td>\n",
       "    </tr>\n",
       "    <tr>\n",
       "      <td>4</td>\n",
       "      <td>National</td>\n",
       "      <td>2013-14</td>\n",
       "      <td>44</td>\n",
       "      <td>7.2</td>\n",
       "      <td>6.8</td>\n",
       "      <td>6.7</td>\n",
       "      <td>12</td>\n",
       "      <td>3271</td>\n",
       "      <td>48777</td>\n",
       "      <td>1.000</td>\n",
       "      <td>2013</td>\n",
       "    </tr>\n",
       "  </tbody>\n",
       "</table>\n",
       "</div>"
      ],
      "text/plain": [
       "       Area   Season  Week  Threshold  Baseline  Percent_P_I  \\\n",
       "0  National  2013-14    40        6.8       6.4          6.6   \n",
       "1  National  2013-14    41        6.9       6.5          6.7   \n",
       "2  National  2013-14    42        7.0       6.6          6.8   \n",
       "3  National  2013-14    43        7.1       6.7          6.6   \n",
       "4  National  2013-14    44        7.2       6.8          6.7   \n",
       "\n",
       "   Num_Influenza_Deaths  Num_Pneumonia_Deaths  Total_Deaths  Percent_Complete  \\\n",
       "0                     3                  3140         47492             0.998   \n",
       "1                    12                  3135         47304             0.994   \n",
       "2                    11                  3216         47602             1.000   \n",
       "3                    11                  3151         47746             1.000   \n",
       "4                    12                  3271         48777             1.000   \n",
       "\n",
       "   Calendar_Year  \n",
       "0           2013  \n",
       "1           2013  \n",
       "2           2013  \n",
       "3           2013  \n",
       "4           2013  "
      ]
     },
     "execution_count": 35,
     "metadata": {},
     "output_type": "execute_result"
    }
   ],
   "source": [
    "df_national_official.head()"
   ]
  },
  {
   "cell_type": "code",
   "execution_count": 36,
   "metadata": {},
   "outputs": [
    {
     "data": {
      "text/html": [
       "<div>\n",
       "<style scoped>\n",
       "    .dataframe tbody tr th:only-of-type {\n",
       "        vertical-align: middle;\n",
       "    }\n",
       "\n",
       "    .dataframe tbody tr th {\n",
       "        vertical-align: top;\n",
       "    }\n",
       "\n",
       "    .dataframe thead th {\n",
       "        text-align: right;\n",
       "    }\n",
       "</style>\n",
       "<table border=\"1\" class=\"dataframe\">\n",
       "  <thead>\n",
       "    <tr style=\"text-align: right;\">\n",
       "      <th></th>\n",
       "      <th>Week</th>\n",
       "      <th>Threshold</th>\n",
       "      <th>Baseline</th>\n",
       "      <th>Percent_P_I</th>\n",
       "      <th>Num_Influenza_Deaths</th>\n",
       "      <th>Num_Pneumonia_Deaths</th>\n",
       "      <th>Total_Deaths</th>\n",
       "      <th>Percent_Complete</th>\n",
       "      <th>Calendar_Year</th>\n",
       "    </tr>\n",
       "  </thead>\n",
       "  <tbody>\n",
       "    <tr>\n",
       "      <td>count</td>\n",
       "      <td>338.000000</td>\n",
       "      <td>338.000000</td>\n",
       "      <td>338.000000</td>\n",
       "      <td>338.000000</td>\n",
       "      <td>338.000000</td>\n",
       "      <td>338.000000</td>\n",
       "      <td>338.000000</td>\n",
       "      <td>338.000000</td>\n",
       "      <td>338.000000</td>\n",
       "    </tr>\n",
       "    <tr>\n",
       "      <td>mean</td>\n",
       "      <td>26.618343</td>\n",
       "      <td>6.976331</td>\n",
       "      <td>6.600296</td>\n",
       "      <td>6.771893</td>\n",
       "      <td>154.562130</td>\n",
       "      <td>3445.701183</td>\n",
       "      <td>52804.973373</td>\n",
       "      <td>0.999047</td>\n",
       "      <td>2016.482249</td>\n",
       "    </tr>\n",
       "    <tr>\n",
       "      <td>std</td>\n",
       "      <td>15.507610</td>\n",
       "      <td>0.838981</td>\n",
       "      <td>0.824855</td>\n",
       "      <td>1.175849</td>\n",
       "      <td>259.909498</td>\n",
       "      <td>620.111191</td>\n",
       "      <td>3657.505221</td>\n",
       "      <td>0.009027</td>\n",
       "      <td>1.904542</td>\n",
       "    </tr>\n",
       "    <tr>\n",
       "      <td>min</td>\n",
       "      <td>1.000000</td>\n",
       "      <td>5.400000</td>\n",
       "      <td>5.100000</td>\n",
       "      <td>4.900000</td>\n",
       "      <td>1.000000</td>\n",
       "      <td>2511.000000</td>\n",
       "      <td>40002.000000</td>\n",
       "      <td>0.841000</td>\n",
       "      <td>2013.000000</td>\n",
       "    </tr>\n",
       "    <tr>\n",
       "      <td>25%</td>\n",
       "      <td>13.000000</td>\n",
       "      <td>6.300000</td>\n",
       "      <td>5.900000</td>\n",
       "      <td>5.900000</td>\n",
       "      <td>11.000000</td>\n",
       "      <td>2982.000000</td>\n",
       "      <td>50259.000000</td>\n",
       "      <td>1.000000</td>\n",
       "      <td>2015.000000</td>\n",
       "    </tr>\n",
       "    <tr>\n",
       "      <td>50%</td>\n",
       "      <td>27.000000</td>\n",
       "      <td>7.000000</td>\n",
       "      <td>6.600000</td>\n",
       "      <td>6.500000</td>\n",
       "      <td>30.500000</td>\n",
       "      <td>3234.000000</td>\n",
       "      <td>52106.000000</td>\n",
       "      <td>1.000000</td>\n",
       "      <td>2016.000000</td>\n",
       "    </tr>\n",
       "    <tr>\n",
       "      <td>75%</td>\n",
       "      <td>40.750000</td>\n",
       "      <td>7.600000</td>\n",
       "      <td>7.200000</td>\n",
       "      <td>7.500000</td>\n",
       "      <td>205.250000</td>\n",
       "      <td>3848.000000</td>\n",
       "      <td>55235.500000</td>\n",
       "      <td>1.000000</td>\n",
       "      <td>2018.000000</td>\n",
       "    </tr>\n",
       "    <tr>\n",
       "      <td>max</td>\n",
       "      <td>53.000000</td>\n",
       "      <td>8.600000</td>\n",
       "      <td>8.200000</td>\n",
       "      <td>10.900000</td>\n",
       "      <td>1626.000000</td>\n",
       "      <td>5589.000000</td>\n",
       "      <td>67495.000000</td>\n",
       "      <td>1.000000</td>\n",
       "      <td>2020.000000</td>\n",
       "    </tr>\n",
       "  </tbody>\n",
       "</table>\n",
       "</div>"
      ],
      "text/plain": [
       "             Week   Threshold    Baseline  Percent_P_I  Num_Influenza_Deaths  \\\n",
       "count  338.000000  338.000000  338.000000   338.000000            338.000000   \n",
       "mean    26.618343    6.976331    6.600296     6.771893            154.562130   \n",
       "std     15.507610    0.838981    0.824855     1.175849            259.909498   \n",
       "min      1.000000    5.400000    5.100000     4.900000              1.000000   \n",
       "25%     13.000000    6.300000    5.900000     5.900000             11.000000   \n",
       "50%     27.000000    7.000000    6.600000     6.500000             30.500000   \n",
       "75%     40.750000    7.600000    7.200000     7.500000            205.250000   \n",
       "max     53.000000    8.600000    8.200000    10.900000           1626.000000   \n",
       "\n",
       "       Num_Pneumonia_Deaths  Total_Deaths  Percent_Complete  Calendar_Year  \n",
       "count            338.000000    338.000000        338.000000     338.000000  \n",
       "mean            3445.701183  52804.973373          0.999047    2016.482249  \n",
       "std              620.111191   3657.505221          0.009027       1.904542  \n",
       "min             2511.000000  40002.000000          0.841000    2013.000000  \n",
       "25%             2982.000000  50259.000000          1.000000    2015.000000  \n",
       "50%             3234.000000  52106.000000          1.000000    2016.000000  \n",
       "75%             3848.000000  55235.500000          1.000000    2018.000000  \n",
       "max             5589.000000  67495.000000          1.000000    2020.000000  "
      ]
     },
     "execution_count": 36,
     "metadata": {},
     "output_type": "execute_result"
    }
   ],
   "source": [
    "df_national_official.describe()"
   ]
  },
  {
   "cell_type": "code",
   "execution_count": 37,
   "metadata": {},
   "outputs": [
    {
     "data": {
      "text/html": [
       "<div>\n",
       "<style scoped>\n",
       "    .dataframe tbody tr th:only-of-type {\n",
       "        vertical-align: middle;\n",
       "    }\n",
       "\n",
       "    .dataframe tbody tr th {\n",
       "        vertical-align: top;\n",
       "    }\n",
       "\n",
       "    .dataframe thead th {\n",
       "        text-align: right;\n",
       "    }\n",
       "</style>\n",
       "<table border=\"1\" class=\"dataframe\">\n",
       "  <thead>\n",
       "    <tr style=\"text-align: right;\">\n",
       "      <th></th>\n",
       "      <th>Area</th>\n",
       "      <th>Season</th>\n",
       "      <th>Week</th>\n",
       "      <th>Threshold</th>\n",
       "      <th>Baseline</th>\n",
       "      <th>Percent_P_I</th>\n",
       "      <th>Num_Influenza_Deaths</th>\n",
       "      <th>Num_Pneumonia_Deaths</th>\n",
       "      <th>Total_Deaths</th>\n",
       "      <th>Percent_Complete</th>\n",
       "    </tr>\n",
       "    <tr>\n",
       "      <th>Calendar_Year</th>\n",
       "      <th></th>\n",
       "      <th></th>\n",
       "      <th></th>\n",
       "      <th></th>\n",
       "      <th></th>\n",
       "      <th></th>\n",
       "      <th></th>\n",
       "      <th></th>\n",
       "      <th></th>\n",
       "      <th></th>\n",
       "    </tr>\n",
       "  </thead>\n",
       "  <tbody>\n",
       "    <tr>\n",
       "      <td>2013</td>\n",
       "      <td>2</td>\n",
       "      <td>2</td>\n",
       "      <td>2</td>\n",
       "      <td>2</td>\n",
       "      <td>2</td>\n",
       "      <td>2</td>\n",
       "      <td>2</td>\n",
       "      <td>2</td>\n",
       "      <td>2</td>\n",
       "      <td>2</td>\n",
       "    </tr>\n",
       "    <tr>\n",
       "      <td>2014</td>\n",
       "      <td>13</td>\n",
       "      <td>13</td>\n",
       "      <td>13</td>\n",
       "      <td>13</td>\n",
       "      <td>13</td>\n",
       "      <td>13</td>\n",
       "      <td>13</td>\n",
       "      <td>13</td>\n",
       "      <td>13</td>\n",
       "      <td>13</td>\n",
       "    </tr>\n",
       "    <tr>\n",
       "      <td>2020</td>\n",
       "      <td>1</td>\n",
       "      <td>1</td>\n",
       "      <td>1</td>\n",
       "      <td>1</td>\n",
       "      <td>1</td>\n",
       "      <td>1</td>\n",
       "      <td>1</td>\n",
       "      <td>1</td>\n",
       "      <td>1</td>\n",
       "      <td>1</td>\n",
       "    </tr>\n",
       "  </tbody>\n",
       "</table>\n",
       "</div>"
      ],
      "text/plain": [
       "               Area  Season  Week  Threshold  Baseline  Percent_P_I  \\\n",
       "Calendar_Year                                                         \n",
       "2013              2       2     2          2         2            2   \n",
       "2014             13      13    13         13        13           13   \n",
       "2020              1       1     1          1         1            1   \n",
       "\n",
       "               Num_Influenza_Deaths  Num_Pneumonia_Deaths  Total_Deaths  \\\n",
       "Calendar_Year                                                             \n",
       "2013                              2                     2             2   \n",
       "2014                             13                    13            13   \n",
       "2020                              1                     1             1   \n",
       "\n",
       "               Percent_Complete  \n",
       "Calendar_Year                    \n",
       "2013                          2  \n",
       "2014                         13  \n",
       "2020                          1  "
      ]
     },
     "execution_count": 37,
     "metadata": {},
     "output_type": "execute_result"
    }
   ],
   "source": [
    "mask = df_national_official['Percent_Complete'] <1\n",
    "df_national_incomplete = df_national_official[mask]\n",
    "df_national_incomplete.describe()\n",
    "df_national_incomplete.groupby('Calendar_Year').count()"
   ]
  },
  {
   "cell_type": "code",
   "execution_count": 38,
   "metadata": {},
   "outputs": [
    {
     "data": {
      "text/plain": [
       "Calendar_Year\n",
       "2013    0.996000\n",
       "2014    0.988077\n",
       "2020    0.841000\n",
       "Name: Percent_Complete, dtype: float64"
      ]
     },
     "execution_count": 38,
     "metadata": {},
     "output_type": "execute_result"
    }
   ],
   "source": [
    "df_national_incomplete.groupby('Calendar_Year').mean()['Percent_Complete']"
   ]
  },
  {
   "cell_type": "code",
   "execution_count": 46,
   "metadata": {},
   "outputs": [],
   "source": [
    "label = list(df_national_official['Week'].unique())"
   ]
  },
  {
   "cell_type": "code",
   "execution_count": 51,
   "metadata": {},
   "outputs": [
    {
     "data": {
      "text/plain": [
       "[1,\n",
       " 2,\n",
       " 3,\n",
       " 4,\n",
       " 5,\n",
       " 6,\n",
       " 7,\n",
       " 8,\n",
       " 9,\n",
       " 10,\n",
       " 11,\n",
       " 12,\n",
       " 13,\n",
       " 14,\n",
       " 15,\n",
       " 16,\n",
       " 17,\n",
       " 18,\n",
       " 19,\n",
       " 20,\n",
       " 21,\n",
       " 22,\n",
       " 23,\n",
       " 24,\n",
       " 25,\n",
       " 26,\n",
       " 27,\n",
       " 28,\n",
       " 29,\n",
       " 30,\n",
       " 31,\n",
       " 32,\n",
       " 33,\n",
       " 34,\n",
       " 35,\n",
       " 36,\n",
       " 37,\n",
       " 38,\n",
       " 39,\n",
       " 40,\n",
       " 41,\n",
       " 42,\n",
       " 43,\n",
       " 44,\n",
       " 45,\n",
       " 46,\n",
       " 47,\n",
       " 48,\n",
       " 49,\n",
       " 50,\n",
       " 51,\n",
       " 52,\n",
       " 53]"
      ]
     },
     "execution_count": 51,
     "metadata": {},
     "output_type": "execute_result"
    }
   ],
   "source": [
    "labels = sorted(label)\n",
    "labels"
   ]
  },
  {
   "cell_type": "code",
   "execution_count": 53,
   "metadata": {},
   "outputs": [
    {
     "data": {
      "text/plain": [
       "[1, 2, 3, 4, 5, 6, 7, 8, 9, 10, 11]"
      ]
     },
     "execution_count": 53,
     "metadata": {},
     "output_type": "execute_result"
    }
   ],
   "source": [
    "labels[0:11]"
   ]
  },
  {
   "cell_type": "code",
   "execution_count": 61,
   "metadata": {},
   "outputs": [],
   "source": [
    "mask = (df_national_official['Week'] == 1) & (df_national_official['Calendar_Year'] == 2019)"
   ]
  },
  {
   "cell_type": "code",
   "execution_count": 67,
   "metadata": {},
   "outputs": [],
   "source": [
    "x = df_national_official[mask]['Total_Deaths']"
   ]
  },
  {
   "cell_type": "code",
   "execution_count": 72,
   "metadata": {},
   "outputs": [
    {
     "data": {
      "text/plain": [
       "274    58289\n",
       "Name: Total_Deaths, dtype: int64"
      ]
     },
     "execution_count": 72,
     "metadata": {},
     "output_type": "execute_result"
    }
   ],
   "source": [
    "x.iloc[0]"
   ]
  },
  {
   "cell_type": "code",
   "execution_count": 71,
   "metadata": {},
   "outputs": [
    {
     "data": {
      "text/plain": [
       "58289"
      ]
     },
     "execution_count": 71,
     "metadata": {},
     "output_type": "execute_result"
    }
   ],
   "source": []
  },
  {
   "cell_type": "code",
   "execution_count": 73,
   "metadata": {},
   "outputs": [
    {
     "data": {
      "text/plain": [
       "[2014, 2015, 2016, 2017, 2018, 2019, 2020]"
      ]
     },
     "execution_count": 73,
     "metadata": {},
     "output_type": "execute_result"
    }
   ],
   "source": [
    "years[1:]"
   ]
  },
  {
   "cell_type": "code",
   "execution_count": null,
   "metadata": {},
   "outputs": [],
   "source": []
  },
  {
   "cell_type": "code",
   "execution_count": 97,
   "metadata": {},
   "outputs": [],
   "source": [
    "death_lst = []\n",
    "year_lst = []\n",
    "week_lst = []\n",
    "\n",
    "for i in range(1,len(labels[0:11])+1):\n",
    "    for year in years[1:]:\n",
    "        mask = (df_national_official['Week'] == i) & (df_national_official['Calendar_Year'] == year)\n",
    "        df = df_national_official[mask]\n",
    "        death_lst.append(df['Total_Deaths'].iloc[0])\n",
    "        year_lst.append(year)\n",
    "        week_lst.append(i)"
   ]
  },
  {
   "cell_type": "code",
   "execution_count": 99,
   "metadata": {},
   "outputs": [],
   "source": [
    "y_w_d = []\n",
    "for y, w, d in zip(year_lst,week_lst,death_lst):\n",
    "    y_w_d.append((y,w,d))"
   ]
  },
  {
   "cell_type": "code",
   "execution_count": 100,
   "metadata": {},
   "outputs": [
    {
     "data": {
      "text/plain": [
       "[(2014, 1, 53277),\n",
       " (2015, 1, 61737),\n",
       " (2016, 1, 55788),\n",
       " (2017, 1, 59763),\n",
       " (2018, 1, 66134),\n",
       " (2019, 1, 58289),\n",
       " (2020, 1, 58961),\n",
       " (2014, 2, 55620),\n",
       " (2015, 2, 61141),\n",
       " (2016, 2, 55525),\n",
       " (2017, 2, 60980),\n",
       " (2018, 2, 67495),\n",
       " (2019, 2, 58351),\n",
       " (2020, 2, 58962),\n",
       " (2014, 3, 54580),\n",
       " (2015, 3, 58628),\n",
       " (2016, 3, 55182),\n",
       " (2017, 3, 59293),\n",
       " (2018, 3, 64647),\n",
       " (2019, 3, 58193),\n",
       " (2020, 3, 57371),\n",
       " (2014, 4, 54085),\n",
       " (2015, 4, 57269),\n",
       " (2016, 4, 55606),\n",
       " (2017, 4, 58047),\n",
       " (2018, 4, 62780),\n",
       " (2019, 4, 57834),\n",
       " (2020, 4, 56666),\n",
       " (2014, 5, 53955),\n",
       " (2015, 5, 57284),\n",
       " (2016, 5, 54896),\n",
       " (2017, 5, 58432),\n",
       " (2018, 5, 60974),\n",
       " (2019, 5, 58122),\n",
       " (2020, 5, 55849),\n",
       " (2014, 6, 53397),\n",
       " (2015, 6, 56420),\n",
       " (2016, 6, 55106),\n",
       " (2017, 6, 59038),\n",
       " (2018, 6, 61110),\n",
       " (2019, 6, 58489),\n",
       " (2020, 6, 55992),\n",
       " (2014, 7, 53815),\n",
       " (2015, 7, 56348),\n",
       " (2016, 7, 55785),\n",
       " (2017, 7, 58479),\n",
       " (2018, 7, 59779),\n",
       " (2019, 7, 57915),\n",
       " (2020, 7, 54246),\n",
       " (2014, 8, 52642),\n",
       " (2015, 8, 55668),\n",
       " (2016, 8, 54873),\n",
       " (2017, 8, 58288),\n",
       " (2018, 8, 57793),\n",
       " (2019, 8, 57856),\n",
       " (2020, 8, 53745),\n",
       " (2014, 9, 51674),\n",
       " (2015, 9, 55732),\n",
       " (2016, 9, 55875),\n",
       " (2017, 9, 57256),\n",
       " (2018, 9, 56692),\n",
       " (2019, 9, 57915),\n",
       " (2020, 9, 53382),\n",
       " (2014, 10, 52058),\n",
       " (2015, 10, 55272),\n",
       " (2016, 10, 56112),\n",
       " (2017, 10, 57477),\n",
       " (2018, 10, 57093),\n",
       " (2019, 10, 58488),\n",
       " (2020, 10, 51978),\n",
       " (2014, 11, 51782),\n",
       " (2015, 11, 54262),\n",
       " (2016, 11, 54462),\n",
       " (2017, 11, 56656),\n",
       " (2018, 11, 56326),\n",
       " (2019, 11, 57869),\n",
       " (2020, 11, 47655)]"
      ]
     },
     "execution_count": 100,
     "metadata": {},
     "output_type": "execute_result"
    }
   ],
   "source": [
    "y_w_d"
   ]
  },
  {
   "cell_type": "code",
   "execution_count": 111,
   "metadata": {},
   "outputs": [],
   "source": [
    "\n",
    "deaths_2014 = []\n",
    "deaths_2015 = []\n",
    "deaths_2016 = []\n",
    "deaths_2017 = []\n",
    "deaths_2018 = []\n",
    "deaths_2019 = []\n",
    "deaths_2020 = [] \n",
    "\n",
    "\n",
    "for y,w,d in y_w_d:\n",
    "    if y == 2014:\n",
    "        deaths_2014.append(d)\n",
    "    elif y == 2015:\n",
    "        deaths_2015.append(d)\n",
    "    elif y == 2016:\n",
    "        deaths_2016.append(d)\n",
    "    elif y == 2017:\n",
    "        deaths_2017.append(d)\n",
    "    elif y == 2018:\n",
    "        deaths_2018.append(d)\n",
    "    elif y == 2019:\n",
    "        deaths_2019.append(d)\n",
    "    elif y == 2020:\n",
    "        deaths_2020.append(d)"
   ]
  },
  {
   "cell_type": "code",
   "execution_count": 112,
   "metadata": {},
   "outputs": [
    {
     "data": {
      "text/plain": [
       "[58961, 58962, 57371, 56666, 55849, 55992, 54246, 53745, 53382, 51978, 47655]"
      ]
     },
     "execution_count": 112,
     "metadata": {},
     "output_type": "execute_result"
    }
   ],
   "source": [
    "deaths_2020"
   ]
  },
  {
   "cell_type": "code",
   "execution_count": 142,
   "metadata": {},
   "outputs": [
    {
     "data": {
      "image/png": "[encoded data removed]",
      "text/plain": [
       "<Figure size 1152x288 with 1 Axes>"
      ]
     },
     "metadata": {},
     "output_type": "display_data"
    }
   ],
   "source": [
    "fig, ax = plt.subplots(figsize = (16,4))\n",
    "\n",
    "# set width of bar\n",
    "barWidth = 0.15\n",
    " \n",
    "# set height of bar\n",
    "bars1 = deaths_2020\n",
    "bars2 = deaths_2019\n",
    "bars3 = deaths_2018\n",
    "bars4 = deaths_2017\n",
    "\n",
    "weeks = labels[0:11]\n",
    "\n",
    "# Set position of bar on X axis\n",
    "r1 = np.arange(len(bars1))\n",
    "r2 = [x + barWidth for x in r1]\n",
    "r3 = [x + barWidth for x in r2]\n",
    "r4 = [x + barWidth for x in r3]\n",
    " \n",
    "# Make the plot\n",
    "ax.bar(r1, bars1,  width=barWidth, edgecolor='white', label='2020')\n",
    "ax.bar(r2, bars2,  width=barWidth, edgecolor='white', label='2019', alpha = 0.25)\n",
    "ax.bar(r3, bars3,  width=barWidth, edgecolor='white', label='2018', alpha = 0.3)\n",
    "ax.bar(r4, bars4,  width=barWidth, edgecolor='white', label='2017', alpha = 0.3)\n",
    "\n",
    " \n",
    "# Add xticks on the middle of the group bars\n",
    "plt.xlabel('Week of Year', fontweight='bold')\n",
    "plt.xticks([r + barWidth for r in range(len(bars1))], ['1', '2', '3', '4', '5', '6', '7', '8', '9', '10', '11'])\n",
    " \n",
    "# Create legend & Show graphic\n",
    "plt.legend(bbox_to_anchor=(1, 1),\n",
    "           bbox_transform=plt.gcf().transFigure)\n",
    "\n",
    "\n",
    "\n",
    "\n",
    "ax.set_title(\"U.S. Deaths by Week of the Year\", fontsize = 14)\n",
    "ax.set_xlabel(\"Week of the Year\", fontsize = 14)\n",
    "ax.set_ylabel(\"Total Weekly Deaths\", fontsize = 14)\n",
    "\n",
    "ax.get_yaxis().set_major_formatter(\n",
    "    matplotlib.ticker.FuncFormatter(lambda x, p: format(int(x), ',')))\n",
    "\n",
    "ax.set_ylim([40000,70000])\n",
    "plt.show()"
   ]
  },
  {
   "cell_type": "markdown",
   "metadata": {},
   "source": [
    "## State Level Data Initial EDA"
   ]
  },
  {
   "cell_type": "code",
   "execution_count": null,
   "metadata": {},
   "outputs": [],
   "source": [
    "df_states = pd.read_csv(\"data/State_Custom_Data.csv\", thousands =',')"
   ]
  },
  {
   "cell_type": "code",
   "execution_count": null,
   "metadata": {},
   "outputs": [],
   "source": [
    "df_states.head()"
   ]
  },
  {
   "cell_type": "code",
   "execution_count": null,
   "metadata": {},
   "outputs": [],
   "source": [
    "df_states.columns"
   ]
  },
  {
   "cell_type": "code",
   "execution_count": null,
   "metadata": {},
   "outputs": [],
   "source": [
    "df_states.columns = ['Area', 'State','Age_Group', \n",
    "                      'Season', 'Week'\n",
    "                     ,'Percent_P_I', 'Num_Influenza_Deaths',\n",
    "                     'Num_Pneumonia_Deaths','Total_Deaths', 'Percent_Complete']\n",
    "#rename columns to remove spaces"
   ]
  },
  {
   "cell_type": "code",
   "execution_count": null,
   "metadata": {},
   "outputs": [],
   "source": [
    "df_states.columns"
   ]
  },
  {
   "cell_type": "code",
   "execution_count": null,
   "metadata": {},
   "outputs": [],
   "source": [
    "df_states.head()"
   ]
  },
  {
   "cell_type": "code",
   "execution_count": null,
   "metadata": {},
   "outputs": [],
   "source": [
    "df_states['Area'].unique()"
   ]
  },
  {
   "cell_type": "code",
   "execution_count": null,
   "metadata": {},
   "outputs": [],
   "source": [
    "df_states['Age_Group'].unique()"
   ]
  },
  {
   "cell_type": "code",
   "execution_count": null,
   "metadata": {},
   "outputs": [],
   "source": [
    "conditions = [\n",
    "    df_states['Week']<40,\n",
    "    df_states['Week']>=40    \n",
    "]\n",
    "\n"
   ]
  },
  {
   "cell_type": "code",
   "execution_count": null,
   "metadata": {},
   "outputs": [],
   "source": [
    "df_states['First_Year'] = df_states['Season'].apply(lambda x: int(x[0:4])) \n",
    "df_states['Second_Year'] = df_states['Season'].apply(lambda x: int(x[0:4])+1) \n"
   ]
  },
  {
   "cell_type": "code",
   "execution_count": null,
   "metadata": {},
   "outputs": [],
   "source": [
    "choices = [df_states['Second_Year'],df_states['First_Year']]\n"
   ]
  },
  {
   "cell_type": "code",
   "execution_count": null,
   "metadata": {},
   "outputs": [],
   "source": [
    "df_states['Calendar_Year'] = np.select(conditions,choices)"
   ]
  },
  {
   "cell_type": "code",
   "execution_count": null,
   "metadata": {},
   "outputs": [],
   "source": [
    "df_states.head()"
   ]
  },
  {
   "cell_type": "code",
   "execution_count": null,
   "metadata": {},
   "outputs": [],
   "source": [
    "# df_states.drop('First_Year', axis = 1, inplace = True)\n",
    "# df_states.drop('Second_Year', axis = 1, inplace = True)\n",
    "# df_states.drop('Age_Group', axis = 1, inplace = True)\n",
    "# df_states.drop('Area', axis = 1, inplace = True)"
   ]
  },
  {
   "cell_type": "code",
   "execution_count": null,
   "metadata": {},
   "outputs": [],
   "source": [
    "df_states.describe()"
   ]
  },
  {
   "cell_type": "code",
   "execution_count": null,
   "metadata": {},
   "outputs": [],
   "source": [
    "df_states.info()"
   ]
  },
  {
   "cell_type": "code",
   "execution_count": null,
   "metadata": {},
   "outputs": [],
   "source": [
    "df_states['State'].unique()"
   ]
  },
  {
   "cell_type": "code",
   "execution_count": null,
   "metadata": {},
   "outputs": [],
   "source": [
    "mask = df_states['State'] == 'North Carolina'\n",
    "df_nc = df_states[mask]"
   ]
  },
  {
   "cell_type": "code",
   "execution_count": null,
   "metadata": {},
   "outputs": [],
   "source": [
    "df_states.info()"
   ]
  },
  {
   "cell_type": "code",
   "execution_count": null,
   "metadata": {},
   "outputs": [],
   "source": [
    "df_nc[df_nc['Calendar_Year']== 2020]"
   ]
  },
  {
   "cell_type": "code",
   "execution_count": null,
   "metadata": {},
   "outputs": [],
   "source": [
    "insufficient_data_rows = df_nc['Total_Deaths'] == 'Insufficient Data'"
   ]
  },
  {
   "cell_type": "code",
   "execution_count": null,
   "metadata": {},
   "outputs": [],
   "source": [
    "df_nc_insufficient_data = df_nc[insufficient_data_rows]"
   ]
  },
  {
   "cell_type": "code",
   "execution_count": null,
   "metadata": {},
   "outputs": [],
   "source": [
    "df_nc_insufficient_data.head()"
   ]
  },
  {
   "cell_type": "code",
   "execution_count": null,
   "metadata": {},
   "outputs": [],
   "source": [
    "df_nc_insufficient_data.describe()\n",
    "# In North Carolina's case, there are 5 weeks with \"Insufficient Data..i.e. <20% reporting. This runs through weeks 8-12 of 2020 -  starting on Feb 16\""
   ]
  },
  {
   "cell_type": "code",
   "execution_count": null,
   "metadata": {},
   "outputs": [],
   "source": [
    "len(df_nc_insufficient_data.index)"
   ]
  },
  {
   "cell_type": "code",
   "execution_count": null,
   "metadata": {},
   "outputs": [],
   "source": [
    "# Now I want to see how many weeks have insufficient data by State\n",
    "\n",
    "df_states.describe()"
   ]
  },
  {
   "cell_type": "code",
   "execution_count": null,
   "metadata": {},
   "outputs": [],
   "source": [
    "list_of_states = list(df_states['State'].unique())\n",
    "list_of_states"
   ]
  },
  {
   "cell_type": "code",
   "execution_count": null,
   "metadata": {},
   "outputs": [],
   "source": [
    "state_dict_mw = {} #missing week dictionary\n",
    "\n",
    "for state in list_of_states:\n",
    "    state_mask = df_states['State'] == state\n",
    "    df_state_specific = df_states[state_mask] #create DF by State\n",
    "    \n",
    "    insufficient_data_weeks = df_state_specific['Total_Deaths'] == 'Insufficient Data' \n",
    "    df_state_insufficient_data = df_state_specific[insufficient_data_weeks] #create DF by state by only rows w/ insufficient data\n",
    "    \n",
    "    num_weeks_wo_data = len(df_state_insufficient_data.index)\n",
    "    \n",
    "    state_dict_mw[state] = num_weeks_wo_data\n",
    "    \n",
    "    "
   ]
  },
  {
   "cell_type": "code",
   "execution_count": null,
   "metadata": {},
   "outputs": [],
   "source": [
    "state_dict_mw"
   ]
  },
  {
   "cell_type": "code",
   "execution_count": null,
   "metadata": {},
   "outputs": [],
   "source": [
    "sufficient_data_rows = df_states['Total_Deaths'] != 'Insufficient Data'"
   ]
  },
  {
   "cell_type": "code",
   "execution_count": null,
   "metadata": {},
   "outputs": [],
   "source": [
    "df_states_cleaned = df_states[sufficient_data_rows]"
   ]
  },
  {
   "cell_type": "code",
   "execution_count": null,
   "metadata": {},
   "outputs": [],
   "source": [
    "df_states_cleaned.describe()"
   ]
  },
  {
   "cell_type": "code",
   "execution_count": null,
   "metadata": {},
   "outputs": [],
   "source": [
    "df_states_cleaned.head()"
   ]
  },
  {
   "cell_type": "code",
   "execution_count": null,
   "metadata": {},
   "outputs": [],
   "source": [
    "df_states_cleaned['Total_Deaths'].str.replace(',', '', regex=True)"
   ]
  },
  {
   "cell_type": "code",
   "execution_count": null,
   "metadata": {},
   "outputs": [],
   "source": [
    "df_states_official = df_states_cleaned.replace(to_replace =',', value = '', regex = True) \n"
   ]
  },
  {
   "cell_type": "code",
   "execution_count": null,
   "metadata": {},
   "outputs": [],
   "source": [
    "df_states_official.head()"
   ]
  },
  {
   "cell_type": "code",
   "execution_count": null,
   "metadata": {},
   "outputs": [],
   "source": [
    "df_states_official[['Num_Influenza_Deaths','Num_Pneumonia_Deaths','Total_Deaths','Calendar_Year']] = df_states_official[['Num_Influenza_Deaths','Num_Pneumonia_Deaths','Total_Deaths','Calendar_Year']].astype(int)"
   ]
  },
  {
   "cell_type": "code",
   "execution_count": null,
   "metadata": {},
   "outputs": [],
   "source": [
    "df_states_official.head()"
   ]
  },
  {
   "cell_type": "code",
   "execution_count": null,
   "metadata": {},
   "outputs": [],
   "source": [
    "df_states_official.describe()"
   ]
  },
  {
   "cell_type": "code",
   "execution_count": null,
   "metadata": {},
   "outputs": [],
   "source": [
    "fig, ax = plt.subplots(figsize=(12,4))\n",
    "\n",
    "\n",
    "for year in years[1:]:\n",
    "    mask = (df_states_official['Calendar_Year'] == year) & (df_states_official['State'] =='New York')\n",
    "    \n",
    "    df = df_states_official[mask].sort_values('Week')\n",
    "    x = df['Week']\n",
    "    y = df['Total_Deaths']\n",
    "\n",
    "    \n",
    "    ax.plot(x,y, label = year)\n",
    "    \n",
    "plt.legend(bbox_to_anchor=(1, 1),\n",
    "           bbox_transform=plt.gcf().transFigure)\n",
    "\n",
    "ax.set_title(\"Total New York Deaths by Week of the Year\", fontsize = 14)\n",
    "ax.set_xlabel(\"Week of the Year\", fontsize = 14)\n",
    "ax.set_ylabel(\"Total Deaths in New York\", fontsize = 14)\n"
   ]
  },
  {
   "cell_type": "code",
   "execution_count": null,
   "metadata": {},
   "outputs": [],
   "source": [
    "mask = (df_states_official['Calendar_Year'] == 2020) & (df_states_official['State'] =='New York')\n",
    "df = df_states_official[mask].sort_values('Week')"
   ]
  },
  {
   "cell_type": "code",
   "execution_count": null,
   "metadata": {},
   "outputs": [],
   "source": [
    "df"
   ]
  },
  {
   "cell_type": "code",
   "execution_count": null,
   "metadata": {},
   "outputs": [],
   "source": [
    "fig, ax = plt.subplots(figsize=(12,4))\n",
    "\n",
    "\n",
    "for year in years[1:]:\n",
    "    mask = (df_states_official['Calendar_Year'] == year) & (df_states_official['State'] =='California')\n",
    "    \n",
    "    df = df_states_official[mask].sort_values('Week')\n",
    "    x = df['Week']\n",
    "    y = df['Total_Deaths']\n",
    "\n",
    "    \n",
    "    ax.plot(x,y, label = year)\n",
    "    \n",
    "plt.legend(bbox_to_anchor=(1, 1),\n",
    "           bbox_transform=plt.gcf().transFigure)\n",
    "ax.set_title(\"Total California Deaths by Week of the Year\", fontsize = 14)\n",
    "ax.set_xlabel(\"Week of the Year\", fontsize = 14)\n",
    "ax.set_ylabel(\"Total Deaths in California\", fontsize = 14)\n"
   ]
  },
  {
   "cell_type": "code",
   "execution_count": null,
   "metadata": {},
   "outputs": [],
   "source": [
    "mask = (df_states_official['Calendar_Year'] == 2020) & (df_states_official['State'] =='California')\n",
    "df = df_states_official[mask].sort_values('Week')\n",
    "df"
   ]
  },
  {
   "cell_type": "code",
   "execution_count": null,
   "metadata": {},
   "outputs": [],
   "source": [
    "df_states_official.describe()"
   ]
  },
  {
   "cell_type": "code",
   "execution_count": null,
   "metadata": {},
   "outputs": [],
   "source": [
    "mask_state_incomplete = df_states_official['Percent_Complete'] != '> 100%'"
   ]
  },
  {
   "cell_type": "code",
   "execution_count": null,
   "metadata": {},
   "outputs": [],
   "source": [
    "df_state_incomplete = df_states_official[mask_state_incomplete]"
   ]
  },
  {
   "cell_type": "code",
   "execution_count": null,
   "metadata": {},
   "outputs": [],
   "source": [
    "df_state_incomplete.describe()"
   ]
  },
  {
   "cell_type": "code",
   "execution_count": null,
   "metadata": {},
   "outputs": [],
   "source": [
    "df_state_incomplete.head()"
   ]
  },
  {
   "cell_type": "code",
   "execution_count": null,
   "metadata": {},
   "outputs": [],
   "source": [
    "df_state_incomplete.groupby('State').count()['Week']"
   ]
  },
  {
   "cell_type": "code",
   "execution_count": null,
   "metadata": {},
   "outputs": [],
   "source": [
    "mask = df_state_incomplete['State'] == 'California'\n",
    "df_state_incomplete[mask].sort_values(['Calendar_Year','Week'])"
   ]
  },
  {
   "cell_type": "code",
   "execution_count": null,
   "metadata": {},
   "outputs": [],
   "source": [
    "df_states_official.describe()"
   ]
  },
  {
   "cell_type": "code",
   "execution_count": null,
   "metadata": {},
   "outputs": [],
   "source": [
    "df_states_official.head()"
   ]
  },
  {
   "cell_type": "code",
   "execution_count": null,
   "metadata": {},
   "outputs": [],
   "source": [
    "df_states_official['Percent_Complete'] = df_states_official['Percent_Complete'].str.replace('> 100%', '100%', regex=False)"
   ]
  },
  {
   "cell_type": "code",
   "execution_count": null,
   "metadata": {},
   "outputs": [],
   "source": [
    "df_states_official.head()"
   ]
  },
  {
   "cell_type": "code",
   "execution_count": null,
   "metadata": {},
   "outputs": [],
   "source": [
    "df_states_official['Percent_Complete'].unique()"
   ]
  },
  {
   "cell_type": "code",
   "execution_count": null,
   "metadata": {},
   "outputs": [],
   "source": [
    "df_states_official['Percent_Complete'] = df_states_official['Percent_Complete'].str.rstrip('%').astype('float') / 100.0"
   ]
  },
  {
   "cell_type": "code",
   "execution_count": null,
   "metadata": {},
   "outputs": [],
   "source": [
    "df_states_official['Percent_Complete'].unique()"
   ]
  },
  {
   "cell_type": "code",
   "execution_count": null,
   "metadata": {},
   "outputs": [],
   "source": [
    "df_states_official.describe()"
   ]
  },
  {
   "cell_type": "code",
   "execution_count": null,
   "metadata": {},
   "outputs": [],
   "source": [
    "df_states_official.head()"
   ]
  },
  {
   "cell_type": "code",
   "execution_count": null,
   "metadata": {},
   "outputs": [],
   "source": [
    "df_states_official.sort_values(['State','Calendar_Year','Week']).reset_index()"
   ]
  },
  {
   "cell_type": "code",
   "execution_count": null,
   "metadata": {},
   "outputs": [],
   "source": [
    "df_states_official = df_states_official.sort_values(['State','Calendar_Year','Week']).reset_index()"
   ]
  },
  {
   "cell_type": "code",
   "execution_count": null,
   "metadata": {},
   "outputs": [],
   "source": [
    "# df_states_official.drop('index', axis = 1, inplace = True)\n"
   ]
  },
  {
   "cell_type": "code",
   "execution_count": null,
   "metadata": {},
   "outputs": [],
   "source": [
    "df_states_official.head()"
   ]
  },
  {
   "cell_type": "code",
   "execution_count": null,
   "metadata": {},
   "outputs": [],
   "source": [
    "df_states_official.describe()\n",
    "#only permanent change from original data set was removing 11 rows for Connecticut, 5 for NC, and 1 for WV when they had Insufficient Data Values"
   ]
  },
  {
   "cell_type": "code",
   "execution_count": null,
   "metadata": {},
   "outputs": [],
   "source": [
    "mask = df_states_official['Percent_Complete'] <1.0\n",
    "df_states_incomplete = df_states_official[mask]\n",
    "\n",
    "df_states_incomplete.groupby('State').count()['Week']"
   ]
  },
  {
   "cell_type": "code",
   "execution_count": null,
   "metadata": {},
   "outputs": [],
   "source": [
    "df_states_incomplete.groupby('State').mean()['Percent_Complete']"
   ]
  },
  {
   "cell_type": "code",
   "execution_count": null,
   "metadata": {},
   "outputs": [],
   "source": [
    "mask = df_states_official['Percent_Complete'] <.98\n",
    "df_states_incomplete = df_states_official[mask]\n",
    "\n",
    "df_states_incomplete.groupby('State').count()"
   ]
  },
  {
   "cell_type": "code",
   "execution_count": null,
   "metadata": {},
   "outputs": [],
   "source": []
  }
 ],
 "metadata": {
  "kernelspec": {
   "display_name": "Python 3",
   "language": "python",
   "name": "python3"
  },
  "language_info": {
   "codemirror_mode": {
    "name": "ipython",
    "version": 3
   },
   "file_extension": ".py",
   "mimetype": "text/x-python",
   "name": "python",
   "nbconvert_exporter": "python",
   "pygments_lexer": "ipython3",
   "version": "3.7.4"
  }
 },
 "nbformat": 4,
 "nbformat_minor": 2
}
