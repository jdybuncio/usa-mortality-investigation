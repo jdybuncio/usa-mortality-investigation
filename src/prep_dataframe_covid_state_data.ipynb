{
 "cells": [
  {
   "cell_type": "code",
   "execution_count": 1,
   "metadata": {},
   "outputs": [],
   "source": [
    "import requests\n",
    "import json\n",
    "\n",
    "import pandas as pd\n",
    "import datetime as dt"
   ]
  },
  {
   "cell_type": "code",
   "execution_count": 2,
   "metadata": {},
   "outputs": [],
   "source": [
    "import numpy as np\n",
    "import matplotlib.pyplot as plt\n",
    "\n",
    "%matplotlib inline\n",
    "# Always make it pretty.\n",
    "plt.style.use('ggplot')\n",
    "font = {'weight': 'bold',\n",
    "        'size':   16}\n",
    "plt.rc('font', **font)"
   ]
  },
  {
   "cell_type": "code",
   "execution_count": 10,
   "metadata": {},
   "outputs": [],
   "source": [
    "#get state and national data from the CovidTracking project\n",
    "state_api_url = 'https://covidtracking.com/api/v1/states/daily.json'\n",
    "national_api_url = 'https://covidtracking.com/api/us/daily'"
   ]
  },
  {
   "cell_type": "code",
   "execution_count": 28,
   "metadata": {},
   "outputs": [],
   "source": [
    "r_states = requests.get(state_api_url)\n",
    "r_national = requests.get(national_api_url)"
   ]
  },
  {
   "cell_type": "code",
   "execution_count": 29,
   "metadata": {},
   "outputs": [
    {
     "data": {
      "text/plain": [
       "200"
      ]
     },
     "metadata": {},
     "output_type": "display_data"
    },
    {
     "data": {
      "text/plain": [
       "200"
      ]
     },
     "metadata": {},
     "output_type": "display_data"
    }
   ],
   "source": [
    "display(r_states.status_code, r_national.status_code)"
   ]
  },
  {
   "cell_type": "code",
   "execution_count": 65,
   "metadata": {},
   "outputs": [],
   "source": [
    "covid_list_states = json.loads(r_states.content)\n",
    "covid_list_national = json.loads(r_national.content)"
   ]
  },
  {
   "cell_type": "code",
   "execution_count": 66,
   "metadata": {},
   "outputs": [],
   "source": [
    "list_of_dicts_states = []\n",
    "\n",
    "for i in range(len(covid_list_states)):\n",
    "    list_of_dicts_states.append(covid_list_states[i])"
   ]
  },
  {
   "cell_type": "code",
   "execution_count": 67,
   "metadata": {},
   "outputs": [],
   "source": [
    "list_of_dicts_national = []\n",
    "\n",
    "for i in range(len(covid_list_national)):\n",
    "    list_of_dicts_national.append(covid_list_national[i])"
   ]
  },
  {
   "cell_type": "code",
   "execution_count": 68,
   "metadata": {},
   "outputs": [],
   "source": [
    "df_states = pd.DataFrame(list_of_dicts_states)"
   ]
  },
  {
   "cell_type": "code",
   "execution_count": 69,
   "metadata": {},
   "outputs": [],
   "source": [
    "df_national = pd.DataFrame(list_of_dicts_national)"
   ]
  },
  {
   "cell_type": "code",
   "execution_count": 70,
   "metadata": {},
   "outputs": [],
   "source": [
    "df_states['date'] = pd.to_datetime(df_states['date'], format='%Y%m%d', errors='ignore')\n",
    "df_national['date'] = pd.to_datetime(df_national['date'], format='%Y%m%d', errors='ignore')"
   ]
  },
  {
   "cell_type": "code",
   "execution_count": 72,
   "metadata": {},
   "outputs": [],
   "source": [
    "start_date = min(df_states.date)\n",
    "end_date = max(df_states.date)\n",
    "date_series = pd.date_range(start_date, end_date, freq='D').to_series()\n",
    "df_date = pd.DataFrame(date_series)\n",
    "df_date = df_date.reset_index()\n",
    "df_date.columns = ['Date', 'Date2']\n",
    "df_date = df_date.drop('Date2', axis = 1)"
   ]
  },
  {
   "cell_type": "code",
   "execution_count": 73,
   "metadata": {},
   "outputs": [],
   "source": [
    "df_date['Week'] = df_date['Date'].apply(lambda x: (x + dt.timedelta(days=1)).weekofyear)"
   ]
  },
  {
   "cell_type": "code",
   "execution_count": 74,
   "metadata": {},
   "outputs": [],
   "source": [
    "df_date['Calendar_year'] = df_date['Date'].dt.year"
   ]
  },
  {
   "cell_type": "code",
   "execution_count": 75,
   "metadata": {},
   "outputs": [],
   "source": [
    "#Merge State and Date DataFrame to get Week and Calendar_year\n",
    "df_states_official = pd.merge(df_states, df_date,  how='left', \n",
    "                                left_on=['date'], right_on = ['Date'])\n",
    "\n"
   ]
  },
  {
   "cell_type": "code",
   "execution_count": 76,
   "metadata": {},
   "outputs": [],
   "source": [
    "df_national_official = pd.merge(df_national, df_date,  how='left', \n",
    "                                left_on=['date'], right_on = ['Date'])\n"
   ]
  },
  {
   "cell_type": "code",
   "execution_count": 78,
   "metadata": {},
   "outputs": [],
   "source": [
    "state_columns = ['state', 'Date', 'Week', 'Calendar_year', 'deathIncrease',\n",
    "       'hospitalizedIncrease', 'negativeIncrease', 'positiveIncrease',\n",
    "       'totalTestResultsIncrease', ]"
   ]
  },
  {
   "cell_type": "code",
   "execution_count": 79,
   "metadata": {},
   "outputs": [],
   "source": [
    "national_columns = ['Date', 'Week', 'Calendar_year', 'deathIncrease',\n",
    "       'hospitalizedIncrease', 'negativeIncrease', 'positiveIncrease',\n",
    "       'totalTestResultsIncrease', ]"
   ]
  },
  {
   "cell_type": "code",
   "execution_count": 80,
   "metadata": {},
   "outputs": [],
   "source": [
    "df_states_official = df_states_official[state_columns]"
   ]
  },
  {
   "cell_type": "code",
   "execution_count": 81,
   "metadata": {},
   "outputs": [],
   "source": [
    "df_national_official = df_national_official[national_columns]"
   ]
  },
  {
   "cell_type": "code",
   "execution_count": 82,
   "metadata": {},
   "outputs": [],
   "source": [
    "column_list = df_states_official.columns\n",
    "new_column_names = []\n",
    "for column in column_list:\n",
    "    new_column_name = column.capitalize().replace(' ','_').replace('&','_')\n",
    "    new_column_names.append(new_column_name)\n",
    "df_states_official.columns = new_column_names"
   ]
  },
  {
   "cell_type": "code",
   "execution_count": 83,
   "metadata": {},
   "outputs": [],
   "source": [
    "df_states_official = df_states_official.sort_values(['State','Date']) \n",
    "df_states_official = df_states_official.reset_index()\n",
    "df_states_official = df_states_official.drop('index', axis = 1)"
   ]
  },
  {
   "cell_type": "code",
   "execution_count": 85,
   "metadata": {},
   "outputs": [],
   "source": [
    "column_list = df_national_official.columns\n",
    "new_column_names = []\n",
    "for column in column_list:\n",
    "    new_column_name = column.capitalize().replace(' ','_').replace('&','_')\n",
    "    new_column_names.append(new_column_name)\n",
    "df_national_official.columns = new_column_names"
   ]
  },
  {
   "cell_type": "code",
   "execution_count": 86,
   "metadata": {},
   "outputs": [],
   "source": [
    "df_national_official = df_national_official.sort_values('Date') \n",
    "df_national_official = df_national_official.reset_index()\n",
    "df_national_official = df_national_official.drop('index', axis = 1)"
   ]
  },
  {
   "cell_type": "code",
   "execution_count": 87,
   "metadata": {},
   "outputs": [],
   "source": [
    "df_states_official = df_states_official.dropna()\n",
    "df_national_official = df_national_official.dropna()"
   ]
  },
  {
   "cell_type": "code",
   "execution_count": 101,
   "metadata": {},
   "outputs": [],
   "source": [
    "us_state_abbrev = {\n",
    "    'Alabama': 'AL',\n",
    "    'Alaska': 'AK',\n",
    "    'American Samoa': 'AS',\n",
    "    'Arizona': 'AZ',\n",
    "    'Arkansas': 'AR',\n",
    "    'California': 'CA',\n",
    "    'Colorado': 'CO',\n",
    "    'Connecticut': 'CT',\n",
    "    'Delaware': 'DE',\n",
    "    'District of Columbia': 'DC',\n",
    "    'Florida': 'FL',\n",
    "    'Georgia': 'GA',\n",
    "    'Guam': 'GU',\n",
    "    'Hawaii': 'HI',\n",
    "    'Idaho': 'ID',\n",
    "    'Illinois': 'IL',\n",
    "    'Indiana': 'IN',\n",
    "    'Iowa': 'IA',\n",
    "    'Kansas': 'KS',\n",
    "    'Kentucky': 'KY',\n",
    "    'Louisiana': 'LA',\n",
    "    'Maine': 'ME',\n",
    "    'Maryland': 'MD',\n",
    "    'Massachusetts': 'MA',\n",
    "    'Michigan': 'MI',\n",
    "    'Minnesota': 'MN',\n",
    "    'Mississippi': 'MS',\n",
    "    'Missouri': 'MO',\n",
    "    'Montana': 'MT',\n",
    "    'Nebraska': 'NE',\n",
    "    'Nevada': 'NV',\n",
    "    'New Hampshire': 'NH',\n",
    "    'New Jersey': 'NJ',\n",
    "    'New Mexico': 'NM',\n",
    "    'New York': 'NY',\n",
    "    'North Carolina': 'NC',\n",
    "    'North Dakota': 'ND',\n",
    "    'Northern Mariana Islands':'MP',\n",
    "    'Ohio': 'OH',\n",
    "    'Oklahoma': 'OK',\n",
    "    'Oregon': 'OR',\n",
    "    'Pennsylvania': 'PA',\n",
    "    'Puerto Rico': 'PR',\n",
    "    'Rhode Island': 'RI',\n",
    "    'South Carolina': 'SC',\n",
    "    'South Dakota': 'SD',\n",
    "    'Tennessee': 'TN',\n",
    "    'Texas': 'TX',\n",
    "    'Utah': 'UT',\n",
    "    'Vermont': 'VT',\n",
    "    'Virgin Islands': 'VI',\n",
    "    'Virginia': 'VA',\n",
    "    'Washington': 'WA',\n",
    "    'West Virginia': 'WV',\n",
    "    'Wisconsin': 'WI',\n",
    "    'Wyoming': 'WY'\n",
    "}"
   ]
  },
  {
   "cell_type": "code",
   "execution_count": 102,
   "metadata": {},
   "outputs": [],
   "source": [
    "state_map = {v: k for k, v in us_state_abbrev.items()}\n"
   ]
  },
  {
   "cell_type": "code",
   "execution_count": 105,
   "metadata": {},
   "outputs": [],
   "source": [
    "df_states_official['State'] = df_states_official['State'].apply(lambda x: state_map[x])"
   ]
  },
  {
   "cell_type": "code",
   "execution_count": 129,
   "metadata": {},
   "outputs": [],
   "source": [
    "#save dataframe as csv file to be used in other files\n",
    "df_states_official.to_csv('data/states_covid_pandas_df.csv')\n",
    "df_national_official.to_csv('data/national_covid_pandas_df.csv')"
   ]
  },
  {
   "cell_type": "code",
   "execution_count": null,
   "metadata": {},
   "outputs": [],
   "source": []
  },
  {
   "cell_type": "code",
   "execution_count": 115,
   "metadata": {},
   "outputs": [
    {
     "data": {
      "text/html": [
       "<div>\n",
       "<style scoped>\n",
       "    .dataframe tbody tr th:only-of-type {\n",
       "        vertical-align: middle;\n",
       "    }\n",
       "\n",
       "    .dataframe tbody tr th {\n",
       "        vertical-align: top;\n",
       "    }\n",
       "\n",
       "    .dataframe thead th {\n",
       "        text-align: right;\n",
       "    }\n",
       "</style>\n",
       "<table border=\"1\" class=\"dataframe\">\n",
       "  <thead>\n",
       "    <tr style=\"text-align: right;\">\n",
       "      <th></th>\n",
       "      <th>Date</th>\n",
       "      <th>Calendar_year</th>\n",
       "      <th>Deathincrease</th>\n",
       "      <th>Hospitalizedincrease</th>\n",
       "      <th>Negativeincrease</th>\n",
       "      <th>Positiveincrease</th>\n",
       "      <th>Totaltestresultsincrease</th>\n",
       "    </tr>\n",
       "    <tr>\n",
       "      <th>Week</th>\n",
       "      <th></th>\n",
       "      <th></th>\n",
       "      <th></th>\n",
       "      <th></th>\n",
       "      <th></th>\n",
       "      <th></th>\n",
       "      <th></th>\n",
       "    </tr>\n",
       "  </thead>\n",
       "  <tbody>\n",
       "    <tr>\n",
       "      <td>10</td>\n",
       "      <td>3</td>\n",
       "      <td>3</td>\n",
       "      <td>3</td>\n",
       "      <td>3</td>\n",
       "      <td>3</td>\n",
       "      <td>3</td>\n",
       "      <td>3</td>\n",
       "    </tr>\n",
       "    <tr>\n",
       "      <td>11</td>\n",
       "      <td>7</td>\n",
       "      <td>7</td>\n",
       "      <td>7</td>\n",
       "      <td>7</td>\n",
       "      <td>7</td>\n",
       "      <td>7</td>\n",
       "      <td>7</td>\n",
       "    </tr>\n",
       "    <tr>\n",
       "      <td>12</td>\n",
       "      <td>7</td>\n",
       "      <td>7</td>\n",
       "      <td>7</td>\n",
       "      <td>7</td>\n",
       "      <td>7</td>\n",
       "      <td>7</td>\n",
       "      <td>7</td>\n",
       "    </tr>\n",
       "    <tr>\n",
       "      <td>13</td>\n",
       "      <td>7</td>\n",
       "      <td>7</td>\n",
       "      <td>7</td>\n",
       "      <td>7</td>\n",
       "      <td>7</td>\n",
       "      <td>7</td>\n",
       "      <td>7</td>\n",
       "    </tr>\n",
       "    <tr>\n",
       "      <td>14</td>\n",
       "      <td>7</td>\n",
       "      <td>7</td>\n",
       "      <td>7</td>\n",
       "      <td>7</td>\n",
       "      <td>7</td>\n",
       "      <td>7</td>\n",
       "      <td>7</td>\n",
       "    </tr>\n",
       "    <tr>\n",
       "      <td>15</td>\n",
       "      <td>4</td>\n",
       "      <td>4</td>\n",
       "      <td>4</td>\n",
       "      <td>4</td>\n",
       "      <td>4</td>\n",
       "      <td>4</td>\n",
       "      <td>4</td>\n",
       "    </tr>\n",
       "  </tbody>\n",
       "</table>\n",
       "</div>"
      ],
      "text/plain": [
       "      Date  Calendar_year  Deathincrease  Hospitalizedincrease  \\\n",
       "Week                                                             \n",
       "10       3              3              3                     3   \n",
       "11       7              7              7                     7   \n",
       "12       7              7              7                     7   \n",
       "13       7              7              7                     7   \n",
       "14       7              7              7                     7   \n",
       "15       4              4              4                     4   \n",
       "\n",
       "      Negativeincrease  Positiveincrease  Totaltestresultsincrease  \n",
       "Week                                                                \n",
       "10                   3                 3                         3  \n",
       "11                   7                 7                         7  \n",
       "12                   7                 7                         7  \n",
       "13                   7                 7                         7  \n",
       "14                   7                 7                         7  \n",
       "15                   4                 4                         4  "
      ]
     },
     "execution_count": 115,
     "metadata": {},
     "output_type": "execute_result"
    }
   ],
   "source": [
    "# df_national_official.groupby('Week').count()"
   ]
  },
  {
   "cell_type": "code",
   "execution_count": 113,
   "metadata": {},
   "outputs": [
    {
     "data": {
      "text/plain": [
       "Week\n",
       "10       6.0\n",
       "11      33.0\n",
       "12     223.0\n",
       "13    1693.0\n",
       "14    6353.0\n",
       "15    6177.0\n",
       "Name: Deathincrease, dtype: float64"
      ]
     },
     "execution_count": 113,
     "metadata": {},
     "output_type": "execute_result"
    }
   ],
   "source": [
    "# df_national_official.groupby('Week').sum()['Deathincrease']"
   ]
  },
  {
   "cell_type": "code",
   "execution_count": 114,
   "metadata": {},
   "outputs": [
    {
     "data": {
      "text/plain": [
       "0.11851851851851852"
      ]
     },
     "execution_count": 114,
     "metadata": {},
     "output_type": "execute_result"
    }
   ],
   "source": [
    "# 6400/54000"
   ]
  },
  {
   "cell_type": "code",
   "execution_count": 116,
   "metadata": {},
   "outputs": [
    {
     "data": {
      "text/plain": [
       "1544.25"
      ]
     },
     "execution_count": 116,
     "metadata": {},
     "output_type": "execute_result"
    }
   ],
   "source": [
    "# 6177/4"
   ]
  },
  {
   "cell_type": "code",
   "execution_count": 117,
   "metadata": {},
   "outputs": [
    {
     "data": {
      "text/plain": [
       "10809"
      ]
     },
     "execution_count": 117,
     "metadata": {},
     "output_type": "execute_result"
    }
   ],
   "source": [
    "# (1544*3) + 6177"
   ]
  },
  {
   "cell_type": "code",
   "execution_count": 118,
   "metadata": {},
   "outputs": [
    {
     "data": {
      "text/plain": [
       "0.2037037037037037"
      ]
     },
     "execution_count": 118,
     "metadata": {},
     "output_type": "execute_result"
    }
   ],
   "source": [
    "# 11000/54000"
   ]
  },
  {
   "cell_type": "code",
   "execution_count": 121,
   "metadata": {},
   "outputs": [
    {
     "data": {
      "text/plain": [
       "State\n",
       "New York                    6268.0\n",
       "New Jersey                  1504.0\n",
       "Michigan                     959.0\n",
       "Louisiana                    652.0\n",
       "Illinois                     462.0\n",
       "California                   442.0\n",
       "Massachusetts                433.0\n",
       "Washington                   384.0\n",
       "Georgia                      362.0\n",
       "Florida                      309.0\n",
       "Pennsylvania                 309.0\n",
       "Connecticut                  277.0\n",
       "Indiana                      203.0\n",
       "Ohio                         193.0\n",
       "Colorado                     179.0\n",
       "Texas                        177.0\n",
       "Maryland                     124.0\n",
       "Wisconsin                     99.0\n",
       "Arizona                       80.0\n",
       "Tennessee                     79.0\n",
       "Oklahoma                      79.0\n",
       "Virginia                      75.0\n",
       "Nevada                        71.0\n",
       "Mississippi                   67.0\n",
       "Alabama                       66.0\n",
       "Kentucky                      65.0\n",
       "South Carolina                63.0\n",
       "Missouri                      58.0\n",
       "North Carolina                53.0\n",
       "Minnesota                     39.0\n",
       "Rhode Island                  35.0\n",
       "Oregon                        33.0\n",
       "Iowa                          27.0\n",
       "District of Columbia          27.0\n",
       "Kansas                        27.0\n",
       "Puerto Rico                   24.0\n",
       "Vermont                       23.0\n",
       "New Hampshire                 18.0\n",
       "Arkansas                      18.0\n",
       "Delaware                      16.0\n",
       "Idaho                         15.0\n",
       "Maine                         14.0\n",
       "Utah                          13.0\n",
       "New Mexico                    13.0\n",
       "Nebraska                      12.0\n",
       "Alaska                         7.0\n",
       "South Dakota                   6.0\n",
       "Montana                        6.0\n",
       "Hawaii                         5.0\n",
       "Guam                           4.0\n",
       "West Virginia                  4.0\n",
       "North Dakota                   4.0\n",
       "Northern Mariana Islands       2.0\n",
       "Virgin Islands                 1.0\n",
       "American Samoa                 0.0\n",
       "Wyoming                        0.0\n",
       "Name: Deathincrease, dtype: float64"
      ]
     },
     "execution_count": 121,
     "metadata": {},
     "output_type": "execute_result"
    }
   ],
   "source": [
    "# df_states_official.groupby('State').sum()['Deathincrease'].sort_values(ascending=False)"
   ]
  },
  {
   "cell_type": "code",
   "execution_count": 119,
   "metadata": {},
   "outputs": [
    {
     "data": {
      "text/plain": [
       "Week\n",
       "10       0.0\n",
       "11       0.0\n",
       "12      44.0\n",
       "13     684.0\n",
       "14    2837.0\n",
       "15    2703.0\n",
       "Name: Deathincrease, dtype: float64"
      ]
     },
     "execution_count": 119,
     "metadata": {},
     "output_type": "execute_result"
    }
   ],
   "source": [
    "# mask = df_states_official['State'] == 'New York'\n",
    "# df_states_official[mask].groupby('Week').sum()['Deathincrease']"
   ]
  },
  {
   "cell_type": "code",
   "execution_count": 123,
   "metadata": {},
   "outputs": [
    {
     "data": {
      "text/plain": [
       "101868"
      ]
     },
     "execution_count": 123,
     "metadata": {},
     "output_type": "execute_result"
    }
   ],
   "source": [
    "# 1959*52"
   ]
  },
  {
   "cell_type": "code",
   "execution_count": 124,
   "metadata": {},
   "outputs": [
    {
     "ename": "SyntaxError",
     "evalue": "invalid syntax (<ipython-input-124-ad5ff1321b20>, line 1)",
     "output_type": "error",
     "traceback": [
      "\u001b[0;36m  File \u001b[0;32m\"<ipython-input-124-ad5ff1321b20>\"\u001b[0;36m, line \u001b[0;32m1\u001b[0m\n\u001b[0;31m    2837/\u001b[0m\n\u001b[0m         ^\u001b[0m\n\u001b[0;31mSyntaxError\u001b[0m\u001b[0;31m:\u001b[0m invalid syntax\n"
     ]
    }
   ],
   "source": [
    "# 2837/"
   ]
  },
  {
   "cell_type": "code",
   "execution_count": 125,
   "metadata": {},
   "outputs": [
    {
     "data": {
      "text/plain": [
       "675.75"
      ]
     },
     "execution_count": 125,
     "metadata": {},
     "output_type": "execute_result"
    }
   ],
   "source": [
    "# 2703/4"
   ]
  },
  {
   "cell_type": "code",
   "execution_count": 128,
   "metadata": {},
   "outputs": [
    {
     "data": {
      "text/plain": [
       "4728"
      ]
     },
     "execution_count": 128,
     "metadata": {},
     "output_type": "execute_result"
    }
   ],
   "source": [
    "# 2703+(675*3)"
   ]
  },
  {
   "cell_type": "code",
   "execution_count": null,
   "metadata": {},
   "outputs": [],
   "source": []
  }
 ],
 "metadata": {
  "kernelspec": {
   "display_name": "Python 3",
   "language": "python",
   "name": "python3"
  },
  "language_info": {
   "codemirror_mode": {
    "name": "ipython",
    "version": 3
   },
   "file_extension": ".py",
   "mimetype": "text/x-python",
   "name": "python",
   "nbconvert_exporter": "python",
   "pygments_lexer": "ipython3",
   "version": "3.7.4"
  }
 },
 "nbformat": 4,
 "nbformat_minor": 2
}
