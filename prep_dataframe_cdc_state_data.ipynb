{
 "cells": [
  {
   "cell_type": "code",
   "execution_count": 10,
   "metadata": {},
   "outputs": [],
   "source": [
    "import pandas as pd\n",
    "import numpy as np"
   ]
  },
  {
   "cell_type": "markdown",
   "metadata": {},
   "source": [
    "## State CDC Dataframe creation"
   ]
  },
  {
   "cell_type": "code",
   "execution_count": 55,
   "metadata": {},
   "outputs": [],
   "source": [
    "df_states = pd.read_csv(\"data/State_Custom_Data.csv\")"
   ]
  },
  {
   "cell_type": "code",
   "execution_count": 56,
   "metadata": {},
   "outputs": [],
   "source": [
    "#CDC will add 'Insufficient Data' as a value in columns\n",
    "df_states = df_states[df_states['TOTAL DEATHS'] != 'Insufficient Data']"
   ]
  },
  {
   "cell_type": "code",
   "execution_count": 57,
   "metadata": {},
   "outputs": [],
   "source": [
    "#CDC data has commas in numbers\n",
    "df_states = df_states.replace(to_replace =',', value = '', regex = True) \n"
   ]
  },
  {
   "cell_type": "code",
   "execution_count": 58,
   "metadata": {},
   "outputs": [],
   "source": [
    "#rename columns to remove spaces\n",
    "column_list = df_states.columns\n",
    "new_column_names = []\n",
    "for column in column_list:\n",
    "    new_column_name = column.capitalize().replace(' ','_').replace('&','_')\n",
    "    new_column_names.append(new_column_name)\n",
    "\n",
    "df_states.columns  = new_column_names"
   ]
  },
  {
   "cell_type": "code",
   "execution_count": 59,
   "metadata": {},
   "outputs": [],
   "source": [
    "#convert appropriate columns to ints and floats\n",
    "df_states[['Num_influenza_deaths','Num_pneumonia_deaths','Total_deaths']] = \\\n",
    "df_states[['Num_influenza_deaths','Num_pneumonia_deaths','Total_deaths']].astype(int)\n",
    "\n",
    "df_states['Percent_p_i'] = df_states['Percent_p_i']/100\n",
    "# df_states['Threshold'] = df_states['Threshold']/100\n",
    "# df_states['Baseline'] = df_states['Baseline']/100\n",
    "\n",
    "df_states['Percent_complete'] = df_states['Percent_complete'].str.replace('> 100%', '100%', regex=False)\n",
    "df_states['Percent_complete'] = df_states['Percent_complete'].str.rstrip('%').astype('float') / 100.0"
   ]
  },
  {
   "cell_type": "code",
   "execution_count": 60,
   "metadata": {},
   "outputs": [],
   "source": [
    "#add Calendar_year column\n",
    "conditions = [\n",
    "    df_states['Week']<40,\n",
    "    df_states['Week']>=40    \n",
    "]\n",
    "\n",
    "df_states['First_year'] = df_states['Season'].apply(lambda x: int(x[0:4])) \n",
    "df_states['Second_year'] = df_states['Season'].apply(lambda x: int(x[0:4])+1) \n",
    "choices = [df_states['Second_year'],df_states['First_year']]\n",
    "df_states['Calendar_year'] = np.select(conditions,choices)\n",
    "df_states['Calendar_year'] = df_states['Calendar_year'].astype(int) "
   ]
  },
  {
   "cell_type": "code",
   "execution_count": 61,
   "metadata": {},
   "outputs": [],
   "source": [
    "#drop unused columns\n",
    "df_states = df_states.drop('First_year', axis = 1)\n",
    "df_states = df_states.drop('Second_year', axis = 1)\n",
    "# df_states = df_states.drop('Sub_area', axis = 1)\n",
    "df_states = df_states.drop('Age_group', axis = 1)\n",
    "                 "
   ]
  },
  {
   "cell_type": "code",
   "execution_count": 62,
   "metadata": {},
   "outputs": [],
   "source": [
    "#sort values and reset index\n",
    "df_states = df_states.sort_values(['Calendar_year','Week']).reset_index()\n",
    "df_states = df_states.drop('index', axis = 1)\n"
   ]
  },
  {
   "cell_type": "code",
   "execution_count": 63,
   "metadata": {},
   "outputs": [],
   "source": [
    "df_states['State'] = df_states['Sub_area']\n",
    "df_states = df_states.drop('Sub_area', axis = 1)\n"
   ]
  },
  {
   "cell_type": "code",
   "execution_count": 64,
   "metadata": {},
   "outputs": [],
   "source": [
    "#save dataframe as csv file to be used in other files\n",
    "df_states.to_csv('data/states_cdc_pandas_df.csv')"
   ]
  },
  {
   "cell_type": "code",
   "execution_count": 65,
   "metadata": {},
   "outputs": [
    {
     "data": {
      "text/html": [
       "<div>\n",
       "<style scoped>\n",
       "    .dataframe tbody tr th:only-of-type {\n",
       "        vertical-align: middle;\n",
       "    }\n",
       "\n",
       "    .dataframe tbody tr th {\n",
       "        vertical-align: top;\n",
       "    }\n",
       "\n",
       "    .dataframe thead th {\n",
       "        text-align: right;\n",
       "    }\n",
       "</style>\n",
       "<table border=\"1\" class=\"dataframe\">\n",
       "  <thead>\n",
       "    <tr style=\"text-align: right;\">\n",
       "      <th></th>\n",
       "      <th>Area</th>\n",
       "      <th>Season</th>\n",
       "      <th>Week</th>\n",
       "      <th>Percent_p_i</th>\n",
       "      <th>Num_influenza_deaths</th>\n",
       "      <th>Num_pneumonia_deaths</th>\n",
       "      <th>Total_deaths</th>\n",
       "      <th>Percent_complete</th>\n",
       "      <th>Calendar_year</th>\n",
       "      <th>State</th>\n",
       "    </tr>\n",
       "  </thead>\n",
       "  <tbody>\n",
       "    <tr>\n",
       "      <td>0</td>\n",
       "      <td>State</td>\n",
       "      <td>2012-13</td>\n",
       "      <td>1</td>\n",
       "      <td>0.088</td>\n",
       "      <td>4</td>\n",
       "      <td>73</td>\n",
       "      <td>874</td>\n",
       "      <td>0.900</td>\n",
       "      <td>2013</td>\n",
       "      <td>Alabama</td>\n",
       "    </tr>\n",
       "    <tr>\n",
       "      <td>1</td>\n",
       "      <td>State</td>\n",
       "      <td>2012-13</td>\n",
       "      <td>1</td>\n",
       "      <td>0.082</td>\n",
       "      <td>0</td>\n",
       "      <td>5</td>\n",
       "      <td>61</td>\n",
       "      <td>0.750</td>\n",
       "      <td>2013</td>\n",
       "      <td>Alaska</td>\n",
       "    </tr>\n",
       "    <tr>\n",
       "      <td>2</td>\n",
       "      <td>State</td>\n",
       "      <td>2012-13</td>\n",
       "      <td>1</td>\n",
       "      <td>0.078</td>\n",
       "      <td>2</td>\n",
       "      <td>60</td>\n",
       "      <td>798</td>\n",
       "      <td>0.770</td>\n",
       "      <td>2013</td>\n",
       "      <td>Arizona</td>\n",
       "    </tr>\n",
       "    <tr>\n",
       "      <td>3</td>\n",
       "      <td>State</td>\n",
       "      <td>2012-13</td>\n",
       "      <td>1</td>\n",
       "      <td>0.119</td>\n",
       "      <td>3</td>\n",
       "      <td>55</td>\n",
       "      <td>488</td>\n",
       "      <td>0.814</td>\n",
       "      <td>2013</td>\n",
       "      <td>Arkansas</td>\n",
       "    </tr>\n",
       "    <tr>\n",
       "      <td>4</td>\n",
       "      <td>State</td>\n",
       "      <td>2012-13</td>\n",
       "      <td>1</td>\n",
       "      <td>0.100</td>\n",
       "      <td>5</td>\n",
       "      <td>386</td>\n",
       "      <td>3897</td>\n",
       "      <td>0.793</td>\n",
       "      <td>2013</td>\n",
       "      <td>California</td>\n",
       "    </tr>\n",
       "  </tbody>\n",
       "</table>\n",
       "</div>"
      ],
      "text/plain": [
       "    Area   Season  Week  Percent_p_i  Num_influenza_deaths  \\\n",
       "0  State  2012-13     1        0.088                     4   \n",
       "1  State  2012-13     1        0.082                     0   \n",
       "2  State  2012-13     1        0.078                     2   \n",
       "3  State  2012-13     1        0.119                     3   \n",
       "4  State  2012-13     1        0.100                     5   \n",
       "\n",
       "   Num_pneumonia_deaths  Total_deaths  Percent_complete  Calendar_year  \\\n",
       "0                    73           874             0.900           2013   \n",
       "1                     5            61             0.750           2013   \n",
       "2                    60           798             0.770           2013   \n",
       "3                    55           488             0.814           2013   \n",
       "4                   386          3897             0.793           2013   \n",
       "\n",
       "        State  \n",
       "0     Alabama  \n",
       "1      Alaska  \n",
       "2     Arizona  \n",
       "3    Arkansas  \n",
       "4  California  "
      ]
     },
     "execution_count": 65,
     "metadata": {},
     "output_type": "execute_result"
    }
   ],
   "source": [
    "df_states.head()"
   ]
  },
  {
   "cell_type": "code",
   "execution_count": null,
   "metadata": {},
   "outputs": [],
   "source": []
  }
 ],
 "metadata": {
  "kernelspec": {
   "display_name": "Python 3",
   "language": "python",
   "name": "python3"
  },
  "language_info": {
   "codemirror_mode": {
    "name": "ipython",
    "version": 3
   },
   "file_extension": ".py",
   "mimetype": "text/x-python",
   "name": "python",
   "nbconvert_exporter": "python",
   "pygments_lexer": "ipython3",
   "version": "3.7.4"
  }
 },
 "nbformat": 4,
 "nbformat_minor": 2
}
