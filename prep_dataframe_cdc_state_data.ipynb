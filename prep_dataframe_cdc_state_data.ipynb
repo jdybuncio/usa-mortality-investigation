{
 "cells": [
  {
   "cell_type": "code",
   "execution_count": 27,
   "metadata": {},
   "outputs": [],
   "source": [
    "import pandas as pd\n",
    "import numpy as np"
   ]
  },
  {
   "cell_type": "markdown",
   "metadata": {},
   "source": [
    "## State CDC Dataframe creation"
   ]
  },
  {
   "cell_type": "code",
   "execution_count": 28,
   "metadata": {},
   "outputs": [],
   "source": [
    "df_states = pd.read_csv(\"data/State_Custom_Data.csv\")"
   ]
  },
  {
   "cell_type": "code",
   "execution_count": 29,
   "metadata": {},
   "outputs": [],
   "source": [
    "#CDC will add 'Insufficient Data' as a value in columns\n",
    "df_states = df_states[df_states['TOTAL DEATHS'] != 'Insufficient Data']"
   ]
  },
  {
   "cell_type": "code",
   "execution_count": 30,
   "metadata": {},
   "outputs": [],
   "source": [
    "#CDC data has commas in numbers\n",
    "df_states = df_states.replace(to_replace =',', value = '', regex = True) \n"
   ]
  },
  {
   "cell_type": "code",
   "execution_count": 31,
   "metadata": {},
   "outputs": [],
   "source": [
    "#rename columns to remove spaces\n",
    "column_list = df_states.columns\n",
    "new_column_names = []\n",
    "for column in column_list:\n",
    "    new_column_name = column.capitalize().replace(' ','_').replace('&','_')\n",
    "    new_column_names.append(new_column_name)\n",
    "\n",
    "df_states.columns  = new_column_names"
   ]
  },
  {
   "cell_type": "code",
   "execution_count": 32,
   "metadata": {},
   "outputs": [],
   "source": [
    "#convert appropriate columns to ints and floats\n",
    "df_states[['Num_influenza_deaths','Num_pneumonia_deaths','Total_deaths']] = \\\n",
    "df_states[['Num_influenza_deaths','Num_pneumonia_deaths','Total_deaths']].astype(int)\n",
    "\n",
    "df_states['Percent_p_i'] = df_states['Percent_p_i']/100\n",
    "# df_states['Threshold'] = df_states['Threshold']/100\n",
    "# df_states['Baseline'] = df_states['Baseline']/100\n",
    "\n",
    "df_states['Percent_complete'] = df_states['Percent_complete'].str.replace('> 100%', '100%', regex=False)\n",
    "df_states['Percent_complete'] = df_states['Percent_complete'].str.rstrip('%').astype('float') / 100.0"
   ]
  },
  {
   "cell_type": "code",
   "execution_count": 33,
   "metadata": {},
   "outputs": [],
   "source": [
    "#add Calendar_year column\n",
    "conditions = [\n",
    "    df_states['Week']<40,\n",
    "    df_states['Week']>=40    \n",
    "]\n",
    "\n",
    "df_states['First_year'] = df_states['Season'].apply(lambda x: int(x[0:4])) \n",
    "df_states['Second_year'] = df_states['Season'].apply(lambda x: int(x[0:4])+1) \n",
    "choices = [df_states['Second_year'],df_states['First_year']]\n",
    "df_states['Calendar_year'] = np.select(conditions,choices)\n",
    "df_states['Calendar_year'] = df_states['Calendar_year'].astype(int) "
   ]
  },
  {
   "cell_type": "code",
   "execution_count": 34,
   "metadata": {},
   "outputs": [],
   "source": [
    "#drop unused columns\n",
    "df_states = df_states.drop('First_year', axis = 1)\n",
    "df_states = df_states.drop('Second_year', axis = 1)\n",
    "# df_states = df_states.drop('Sub_area', axis = 1)\n",
    "df_states = df_states.drop('Age_group', axis = 1)\n",
    "\n",
    "\n",
    "                 "
   ]
  },
  {
   "cell_type": "code",
   "execution_count": 35,
   "metadata": {},
   "outputs": [],
   "source": [
    "#sort values and reset index\n",
    "df_states['State'] = df_states['Sub_area']\n",
    "df_states = df_states.sort_values(['State','Calendar_year','Week']).reset_index()\n",
    "df_states = df_states.drop('index', axis = 1)\n"
   ]
  },
  {
   "cell_type": "code",
   "execution_count": 36,
   "metadata": {},
   "outputs": [],
   "source": [
    "\n",
    "df_states = df_states.drop('Sub_area', axis = 1)\n",
    "df_states = df_states.drop('Area', axis = 1)"
   ]
  },
  {
   "cell_type": "code",
   "execution_count": 37,
   "metadata": {},
   "outputs": [
    {
     "data": {
      "text/html": [
       "<div>\n",
       "<style scoped>\n",
       "    .dataframe tbody tr th:only-of-type {\n",
       "        vertical-align: middle;\n",
       "    }\n",
       "\n",
       "    .dataframe tbody tr th {\n",
       "        vertical-align: top;\n",
       "    }\n",
       "\n",
       "    .dataframe thead th {\n",
       "        text-align: right;\n",
       "    }\n",
       "</style>\n",
       "<table border=\"1\" class=\"dataframe\">\n",
       "  <thead>\n",
       "    <tr style=\"text-align: right;\">\n",
       "      <th></th>\n",
       "      <th>Season</th>\n",
       "      <th>Week</th>\n",
       "      <th>Percent_p_i</th>\n",
       "      <th>Num_influenza_deaths</th>\n",
       "      <th>Num_pneumonia_deaths</th>\n",
       "      <th>Total_deaths</th>\n",
       "      <th>Percent_complete</th>\n",
       "      <th>Calendar_year</th>\n",
       "      <th>State</th>\n",
       "    </tr>\n",
       "  </thead>\n",
       "  <tbody>\n",
       "    <tr>\n",
       "      <td>0</td>\n",
       "      <td>2012-13</td>\n",
       "      <td>1</td>\n",
       "      <td>0.088</td>\n",
       "      <td>4</td>\n",
       "      <td>73</td>\n",
       "      <td>874</td>\n",
       "      <td>0.900</td>\n",
       "      <td>2013</td>\n",
       "      <td>Alabama</td>\n",
       "    </tr>\n",
       "    <tr>\n",
       "      <td>1</td>\n",
       "      <td>2012-13</td>\n",
       "      <td>2</td>\n",
       "      <td>0.093</td>\n",
       "      <td>12</td>\n",
       "      <td>100</td>\n",
       "      <td>1200</td>\n",
       "      <td>1.000</td>\n",
       "      <td>2013</td>\n",
       "      <td>Alabama</td>\n",
       "    </tr>\n",
       "    <tr>\n",
       "      <td>2</td>\n",
       "      <td>2012-13</td>\n",
       "      <td>3</td>\n",
       "      <td>0.100</td>\n",
       "      <td>8</td>\n",
       "      <td>102</td>\n",
       "      <td>1105</td>\n",
       "      <td>1.000</td>\n",
       "      <td>2013</td>\n",
       "      <td>Alabama</td>\n",
       "    </tr>\n",
       "    <tr>\n",
       "      <td>3</td>\n",
       "      <td>2012-13</td>\n",
       "      <td>4</td>\n",
       "      <td>0.098</td>\n",
       "      <td>4</td>\n",
       "      <td>100</td>\n",
       "      <td>1060</td>\n",
       "      <td>1.000</td>\n",
       "      <td>2013</td>\n",
       "      <td>Alabama</td>\n",
       "    </tr>\n",
       "    <tr>\n",
       "      <td>4</td>\n",
       "      <td>2012-13</td>\n",
       "      <td>5</td>\n",
       "      <td>0.083</td>\n",
       "      <td>2</td>\n",
       "      <td>83</td>\n",
       "      <td>1026</td>\n",
       "      <td>1.000</td>\n",
       "      <td>2013</td>\n",
       "      <td>Alabama</td>\n",
       "    </tr>\n",
       "    <tr>\n",
       "      <td>...</td>\n",
       "      <td>...</td>\n",
       "      <td>...</td>\n",
       "      <td>...</td>\n",
       "      <td>...</td>\n",
       "      <td>...</td>\n",
       "      <td>...</td>\n",
       "      <td>...</td>\n",
       "      <td>...</td>\n",
       "      <td>...</td>\n",
       "    </tr>\n",
       "    <tr>\n",
       "      <td>19582</td>\n",
       "      <td>2019-20</td>\n",
       "      <td>8</td>\n",
       "      <td>0.058</td>\n",
       "      <td>0</td>\n",
       "      <td>6</td>\n",
       "      <td>104</td>\n",
       "      <td>1.000</td>\n",
       "      <td>2020</td>\n",
       "      <td>Wyoming</td>\n",
       "    </tr>\n",
       "    <tr>\n",
       "      <td>19583</td>\n",
       "      <td>2019-20</td>\n",
       "      <td>9</td>\n",
       "      <td>0.037</td>\n",
       "      <td>0</td>\n",
       "      <td>4</td>\n",
       "      <td>108</td>\n",
       "      <td>1.000</td>\n",
       "      <td>2020</td>\n",
       "      <td>Wyoming</td>\n",
       "    </tr>\n",
       "    <tr>\n",
       "      <td>19584</td>\n",
       "      <td>2019-20</td>\n",
       "      <td>10</td>\n",
       "      <td>0.125</td>\n",
       "      <td>1</td>\n",
       "      <td>9</td>\n",
       "      <td>80</td>\n",
       "      <td>0.891</td>\n",
       "      <td>2020</td>\n",
       "      <td>Wyoming</td>\n",
       "    </tr>\n",
       "    <tr>\n",
       "      <td>19585</td>\n",
       "      <td>2019-20</td>\n",
       "      <td>11</td>\n",
       "      <td>0.049</td>\n",
       "      <td>0</td>\n",
       "      <td>4</td>\n",
       "      <td>82</td>\n",
       "      <td>0.914</td>\n",
       "      <td>2020</td>\n",
       "      <td>Wyoming</td>\n",
       "    </tr>\n",
       "    <tr>\n",
       "      <td>19586</td>\n",
       "      <td>2019-20</td>\n",
       "      <td>12</td>\n",
       "      <td>0.081</td>\n",
       "      <td>1</td>\n",
       "      <td>6</td>\n",
       "      <td>86</td>\n",
       "      <td>0.958</td>\n",
       "      <td>2020</td>\n",
       "      <td>Wyoming</td>\n",
       "    </tr>\n",
       "  </tbody>\n",
       "</table>\n",
       "<p>19587 rows × 9 columns</p>\n",
       "</div>"
      ],
      "text/plain": [
       "        Season  Week  Percent_p_i  Num_influenza_deaths  Num_pneumonia_deaths  \\\n",
       "0      2012-13     1        0.088                     4                    73   \n",
       "1      2012-13     2        0.093                    12                   100   \n",
       "2      2012-13     3        0.100                     8                   102   \n",
       "3      2012-13     4        0.098                     4                   100   \n",
       "4      2012-13     5        0.083                     2                    83   \n",
       "...        ...   ...          ...                   ...                   ...   \n",
       "19582  2019-20     8        0.058                     0                     6   \n",
       "19583  2019-20     9        0.037                     0                     4   \n",
       "19584  2019-20    10        0.125                     1                     9   \n",
       "19585  2019-20    11        0.049                     0                     4   \n",
       "19586  2019-20    12        0.081                     1                     6   \n",
       "\n",
       "       Total_deaths  Percent_complete  Calendar_year    State  \n",
       "0               874             0.900           2013  Alabama  \n",
       "1              1200             1.000           2013  Alabama  \n",
       "2              1105             1.000           2013  Alabama  \n",
       "3              1060             1.000           2013  Alabama  \n",
       "4              1026             1.000           2013  Alabama  \n",
       "...             ...               ...            ...      ...  \n",
       "19582           104             1.000           2020  Wyoming  \n",
       "19583           108             1.000           2020  Wyoming  \n",
       "19584            80             0.891           2020  Wyoming  \n",
       "19585            82             0.914           2020  Wyoming  \n",
       "19586            86             0.958           2020  Wyoming  \n",
       "\n",
       "[19587 rows x 9 columns]"
      ]
     },
     "execution_count": 37,
     "metadata": {},
     "output_type": "execute_result"
    }
   ],
   "source": [
    "df_states"
   ]
  },
  {
   "cell_type": "code",
   "execution_count": 38,
   "metadata": {},
   "outputs": [],
   "source": [
    "#bring in Population Dataframe\n",
    "df_population = pd.read_csv(\"data/population_df.csv\", index_col=0)"
   ]
  },
  {
   "cell_type": "code",
   "execution_count": 39,
   "metadata": {},
   "outputs": [],
   "source": [
    "#Merge National and Population DataFrame to get Population\n",
    "df_states_official = pd.merge(df_states, df_population,  how='left', \n",
    "                                left_on=['State','Calendar_year'], right_on = ['Name','Calendar_year'])\n",
    "\n"
   ]
  },
  {
   "cell_type": "code",
   "execution_count": 40,
   "metadata": {},
   "outputs": [],
   "source": [
    "# Drop useless col and add Deaths per hund thou metric\n",
    "df_states_official = df_states_official.drop('Name', axis = 1)\n",
    "df_states_official['Deaths_per_hund_thou'] = df_states_official['Total_deaths'] / (df_states_official['Population']/100000)"
   ]
  },
  {
   "cell_type": "code",
   "execution_count": 42,
   "metadata": {},
   "outputs": [],
   "source": [
    "#save dataframe as csv file to be used in other files\n",
    "df_states_official.to_csv('data/states_cdc_pandas_df.csv')"
   ]
  },
  {
   "cell_type": "code",
   "execution_count": null,
   "metadata": {},
   "outputs": [],
   "source": []
  }
 ],
 "metadata": {
  "kernelspec": {
   "display_name": "Python 3",
   "language": "python",
   "name": "python3"
  },
  "language_info": {
   "codemirror_mode": {
    "name": "ipython",
    "version": 3
   },
   "file_extension": ".py",
   "mimetype": "text/x-python",
   "name": "python",
   "nbconvert_exporter": "python",
   "pygments_lexer": "ipython3",
   "version": "3.7.4"
  }
 },
 "nbformat": 4,
 "nbformat_minor": 2
}
