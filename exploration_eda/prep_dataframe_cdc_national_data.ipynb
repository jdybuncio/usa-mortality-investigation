{
 "cells": [
  {
   "cell_type": "code",
   "execution_count": 1,
   "metadata": {},
   "outputs": [],
   "source": [
    "import pandas as pd\n",
    "import numpy as np"
   ]
  },
  {
   "cell_type": "markdown",
   "metadata": {},
   "source": [
    "## National CDC Dataframe creation"
   ]
  },
  {
   "cell_type": "code",
   "execution_count": 2,
   "metadata": {},
   "outputs": [],
   "source": [
    "df_national = pd.read_csv(\"data/National_Custom_Data.csv\")"
   ]
  },
  {
   "cell_type": "code",
   "execution_count": 3,
   "metadata": {},
   "outputs": [],
   "source": [
    "#CDC will add 'Insufficient Data' as a value in columns\n",
    "df_national = df_national[df_national['TOTAL DEATHS'] != 'Insufficient Data']"
   ]
  },
  {
   "cell_type": "code",
   "execution_count": 4,
   "metadata": {},
   "outputs": [],
   "source": [
    "#CDC data has commas in numbers\n",
    "df_national = df_national.replace(to_replace =',', value = '', regex = True) \n"
   ]
  },
  {
   "cell_type": "code",
   "execution_count": 5,
   "metadata": {},
   "outputs": [],
   "source": [
    "#rename columns to remove spaces\n",
    "column_list = df_national.columns\n",
    "new_column_names = []\n",
    "for column in column_list:\n",
    "    new_column_name = column.capitalize().replace(' ','_').replace('&','_')\n",
    "    new_column_names.append(new_column_name)\n",
    "\n",
    "df_national.columns  = new_column_names"
   ]
  },
  {
   "cell_type": "code",
   "execution_count": 6,
   "metadata": {},
   "outputs": [],
   "source": [
    "#convert appropriate columns to ints and floats\n",
    "df_national[['Num_influenza_deaths','Num_pneumonia_deaths','Total_deaths']] = \\\n",
    "df_national[['Num_influenza_deaths','Num_pneumonia_deaths','Total_deaths']].astype(int)\n",
    "\n",
    "df_national['Percent_p_i'] = df_national['Percent_p_i']/100\n",
    "df_national['Threshold'] = df_national['Threshold']/100\n",
    "df_national['Baseline'] = df_national['Baseline']/100\n",
    "\n",
    "df_national['Percent_complete'] = df_national['Percent_complete'].str.replace('> 100%', '100%', regex=False)\n",
    "df_national['Percent_complete'] = df_national['Percent_complete'].str.rstrip('%').astype('float') / 100.0"
   ]
  },
  {
   "cell_type": "code",
   "execution_count": 7,
   "metadata": {},
   "outputs": [],
   "source": [
    "#add Calendar_year column\n",
    "conditions = [\n",
    "    df_national['Week']<40,\n",
    "    df_national['Week']>=40    \n",
    "]\n",
    "\n",
    "df_national['First_year'] = df_national['Season'].apply(lambda x: int(x[0:4])) \n",
    "df_national['Second_year'] = df_national['Season'].apply(lambda x: int(x[0:4])+1) \n",
    "choices = [df_national['Second_year'],df_national['First_year']]\n",
    "df_national['Calendar_year'] = np.select(conditions,choices)\n",
    "df_national['Calendar_year'] = df_national['Calendar_year'].astype(int) "
   ]
  },
  {
   "cell_type": "code",
   "execution_count": 8,
   "metadata": {},
   "outputs": [],
   "source": [
    "#drop unused columns\n",
    "df_national = df_national.drop('First_year', axis = 1)\n",
    "df_national = df_national.drop('Second_year', axis = 1)\n",
    "df_national = df_national.drop('Sub_area', axis = 1)\n",
    "df_national = df_national.drop('Age_group', axis = 1)\n",
    "\n",
    "                 "
   ]
  },
  {
   "cell_type": "code",
   "execution_count": 9,
   "metadata": {},
   "outputs": [],
   "source": [
    "#sort values and reset index\n",
    "df_national = df_national.sort_values(['Calendar_year','Week']).reset_index()\n",
    "df_national = df_national.drop('index', axis = 1)\n"
   ]
  },
  {
   "cell_type": "code",
   "execution_count": 10,
   "metadata": {},
   "outputs": [],
   "source": [
    "#bring in Population Dataframe\n",
    "df_population = pd.read_csv(\"data/population_df.csv\", index_col=0)"
   ]
  },
  {
   "cell_type": "code",
   "execution_count": 11,
   "metadata": {},
   "outputs": [],
   "source": [
    "#Merge National and Population DataFrame to get Population\n",
    "df_national_official = pd.merge(df_national, df_population,  how='left', \n",
    "                                left_on=['Area','Calendar_year'], right_on = ['Name','Calendar_year'])\n",
    "\n"
   ]
  },
  {
   "cell_type": "code",
   "execution_count": 12,
   "metadata": {},
   "outputs": [],
   "source": [
    "# Drop useless col and add Deaths per hund thou metric\n",
    "df_national_official = df_national_official.drop('Name', axis = 1)\n",
    "df_national_official['Deaths_per_hund_thou'] = df_national_official['Total_deaths'] / (df_national_official['Population']/100000)"
   ]
  },
  {
   "cell_type": "code",
   "execution_count": 14,
   "metadata": {},
   "outputs": [],
   "source": [
    "df_national_official['Percent_p'] = df_national_official['Num_pneumonia_deaths'] / df_national_official['Total_deaths']"
   ]
  },
  {
   "cell_type": "code",
   "execution_count": 16,
   "metadata": {},
   "outputs": [],
   "source": [
    "#save dataframe as csv file to be used in other files\n",
    "df_national_official.to_csv('data/national_cdc_pandas_df.csv')"
   ]
  },
  {
   "cell_type": "code",
   "execution_count": null,
   "metadata": {},
   "outputs": [],
   "source": []
  }
 ],
 "metadata": {
  "kernelspec": {
   "display_name": "Python 3",
   "language": "python",
   "name": "python3"
  },
  "language_info": {
   "codemirror_mode": {
    "name": "ipython",
    "version": 3
   },
   "file_extension": ".py",
   "mimetype": "text/x-python",
   "name": "python",
   "nbconvert_exporter": "python",
   "pygments_lexer": "ipython3",
   "version": "3.7.4"
  }
 },
 "nbformat": 4,
 "nbformat_minor": 2
}
